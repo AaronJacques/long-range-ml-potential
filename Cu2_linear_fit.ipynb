{
 "cells": [
  {
   "cell_type": "code",
   "execution_count": 1,
   "id": "d7201312-a5d6-4897-8298-1645292f3f4e",
   "metadata": {
    "ExecuteTime": {
     "end_time": "2023-11-07T09:35:27.025004600Z",
     "start_time": "2023-11-07T09:35:26.646219100Z"
    }
   },
   "outputs": [
    {
     "name": "stdout",
     "output_type": "stream",
     "text": [
      "%pylab is deprecated, use %matplotlib inline and import the required libraries.\n",
      "Populating the interactive namespace from numpy and matplotlib\n"
     ]
    }
   ],
   "source": [
    "%pylab inline"
   ]
  },
  {
   "cell_type": "code",
   "execution_count": 2,
   "id": "51a9240d-6b50-4c49-a9ce-65a96ed753c5",
   "metadata": {
    "ExecuteTime": {
     "end_time": "2023-11-07T09:35:27.557554Z",
     "start_time": "2023-11-07T09:35:27.025004600Z"
    }
   },
   "outputs": [],
   "source": [
    "import pandas as pd\n",
    "import numpy as np\n",
    "import matplotlib.pyplot as plt\n",
    "\n",
    "from pyace import *\n",
    "from pyace.linearacefit import LinearACEFit, LinearACEDataset\n",
    "from pyace.generalfit import GeneralACEFit"
   ]
  },
  {
   "cell_type": "code",
   "execution_count": 3,
   "id": "f05a0922-c1bd-4d89-bd9e-4ca6fb5c15f9",
   "metadata": {
    "ExecuteTime": {
     "end_time": "2023-11-07T09:35:27.635780100Z",
     "start_time": "2023-11-07T09:35:27.557554Z"
    }
   },
   "outputs": [],
   "source": [
    "df0=pd.read_pickle(\"./Datasets/Cu_df2_1k.pkl.gzip\", compression=\"gzip\")"
   ]
  },
  {
   "cell_type": "code",
   "execution_count": 4,
   "id": "16c211ad-7405-475d-a6e3-eb2dbc2dc577",
   "metadata": {
    "ExecuteTime": {
     "end_time": "2023-11-07T09:35:27.651926100Z",
     "start_time": "2023-11-07T09:35:27.635780100Z"
    }
   },
   "outputs": [
    {
     "data": {
      "text/plain": "(1000, 5)"
     },
     "execution_count": 4,
     "metadata": {},
     "output_type": "execute_result"
    }
   ],
   "source": [
    "df0.shape"
   ]
  },
  {
   "cell_type": "code",
   "execution_count": 5,
   "outputs": [
    {
     "data": {
      "text/plain": "                                                  name  \\\n0                  A1:FHI-aims/PBE/tight:elastic:s_e_0   \n1           A1:FHI-aims/PBE/tight:murnaghan:strain_1_0   \n2      A1:FHI-aims/PBE/tight:phonon:supercell_phonon_0   \n3          A1:FHI-aims/PBE/tight:murnaghan:strain_1_02   \n4    A1:FHI-aims/PBE/tight:qha:phonopy_strain_1_02:...   \n..                                                 ...   \n995                                             Zr4Al3   \n996              fcc_100surf_X110_Y-110_Z001_4at_d0.95   \n997                                          ran2.7197   \n998                            A15.shakesmallsuper2.14   \n999                   A15.shakesmallsuper2corrected.26   \n\n                                             ase_atoms  energy_corrected  \\\n0               (Atom('Cu', [0.0, 0.0, 0.0], index=0))         -3.699843   \n1               (Atom('Cu', [0.0, 0.0, 0.0], index=0))         -3.699841   \n2    (Atom('Cu', [4.3368086899420173e-19, 0.0070709...       -236.789603   \n3               (Atom('Cu', [0.0, 0.0, 0.0], index=0))         -3.697932   \n4    (Atom('Cu', [0.0, 0.007070999999999999, 0.0070...       -236.667372   \n..                                                 ...               ...   \n995  (Atom('Cu', [1.397, 0.806558, 0.0], index=0), ...        -18.922813   \n996  (Atom('Cu', [0.0, 0.0, 0.0], index=0), Atom('C...        -10.811770   \n997  (Atom('Cu', [0.0, 0.0, 0.0], index=0), Atom('C...         -5.405739   \n998  (Atom('Cu', [19.532944999999994, -0.449866, 19...       -172.952480   \n999  (Atom('Cu', [11.302489999999999, 10.996904, 10...       -172.848259   \n\n                                                forces  \\\n0                                    [[0.0, 0.0, 0.0]]   \n1                                    [[0.0, 0.0, 0.0]]   \n2    [[-1.13852957740976e-06, -0.0464638907314277, ...   \n3                                    [[0.0, 0.0, 0.0]]   \n4    [[-1.7950713845026e-06, -0.0426786586259085, -...   \n..                                                 ...   \n995  [[-6.18422096975777e-08, 3.90650715661433e-08,...   \n996  [[-4.30878346990838e-07, -7.31495829958533e-08...   \n997  [[-0.233777024216308, -0.488775610406501, 0.45...   \n998  [[0.872967501214253, 0.798687481685555, 0.8365...   \n999  [[-0.0565593911501715, 0.0441732952826791, 0.0...   \n\n     energy_corrected_per_atom  \n0                    -3.699843  \n1                    -3.699841  \n2                    -3.699838  \n3                    -3.697932  \n4                    -3.697928  \n..                         ...  \n995                  -2.703259  \n996                  -2.702942  \n997                  -2.702869  \n998                  -2.702382  \n999                  -2.700754  \n\n[1000 rows x 5 columns]",
      "text/html": "<div>\n<style scoped>\n    .dataframe tbody tr th:only-of-type {\n        vertical-align: middle;\n    }\n\n    .dataframe tbody tr th {\n        vertical-align: top;\n    }\n\n    .dataframe thead th {\n        text-align: right;\n    }\n</style>\n<table border=\"1\" class=\"dataframe\">\n  <thead>\n    <tr style=\"text-align: right;\">\n      <th></th>\n      <th>name</th>\n      <th>ase_atoms</th>\n      <th>energy_corrected</th>\n      <th>forces</th>\n      <th>energy_corrected_per_atom</th>\n    </tr>\n  </thead>\n  <tbody>\n    <tr>\n      <th>0</th>\n      <td>A1:FHI-aims/PBE/tight:elastic:s_e_0</td>\n      <td>(Atom('Cu', [0.0, 0.0, 0.0], index=0))</td>\n      <td>-3.699843</td>\n      <td>[[0.0, 0.0, 0.0]]</td>\n      <td>-3.699843</td>\n    </tr>\n    <tr>\n      <th>1</th>\n      <td>A1:FHI-aims/PBE/tight:murnaghan:strain_1_0</td>\n      <td>(Atom('Cu', [0.0, 0.0, 0.0], index=0))</td>\n      <td>-3.699841</td>\n      <td>[[0.0, 0.0, 0.0]]</td>\n      <td>-3.699841</td>\n    </tr>\n    <tr>\n      <th>2</th>\n      <td>A1:FHI-aims/PBE/tight:phonon:supercell_phonon_0</td>\n      <td>(Atom('Cu', [4.3368086899420173e-19, 0.0070709...</td>\n      <td>-236.789603</td>\n      <td>[[-1.13852957740976e-06, -0.0464638907314277, ...</td>\n      <td>-3.699838</td>\n    </tr>\n    <tr>\n      <th>3</th>\n      <td>A1:FHI-aims/PBE/tight:murnaghan:strain_1_02</td>\n      <td>(Atom('Cu', [0.0, 0.0, 0.0], index=0))</td>\n      <td>-3.697932</td>\n      <td>[[0.0, 0.0, 0.0]]</td>\n      <td>-3.697932</td>\n    </tr>\n    <tr>\n      <th>4</th>\n      <td>A1:FHI-aims/PBE/tight:qha:phonopy_strain_1_02:...</td>\n      <td>(Atom('Cu', [0.0, 0.007070999999999999, 0.0070...</td>\n      <td>-236.667372</td>\n      <td>[[-1.7950713845026e-06, -0.0426786586259085, -...</td>\n      <td>-3.697928</td>\n    </tr>\n    <tr>\n      <th>...</th>\n      <td>...</td>\n      <td>...</td>\n      <td>...</td>\n      <td>...</td>\n      <td>...</td>\n    </tr>\n    <tr>\n      <th>995</th>\n      <td>Zr4Al3</td>\n      <td>(Atom('Cu', [1.397, 0.806558, 0.0], index=0), ...</td>\n      <td>-18.922813</td>\n      <td>[[-6.18422096975777e-08, 3.90650715661433e-08,...</td>\n      <td>-2.703259</td>\n    </tr>\n    <tr>\n      <th>996</th>\n      <td>fcc_100surf_X110_Y-110_Z001_4at_d0.95</td>\n      <td>(Atom('Cu', [0.0, 0.0, 0.0], index=0), Atom('C...</td>\n      <td>-10.811770</td>\n      <td>[[-4.30878346990838e-07, -7.31495829958533e-08...</td>\n      <td>-2.702942</td>\n    </tr>\n    <tr>\n      <th>997</th>\n      <td>ran2.7197</td>\n      <td>(Atom('Cu', [0.0, 0.0, 0.0], index=0), Atom('C...</td>\n      <td>-5.405739</td>\n      <td>[[-0.233777024216308, -0.488775610406501, 0.45...</td>\n      <td>-2.702869</td>\n    </tr>\n    <tr>\n      <th>998</th>\n      <td>A15.shakesmallsuper2.14</td>\n      <td>(Atom('Cu', [19.532944999999994, -0.449866, 19...</td>\n      <td>-172.952480</td>\n      <td>[[0.872967501214253, 0.798687481685555, 0.8365...</td>\n      <td>-2.702382</td>\n    </tr>\n    <tr>\n      <th>999</th>\n      <td>A15.shakesmallsuper2corrected.26</td>\n      <td>(Atom('Cu', [11.302489999999999, 10.996904, 10...</td>\n      <td>-172.848259</td>\n      <td>[[-0.0565593911501715, 0.0441732952826791, 0.0...</td>\n      <td>-2.700754</td>\n    </tr>\n  </tbody>\n</table>\n<p>1000 rows × 5 columns</p>\n</div>"
     },
     "execution_count": 5,
     "metadata": {},
     "output_type": "execute_result"
    }
   ],
   "source": [
    "df0"
   ],
   "metadata": {
    "collapsed": false,
    "ExecuteTime": {
     "end_time": "2023-11-07T09:35:27.714441100Z",
     "start_time": "2023-11-07T09:35:27.651926100Z"
    }
   },
   "id": "a6647de695dc4467"
  },
  {
   "cell_type": "markdown",
   "source": [
    "<dl>\n",
    "<dt>Columns have the following meaning:</dt>\n",
    "<ul>\n",
    "<li><strong>ase_atoms:</strong> is the instance of the ASE Atoms class. This is the main form of storing structural information that pacemaker relies on. It must contain information about atomic positions, corresponding atom types, pbc and lattice vectors.</li>\n",
    "<li><strong>energy_corrected:</strong> total energy of the corresponding ase_atoms structure (in eV) minus a reference energy.</li>\n",
    "<li><strong>forces:</strong> corresponding atomic forces in the form of 2D array with dimensions [NumberOfAtoms, 3] (in eV/A).</li>\n",
    "<li><strong>energy_corrected_per_atom:</strong> energy per atom minus a reference energy.</li>\n",
    "</ul>\n",
    "</dl>"
   ],
   "metadata": {
    "collapsed": false
   },
   "id": "30bf972879c59085"
  },
  {
   "cell_type": "code",
   "execution_count": 6,
   "outputs": [
    {
     "data": {
      "text/plain": "0                 (Atom('Cu', [0.0, 0.0, 0.0], index=0))\n1                 (Atom('Cu', [0.0, 0.0, 0.0], index=0))\n2      (Atom('Cu', [4.3368086899420173e-19, 0.0070709...\n3                 (Atom('Cu', [0.0, 0.0, 0.0], index=0))\n4      (Atom('Cu', [0.0, 0.007070999999999999, 0.0070...\n                             ...                        \n995    (Atom('Cu', [1.397, 0.806558, 0.0], index=0), ...\n996    (Atom('Cu', [0.0, 0.0, 0.0], index=0), Atom('C...\n997    (Atom('Cu', [0.0, 0.0, 0.0], index=0), Atom('C...\n998    (Atom('Cu', [19.532944999999994, -0.449866, 19...\n999    (Atom('Cu', [11.302489999999999, 10.996904, 10...\nName: ase_atoms, Length: 1000, dtype: object"
     },
     "execution_count": 6,
     "metadata": {},
     "output_type": "execute_result"
    }
   ],
   "source": [
    "df0[\"ase_atoms\"]"
   ],
   "metadata": {
    "collapsed": false,
    "ExecuteTime": {
     "end_time": "2023-11-07T09:35:27.730068Z",
     "start_time": "2023-11-07T09:35:27.714441100Z"
    }
   },
   "id": "e98fc0fdeb20b92d"
  },
  {
   "cell_type": "code",
   "execution_count": 7,
   "id": "350ee94e-e0a9-4c2f-866d-fb1de461a864",
   "metadata": {
    "ExecuteTime": {
     "end_time": "2023-11-07T09:35:27.779669300Z",
     "start_time": "2023-11-07T09:35:27.730068Z"
    }
   },
   "outputs": [
    {
     "data": {
      "text/plain": "11309"
     },
     "execution_count": 7,
     "metadata": {},
     "output_type": "execute_result"
    }
   ],
   "source": [
    "df0[\"ase_atoms\"].map(len).sum()"
   ]
  },
  {
   "cell_type": "code",
   "execution_count": 48,
   "id": "c6929de6-7281-44b4-be06-4f86e96dba77",
   "metadata": {
    "ExecuteTime": {
     "end_time": "2023-11-07T09:52:07.409765800Z",
     "start_time": "2023-11-07T09:52:07.320481Z"
    }
   },
   "outputs": [],
   "source": [
    "# split 95% train, 5% test\n",
    "df_train = df0.sample(frac=0.95, random_state=42)\n",
    "df_test = df0.loc[(i for i in df0.index if i not in df_train.index)]"
   ]
  },
  {
   "cell_type": "code",
   "execution_count": 28,
   "id": "60e1ee33-7a7b-45ab-a7a0-3d7c71bb70f2",
   "metadata": {
    "ExecuteTime": {
     "end_time": "2023-11-07T09:45:53.587006600Z",
     "start_time": "2023-11-07T09:45:53.555374800Z"
    }
   },
   "outputs": [
    {
     "data": {
      "text/plain": "(950, 50)"
     },
     "execution_count": 28,
     "metadata": {},
     "output_type": "execute_result"
    }
   ],
   "source": [
    "len(df_train), len(df_test)"
   ]
  },
  {
   "cell_type": "code",
   "execution_count": 29,
   "id": "f03cdfd1-66c8-4547-ba45-4c24b3d06184",
   "metadata": {
    "ExecuteTime": {
     "end_time": "2023-11-07T09:45:55.416558600Z",
     "start_time": "2023-11-07T09:45:55.290904800Z"
    }
   },
   "outputs": [],
   "source": [
    "# Create empty bbasis configuration\n",
    "bconf = create_multispecies_basis_config(potential_config = {\n",
    "  \"deltaSplineBins\": 0.001,\n",
    "  \"elements\": ['Cu'],\n",
    "\n",
    "  \"embeddings\": {\n",
    "    \"ALL\": {\n",
    "      \"npot\": 'FinnisSinclairShiftedScaled',\n",
    "      \"fs_parameters\": [ 1, 1],\n",
    "      \"ndensity\": 1,\n",
    "    },\n",
    "  },\n",
    "\n",
    "  \"bonds\": {\n",
    "    \"ALL\": {\n",
    "      \"radbase\": \"SBessel\",\n",
    "      \"radparameters\": [ 5.25 ],\n",
    "      \"rcut\": 6,\n",
    "      \"dcut\": 0.01,\n",
    "    }\n",
    "  },\n",
    "\n",
    "  \"functions\": {\n",
    "    # \"number_of_functions_per_element\": 1000,\n",
    "    \"ALL\": {\n",
    "        \"nradmax_by_orders\": [ 8, 8, 4, 3,2],\n",
    "        \"lmax_by_orders\"   : [ 0, 4, 3, 2,1] }\n",
    "  }\n",
    "})"
   ]
  },
  {
   "cell_type": "code",
   "execution_count": 30,
   "id": "5ba2065c-a85a-43f3-b08a-1207864d2feb",
   "metadata": {
    "ExecuteTime": {
     "end_time": "2023-11-07T09:45:57.892831100Z",
     "start_time": "2023-11-07T09:45:57.876705400Z"
    }
   },
   "outputs": [
    {
     "data": {
      "text/plain": "822"
     },
     "execution_count": 30,
     "metadata": {},
     "output_type": "execute_result"
    }
   ],
   "source": [
    "bconf.total_number_of_functions"
   ]
  },
  {
   "cell_type": "markdown",
   "id": "a0a0d9f3-f128-46c4-bb44-371364d9b40e",
   "metadata": {},
   "source": [
    "# Prepare linear ACE dataset"
   ]
  },
  {
   "cell_type": "code",
   "execution_count": 31,
   "id": "7383bd4d-70f1-4080-814c-cb56cd4451a6",
   "metadata": {
    "ExecuteTime": {
     "end_time": "2023-11-07T09:46:01.318159400Z",
     "start_time": "2023-11-07T09:46:00.993886700Z"
    }
   },
   "outputs": [],
   "source": [
    "train_ds = LinearACEDataset(bconf, df_train)"
   ]
  },
  {
   "cell_type": "code",
   "execution_count": 32,
   "id": "d94ac431-7007-48c6-bbe1-329d906d252f",
   "metadata": {
    "ExecuteTime": {
     "end_time": "2023-11-07T09:46:02.889886400Z",
     "start_time": "2023-11-07T09:46:02.858646Z"
    }
   },
   "outputs": [],
   "source": [
    "test_ds = LinearACEDataset(bconf, df_test)"
   ]
  },
  {
   "cell_type": "markdown",
   "id": "397d356d-590b-4fef-b9ff-4a5360375e13",
   "metadata": {
    "tags": []
   },
   "source": [
    "Construct design matrix for train and test, by default - in parallel with 4 workers/processes. \n",
    "Set verbose=False to suppress output"
   ]
  },
  {
   "cell_type": "code",
   "execution_count": 33,
   "id": "a74a9838-c5e6-4594-8c0e-40e182bd4d8f",
   "metadata": {
    "ExecuteTime": {
     "end_time": "2023-11-07T09:46:15.597151300Z",
     "start_time": "2023-11-07T09:46:04.701976800Z"
    }
   },
   "outputs": [],
   "source": [
    "train_ds.construct_design_matrix(verbose=True)\n",
    "test_ds.construct_design_matrix(verbose=True)"
   ]
  },
  {
   "cell_type": "markdown",
   "id": "3f6ab6b1-8fe7-467b-8cfb-14e91155fdaa",
   "metadata": {},
   "source": [
    "Create linear ACE fit class, provide train dataset"
   ]
  },
  {
   "cell_type": "code",
   "execution_count": 34,
   "id": "4f719ff9-434d-489d-863a-771ce983ae48",
   "metadata": {
    "ExecuteTime": {
     "end_time": "2023-11-07T09:46:18.708840800Z",
     "start_time": "2023-11-07T09:46:18.693219500Z"
    }
   },
   "outputs": [],
   "source": [
    "linear_fit = LinearACEFit(train_dataset=train_ds)"
   ]
  },
  {
   "cell_type": "markdown",
   "id": "f9d2cc9d-547f-4d98-9040-b814b2044db0",
   "metadata": {},
   "source": [
    "Call fit method, by default it use Ridge from sklearn"
   ]
  },
  {
   "cell_type": "code",
   "execution_count": 35,
   "id": "e68ccce5-0530-45b9-8788-522f1a366088",
   "metadata": {
    "ExecuteTime": {
     "end_time": "2023-11-07T09:46:20.987383100Z",
     "start_time": "2023-11-07T09:46:20.814823100Z"
    }
   },
   "outputs": [
    {
     "data": {
      "text/plain": "Ridge(alpha=1e-05, copy_X=False, fit_intercept=False, random_state=42)",
      "text/html": "<style>#sk-container-id-4 {color: black;}#sk-container-id-4 pre{padding: 0;}#sk-container-id-4 div.sk-toggleable {background-color: white;}#sk-container-id-4 label.sk-toggleable__label {cursor: pointer;display: block;width: 100%;margin-bottom: 0;padding: 0.3em;box-sizing: border-box;text-align: center;}#sk-container-id-4 label.sk-toggleable__label-arrow:before {content: \"▸\";float: left;margin-right: 0.25em;color: #696969;}#sk-container-id-4 label.sk-toggleable__label-arrow:hover:before {color: black;}#sk-container-id-4 div.sk-estimator:hover label.sk-toggleable__label-arrow:before {color: black;}#sk-container-id-4 div.sk-toggleable__content {max-height: 0;max-width: 0;overflow: hidden;text-align: left;background-color: #f0f8ff;}#sk-container-id-4 div.sk-toggleable__content pre {margin: 0.2em;color: black;border-radius: 0.25em;background-color: #f0f8ff;}#sk-container-id-4 input.sk-toggleable__control:checked~div.sk-toggleable__content {max-height: 200px;max-width: 100%;overflow: auto;}#sk-container-id-4 input.sk-toggleable__control:checked~label.sk-toggleable__label-arrow:before {content: \"▾\";}#sk-container-id-4 div.sk-estimator input.sk-toggleable__control:checked~label.sk-toggleable__label {background-color: #d4ebff;}#sk-container-id-4 div.sk-label input.sk-toggleable__control:checked~label.sk-toggleable__label {background-color: #d4ebff;}#sk-container-id-4 input.sk-hidden--visually {border: 0;clip: rect(1px 1px 1px 1px);clip: rect(1px, 1px, 1px, 1px);height: 1px;margin: -1px;overflow: hidden;padding: 0;position: absolute;width: 1px;}#sk-container-id-4 div.sk-estimator {font-family: monospace;background-color: #f0f8ff;border: 1px dotted black;border-radius: 0.25em;box-sizing: border-box;margin-bottom: 0.5em;}#sk-container-id-4 div.sk-estimator:hover {background-color: #d4ebff;}#sk-container-id-4 div.sk-parallel-item::after {content: \"\";width: 100%;border-bottom: 1px solid gray;flex-grow: 1;}#sk-container-id-4 div.sk-label:hover label.sk-toggleable__label {background-color: #d4ebff;}#sk-container-id-4 div.sk-serial::before {content: \"\";position: absolute;border-left: 1px solid gray;box-sizing: border-box;top: 0;bottom: 0;left: 50%;z-index: 0;}#sk-container-id-4 div.sk-serial {display: flex;flex-direction: column;align-items: center;background-color: white;padding-right: 0.2em;padding-left: 0.2em;position: relative;}#sk-container-id-4 div.sk-item {position: relative;z-index: 1;}#sk-container-id-4 div.sk-parallel {display: flex;align-items: stretch;justify-content: center;background-color: white;position: relative;}#sk-container-id-4 div.sk-item::before, #sk-container-id-4 div.sk-parallel-item::before {content: \"\";position: absolute;border-left: 1px solid gray;box-sizing: border-box;top: 0;bottom: 0;left: 50%;z-index: -1;}#sk-container-id-4 div.sk-parallel-item {display: flex;flex-direction: column;z-index: 1;position: relative;background-color: white;}#sk-container-id-4 div.sk-parallel-item:first-child::after {align-self: flex-end;width: 50%;}#sk-container-id-4 div.sk-parallel-item:last-child::after {align-self: flex-start;width: 50%;}#sk-container-id-4 div.sk-parallel-item:only-child::after {width: 0;}#sk-container-id-4 div.sk-dashed-wrapped {border: 1px dashed gray;margin: 0 0.4em 0.5em 0.4em;box-sizing: border-box;padding-bottom: 0.4em;background-color: white;}#sk-container-id-4 div.sk-label label {font-family: monospace;font-weight: bold;display: inline-block;line-height: 1.2em;}#sk-container-id-4 div.sk-label-container {text-align: center;}#sk-container-id-4 div.sk-container {/* jupyter's `normalize.less` sets `[hidden] { display: none; }` but bootstrap.min.css set `[hidden] { display: none !important; }` so we also need the `!important` here to be able to override the default hidden behavior on the sphinx rendered scikit-learn.org. See: https://github.com/scikit-learn/scikit-learn/issues/21755 */display: inline-block !important;position: relative;}#sk-container-id-4 div.sk-text-repr-fallback {display: none;}</style><div id=\"sk-container-id-4\" class=\"sk-top-container\"><div class=\"sk-text-repr-fallback\"><pre>Ridge(alpha=1e-05, copy_X=False, fit_intercept=False, random_state=42)</pre><b>In a Jupyter environment, please rerun this cell to show the HTML representation or trust the notebook. <br />On GitHub, the HTML representation is unable to render, please try loading this page with nbviewer.org.</b></div><div class=\"sk-container\" hidden><div class=\"sk-item\"><div class=\"sk-estimator sk-toggleable\"><input class=\"sk-toggleable__control sk-hidden--visually\" id=\"sk-estimator-id-4\" type=\"checkbox\" checked><label for=\"sk-estimator-id-4\" class=\"sk-toggleable__label sk-toggleable__label-arrow\">Ridge</label><div class=\"sk-toggleable__content\"><pre>Ridge(alpha=1e-05, copy_X=False, fit_intercept=False, random_state=42)</pre></div></div></div></div></div>"
     },
     "execution_count": 35,
     "metadata": {},
     "output_type": "execute_result"
    }
   ],
   "source": [
    "linear_fit.fit()"
   ]
  },
  {
   "cell_type": "markdown",
   "id": "2fda6cff-481f-46a3-b58e-a4a2d0630b8c",
   "metadata": {},
   "source": [
    "Compute error metrics on train and test (in eV/atom and eV/A)"
   ]
  },
  {
   "cell_type": "code",
   "execution_count": 36,
   "id": "1206045a-9261-4899-8d98-8ad7c6bb124b",
   "metadata": {
    "ExecuteTime": {
     "end_time": "2023-11-07T09:46:24.862890100Z",
     "start_time": "2023-11-07T09:46:24.815584100Z"
    }
   },
   "outputs": [
    {
     "data": {
      "text/plain": "{'epa_mae': 3.3209504062294197,\n 'epa_rmse': 3.3337136659560076,\n 'f_comp_mae': 0.25344754386210955,\n 'f_comp_rmse': 0.7537146812385023}"
     },
     "execution_count": 36,
     "metadata": {},
     "output_type": "execute_result"
    }
   ],
   "source": [
    "linear_fit.compute_errors(train_ds)"
   ]
  },
  {
   "cell_type": "code",
   "execution_count": 37,
   "id": "79c26aeb-c475-4f77-b73c-d506bbc68ccc",
   "metadata": {
    "ExecuteTime": {
     "end_time": "2023-11-07T09:46:27.189860600Z",
     "start_time": "2023-11-07T09:46:27.158583700Z"
    }
   },
   "outputs": [
    {
     "data": {
      "text/plain": "{'epa_mae': 3.311518097661182,\n 'epa_rmse': 3.3245661379724116,\n 'f_comp_mae': 0.20128637475842273,\n 'f_comp_rmse': 0.9995089916491627}"
     },
     "execution_count": 37,
     "metadata": {},
     "output_type": "execute_result"
    }
   ],
   "source": [
    "linear_fit.compute_errors(test_ds)"
   ]
  },
  {
   "cell_type": "markdown",
   "source": [],
   "metadata": {
    "collapsed": false
   },
   "id": "c96b28cb6ea764ba"
  },
  {
   "cell_type": "markdown",
   "id": "004d3530-70de-474d-9ef9-df3599450306",
   "metadata": {},
   "source": [
    "## Trained basis export and usage"
   ]
  },
  {
   "cell_type": "markdown",
   "id": "4cccc8a0-d554-41a2-9036-a2281ff44ccd",
   "metadata": {},
   "source": [
    "Get fitted basis and use in PyACECalculator"
   ]
  },
  {
   "cell_type": "code",
   "execution_count": 38,
   "id": "ddca06e8-7d3b-4521-a0cd-db41b067646b",
   "metadata": {
    "ExecuteTime": {
     "end_time": "2023-11-07T09:48:42.577865100Z",
     "start_time": "2023-11-07T09:48:42.530998100Z"
    }
   },
   "outputs": [],
   "source": [
    "basis = linear_fit.get_bbasis()"
   ]
  },
  {
   "cell_type": "code",
   "execution_count": 39,
   "id": "4815a650-2594-4718-8da3-bafc808461ff",
   "metadata": {
    "ExecuteTime": {
     "end_time": "2023-11-07T09:48:44.156479500Z",
     "start_time": "2023-11-07T09:48:44.046730800Z"
    }
   },
   "outputs": [],
   "source": [
    "calc = PyACECalculator(basis)"
   ]
  },
  {
   "cell_type": "code",
   "execution_count": 47,
   "id": "0a8667cb-eba1-4e5f-8a86-b32b0effd69e",
   "metadata": {
    "tags": [],
    "ExecuteTime": {
     "end_time": "2023-11-07T09:51:19.397131Z",
     "start_time": "2023-11-07T09:51:19.130323800Z"
    }
   },
   "outputs": [
    {
     "data": {
      "text/plain": "array([[0., 0., 0.],\n       [0., 0., 0.],\n       [0., 0., 0.],\n       ...,\n       [0., 0., 0.],\n       [0., 0., 0.],\n       [0., 0., 0.]])"
     },
     "execution_count": 47,
     "metadata": {},
     "output_type": "execute_result"
    }
   ],
   "source": [
    "e_pred,f_pred = linear_fit.predict(test_ds, reshape_forces=True)"
   ]
  },
  {
   "cell_type": "code",
   "execution_count": 46,
   "id": "83c8c977-fc96-45dd-a406-17f3823d984a",
   "metadata": {
    "ExecuteTime": {
     "end_time": "2023-11-07T09:49:32.791138800Z",
     "start_time": "2023-11-07T09:49:32.539969700Z"
    }
   },
   "outputs": [
    {
     "data": {
      "text/plain": "Atoms(symbols='Cu', pbc=True, cell=[[0.0, 1.815377, 1.815377], [1.815377, 0.0, 1.815377], [1.815377, 1.815377, 0.0]])"
     },
     "execution_count": 46,
     "metadata": {},
     "output_type": "execute_result"
    }
   ],
   "source": [
    "# take first  ase_atoms\n",
    "at = df_test.iloc[0][\"ase_atoms\"].copy()\n",
    "at"
   ]
  },
  {
   "cell_type": "code",
   "execution_count": 42,
   "id": "ffe11455-fa67-4b8f-b11d-df28f31c781d",
   "metadata": {
    "ExecuteTime": {
     "end_time": "2023-11-07T09:48:49.129677600Z",
     "start_time": "2023-11-07T09:48:49.066800300Z"
    }
   },
   "outputs": [],
   "source": [
    "at.set_calculator(calc)"
   ]
  },
  {
   "cell_type": "code",
   "execution_count": 43,
   "id": "7394daab-1c51-435f-9a16-3b3573ecc3a1",
   "metadata": {
    "ExecuteTime": {
     "end_time": "2023-11-07T09:48:50.922472500Z",
     "start_time": "2023-11-07T09:48:50.780413800Z"
    }
   },
   "outputs": [
    {
     "name": "stderr",
     "output_type": "stream",
     "text": [
      "G:\\Uni\\Master Physik\\Masterarbeit\\Repo\\long-range-ml-potential\\venv\\lib\\site-packages\\ase\\utils\\__init__.py:62: FutureWarning: Please use atoms.cell.rank instead\n",
      "  warnings.warn(warning)\n"
     ]
    },
    {
     "data": {
      "text/plain": "0.0"
     },
     "execution_count": 43,
     "metadata": {},
     "output_type": "execute_result"
    }
   ],
   "source": [
    "at.get_potential_energy()"
   ]
  },
  {
   "cell_type": "markdown",
   "id": "26172235-56f3-4cd5-a279-76d34ffde8ad",
   "metadata": {},
   "source": [
    "Compare PyACECalculator predictions with LinearFit predictions"
   ]
  },
  {
   "cell_type": "code",
   "execution_count": 44,
   "id": "04aa5f5b-85d4-4ffe-b41b-a51a21d37b34",
   "metadata": {
    "ExecuteTime": {
     "end_time": "2023-11-07T09:49:00.778723400Z",
     "start_time": "2023-11-07T09:49:00.734969400Z"
    }
   },
   "outputs": [
    {
     "data": {
      "text/plain": "True"
     },
     "execution_count": 44,
     "metadata": {},
     "output_type": "execute_result"
    }
   ],
   "source": [
    "np.allclose(at.get_potential_energy()/len(at),e_pred[0])"
   ]
  },
  {
   "cell_type": "code",
   "execution_count": 33,
   "id": "2681d084-999e-4e82-9085-28ed57cb1470",
   "metadata": {
    "ExecuteTime": {
     "end_time": "2023-11-06T09:17:01.173441400Z",
     "start_time": "2023-11-06T09:17:01.142279900Z"
    }
   },
   "outputs": [
    {
     "data": {
      "text/plain": "True"
     },
     "execution_count": 33,
     "metadata": {},
     "output_type": "execute_result"
    }
   ],
   "source": [
    "np.allclose(at.get_forces(),f_pred[:len(at)])"
   ]
  },
  {
   "cell_type": "code",
   "execution_count": null,
   "id": "9b139126-e748-4bdb-a596-a9c41bc77ff6",
   "metadata": {},
   "outputs": [],
   "source": []
  },
  {
   "cell_type": "markdown",
   "id": "5ef68040-c458-4c8f-9fcb-e58e57554c9d",
   "metadata": {},
   "source": [
    "# Manual design matrix manipulation and fit"
   ]
  },
  {
   "cell_type": "code",
   "execution_count": 36,
   "id": "e801d7c3-ff05-4f33-a58d-336a185166b3",
   "metadata": {
    "ExecuteTime": {
     "end_time": "2023-11-06T09:29:24.884177200Z",
     "start_time": "2023-11-06T09:29:24.821150400Z"
    }
   },
   "outputs": [],
   "source": [
    "from sklearn.linear_model import Ridge\n",
    "from sklearn.decomposition import PCA"
   ]
  },
  {
   "cell_type": "markdown",
   "id": "aa5e6f9e-218d-46d1-8b57-594f24190268",
   "metadata": {},
   "source": [
    "Get design matrix explicitly"
   ]
  },
  {
   "cell_type": "code",
   "execution_count": 37,
   "id": "3f09d1c2-9c5a-4081-856f-0b01be57142c",
   "metadata": {
    "ExecuteTime": {
     "end_time": "2023-11-06T09:29:52.989633500Z",
     "start_time": "2023-11-06T09:29:52.958275600Z"
    }
   },
   "outputs": [],
   "source": [
    "train_dm = train_ds.get_design_matrix()"
   ]
  },
  {
   "cell_type": "markdown",
   "id": "ea9fd0a0-92da-459e-b4fa-54f7a1d62245",
   "metadata": {},
   "source": [
    "Size of design matrix is  n_structures + 3 * n_atoms  by n_func.\n",
    "\n",
    "First n_structures row correspond to summed up B-basis projections for each structure, divided by size of corresponding structure\n",
    "\n",
    "Remaining 3 * n_atoms rows are corresponding x-,y- and z-force components for each atom"
   ]
  },
  {
   "cell_type": "code",
   "execution_count": 38,
   "id": "5bc88b08-7f49-41b4-9b5f-803429f3935d",
   "metadata": {
    "ExecuteTime": {
     "end_time": "2023-11-06T09:29:55.957682400Z",
     "start_time": "2023-11-06T09:29:55.942062600Z"
    }
   },
   "outputs": [
    {
     "data": {
      "text/plain": "(33590, 822)"
     },
     "execution_count": 38,
     "metadata": {},
     "output_type": "execute_result"
    }
   ],
   "source": [
    "train_dm.shape"
   ]
  },
  {
   "cell_type": "markdown",
   "id": "98233fdd-2a35-47e0-a827-3911f0da8438",
   "metadata": {},
   "source": [
    "Get target vector explicitly"
   ]
  },
  {
   "cell_type": "code",
   "execution_count": 39,
   "id": "59ffb228-e015-44a7-82dc-6ea743c1702f",
   "metadata": {
    "ExecuteTime": {
     "end_time": "2023-11-06T09:30:00.022348300Z",
     "start_time": "2023-11-06T09:30:00.003710900Z"
    }
   },
   "outputs": [],
   "source": [
    "train_y = train_ds.get_target_vector()"
   ]
  },
  {
   "cell_type": "markdown",
   "id": "3332a868-2399-4116-90cf-51cbc2f536b7",
   "metadata": {},
   "source": [
    "Size of design matrix is  n_structures + 3 * n_atoms  by n_func\n",
    "\n",
    "First n_structures row correspond to energy-per-atom each structure\n",
    "\n",
    "Remaining 3 * n_atoms rows are corresponding x-,y- and z-force components for each atoms"
   ]
  },
  {
   "cell_type": "code",
   "execution_count": 40,
   "id": "6e38d927-7160-4998-bec9-958169fe9131",
   "metadata": {
    "ExecuteTime": {
     "end_time": "2023-11-06T09:30:06.881017400Z",
     "start_time": "2023-11-06T09:30:06.849744100Z"
    }
   },
   "outputs": [
    {
     "data": {
      "text/plain": "(33590,)"
     },
     "execution_count": 40,
     "metadata": {},
     "output_type": "execute_result"
    }
   ],
   "source": [
    "train_y.shape"
   ]
  },
  {
   "cell_type": "code",
   "execution_count": 41,
   "id": "378589b6-ab1b-4f16-81cd-cee5d5034680",
   "metadata": {
    "ExecuteTime": {
     "end_time": "2023-11-06T09:30:17.930020700Z",
     "start_time": "2023-11-06T09:30:17.914358300Z"
    }
   },
   "outputs": [
    {
     "data": {
      "text/plain": "33590"
     },
     "execution_count": 41,
     "metadata": {},
     "output_type": "execute_result"
    }
   ],
   "source": [
    "train_ds.total_number_of_structures + 3* train_ds.total_number_of_atoms"
   ]
  },
  {
   "cell_type": "code",
   "execution_count": 42,
   "id": "ac442843-3a73-429e-b5b6-f8cfd4665d93",
   "metadata": {
    "ExecuteTime": {
     "end_time": "2023-11-06T09:30:20.165664800Z",
     "start_time": "2023-11-06T09:30:20.149627400Z"
    }
   },
   "outputs": [],
   "source": [
    "B_funcs = train_dm[:train_ds.total_number_of_structures]"
   ]
  },
  {
   "cell_type": "code",
   "execution_count": 43,
   "id": "446a7c86-859e-403d-9c7f-3d4d5bb6c946",
   "metadata": {
    "ExecuteTime": {
     "end_time": "2023-11-06T09:30:22.486038500Z",
     "start_time": "2023-11-06T09:30:22.470386500Z"
    }
   },
   "outputs": [],
   "source": [
    "B_grad_funcs = train_dm[train_ds.total_number_of_structures:]"
   ]
  },
  {
   "cell_type": "markdown",
   "id": "e1c93c95-4049-4c61-9805-ac20ae2e021d",
   "metadata": {},
   "source": [
    "## Visualization of design matrix features (B-func and B-func grad)"
   ]
  },
  {
   "cell_type": "code",
   "execution_count": 47,
   "id": "b1945f4a-4fff-4272-ae19-70cefe1a58a8",
   "metadata": {
    "ExecuteTime": {
     "end_time": "2023-11-06T09:30:53.129197200Z",
     "start_time": "2023-11-06T09:30:52.956354800Z"
    }
   },
   "outputs": [
    {
     "name": "stderr",
     "output_type": "stream",
     "text": [
      "C:\\Users\\Aaron\\AppData\\Local\\Temp\\ipykernel_15756\\226716087.py:4: UserWarning: Data has no positive values, and therefore cannot be log-scaled.\n",
      "  plt.yscale('log')\n"
     ]
    },
    {
     "data": {
      "text/plain": "Text(0, 0.5, 'B-func spread (max-min)')"
     },
     "execution_count": 47,
     "metadata": {},
     "output_type": "execute_result"
    },
    {
     "data": {
      "text/plain": "<Figure size 640x480 with 1 Axes>",
      "image/png": "[encoded data removed]"
     },
     "metadata": {},
     "output_type": "display_data"
    }
   ],
   "source": [
    "B_funcs_spread = B_funcs.max(axis=0)-B_funcs.min(axis=0)\n",
    "\n",
    "plt.plot(B_funcs_spread)\n",
    "plt.yscale('log')\n",
    "plt.xlabel(\"B-func index\")\n",
    "plt.ylabel(\"B-func spread (max-min)\")"
   ]
  },
  {
   "cell_type": "code",
   "execution_count": 46,
   "id": "4d87e6bd-bfac-4e58-a980-d3bc9cd7777c",
   "metadata": {
    "ExecuteTime": {
     "end_time": "2023-11-06T09:30:34.649508Z",
     "start_time": "2023-11-06T09:30:34.445567200Z"
    }
   },
   "outputs": [
    {
     "name": "stderr",
     "output_type": "stream",
     "text": [
      "C:\\Users\\Aaron\\AppData\\Local\\Temp\\ipykernel_15756\\712541126.py:4: UserWarning: Data has no positive values, and therefore cannot be log-scaled.\n",
      "  plt.yscale('log');\n"
     ]
    },
    {
     "data": {
      "text/plain": "Text(0, 0.5, 'B-grad-func spread (max-min)')"
     },
     "execution_count": 46,
     "metadata": {},
     "output_type": "execute_result"
    },
    {
     "data": {
      "text/plain": "<Figure size 640x480 with 1 Axes>",
      "image/png": "[encoded data removed]"
     },
     "metadata": {},
     "output_type": "display_data"
    }
   ],
   "source": [
    "B_grad_funcs_spread = B_grad_funcs.max(axis=0)-B_grad_funcs.min(axis=0)\n",
    "\n",
    "plt.plot(B_grad_funcs_spread)\n",
    "plt.yscale('log')\n",
    "plt.xlabel(\"B-grad-func index\")\n",
    "plt.ylabel(\"B-grad-func spread (max-min)\")"
   ]
  },
  {
   "cell_type": "code",
   "execution_count": null,
   "id": "46a7d7a7-f1bd-43db-a2f2-f0741e58e3c1",
   "metadata": {},
   "outputs": [],
   "source": []
  },
  {
   "cell_type": "markdown",
   "id": "d5ad0c93-5ea7-4d65-b5e0-5e0a54f7cfe0",
   "metadata": {},
   "source": [
    "## Create linear model manually"
   ]
  },
  {
   "cell_type": "markdown",
   "id": "e959282d-f513-4dd7-a59c-f91c9f762b41",
   "metadata": {},
   "source": [
    "Create Ridge model"
   ]
  },
  {
   "cell_type": "code",
   "execution_count": 48,
   "id": "410de47b-0a90-4f3b-93f5-c23215736d55",
   "metadata": {
    "ExecuteTime": {
     "end_time": "2023-11-06T09:31:04.852538100Z",
     "start_time": "2023-11-06T09:31:04.821202Z"
    }
   },
   "outputs": [],
   "source": [
    "model = Ridge(alpha=1e-10, fit_intercept=False, copy_X=False, random_state=42, solver=\"auto\")"
   ]
  },
  {
   "cell_type": "code",
   "execution_count": 49,
   "id": "56234596-cd64-47e0-96d3-ecc7e35abec0",
   "metadata": {
    "ExecuteTime": {
     "end_time": "2023-11-06T09:31:07.276459100Z",
     "start_time": "2023-11-06T09:31:07.114242800Z"
    }
   },
   "outputs": [
    {
     "data": {
      "text/plain": "Ridge(alpha=1e-10, copy_X=False, fit_intercept=False, random_state=42)",
      "text/html": "<style>#sk-container-id-2 {color: black;}#sk-container-id-2 pre{padding: 0;}#sk-container-id-2 div.sk-toggleable {background-color: white;}#sk-container-id-2 label.sk-toggleable__label {cursor: pointer;display: block;width: 100%;margin-bottom: 0;padding: 0.3em;box-sizing: border-box;text-align: center;}#sk-container-id-2 label.sk-toggleable__label-arrow:before {content: \"▸\";float: left;margin-right: 0.25em;color: #696969;}#sk-container-id-2 label.sk-toggleable__label-arrow:hover:before {color: black;}#sk-container-id-2 div.sk-estimator:hover label.sk-toggleable__label-arrow:before {color: black;}#sk-container-id-2 div.sk-toggleable__content {max-height: 0;max-width: 0;overflow: hidden;text-align: left;background-color: #f0f8ff;}#sk-container-id-2 div.sk-toggleable__content pre {margin: 0.2em;color: black;border-radius: 0.25em;background-color: #f0f8ff;}#sk-container-id-2 input.sk-toggleable__control:checked~div.sk-toggleable__content {max-height: 200px;max-width: 100%;overflow: auto;}#sk-container-id-2 input.sk-toggleable__control:checked~label.sk-toggleable__label-arrow:before {content: \"▾\";}#sk-container-id-2 div.sk-estimator input.sk-toggleable__control:checked~label.sk-toggleable__label {background-color: #d4ebff;}#sk-container-id-2 div.sk-label input.sk-toggleable__control:checked~label.sk-toggleable__label {background-color: #d4ebff;}#sk-container-id-2 input.sk-hidden--visually {border: 0;clip: rect(1px 1px 1px 1px);clip: rect(1px, 1px, 1px, 1px);height: 1px;margin: -1px;overflow: hidden;padding: 0;position: absolute;width: 1px;}#sk-container-id-2 div.sk-estimator {font-family: monospace;background-color: #f0f8ff;border: 1px dotted black;border-radius: 0.25em;box-sizing: border-box;margin-bottom: 0.5em;}#sk-container-id-2 div.sk-estimator:hover {background-color: #d4ebff;}#sk-container-id-2 div.sk-parallel-item::after {content: \"\";width: 100%;border-bottom: 1px solid gray;flex-grow: 1;}#sk-container-id-2 div.sk-label:hover label.sk-toggleable__label {background-color: #d4ebff;}#sk-container-id-2 div.sk-serial::before {content: \"\";position: absolute;border-left: 1px solid gray;box-sizing: border-box;top: 0;bottom: 0;left: 50%;z-index: 0;}#sk-container-id-2 div.sk-serial {display: flex;flex-direction: column;align-items: center;background-color: white;padding-right: 0.2em;padding-left: 0.2em;position: relative;}#sk-container-id-2 div.sk-item {position: relative;z-index: 1;}#sk-container-id-2 div.sk-parallel {display: flex;align-items: stretch;justify-content: center;background-color: white;position: relative;}#sk-container-id-2 div.sk-item::before, #sk-container-id-2 div.sk-parallel-item::before {content: \"\";position: absolute;border-left: 1px solid gray;box-sizing: border-box;top: 0;bottom: 0;left: 50%;z-index: -1;}#sk-container-id-2 div.sk-parallel-item {display: flex;flex-direction: column;z-index: 1;position: relative;background-color: white;}#sk-container-id-2 div.sk-parallel-item:first-child::after {align-self: flex-end;width: 50%;}#sk-container-id-2 div.sk-parallel-item:last-child::after {align-self: flex-start;width: 50%;}#sk-container-id-2 div.sk-parallel-item:only-child::after {width: 0;}#sk-container-id-2 div.sk-dashed-wrapped {border: 1px dashed gray;margin: 0 0.4em 0.5em 0.4em;box-sizing: border-box;padding-bottom: 0.4em;background-color: white;}#sk-container-id-2 div.sk-label label {font-family: monospace;font-weight: bold;display: inline-block;line-height: 1.2em;}#sk-container-id-2 div.sk-label-container {text-align: center;}#sk-container-id-2 div.sk-container {/* jupyter's `normalize.less` sets `[hidden] { display: none; }` but bootstrap.min.css set `[hidden] { display: none !important; }` so we also need the `!important` here to be able to override the default hidden behavior on the sphinx rendered scikit-learn.org. See: https://github.com/scikit-learn/scikit-learn/issues/21755 */display: inline-block !important;position: relative;}#sk-container-id-2 div.sk-text-repr-fallback {display: none;}</style><div id=\"sk-container-id-2\" class=\"sk-top-container\"><div class=\"sk-text-repr-fallback\"><pre>Ridge(alpha=1e-10, copy_X=False, fit_intercept=False, random_state=42)</pre><b>In a Jupyter environment, please rerun this cell to show the HTML representation or trust the notebook. <br />On GitHub, the HTML representation is unable to render, please try loading this page with nbviewer.org.</b></div><div class=\"sk-container\" hidden><div class=\"sk-item\"><div class=\"sk-estimator sk-toggleable\"><input class=\"sk-toggleable__control sk-hidden--visually\" id=\"sk-estimator-id-2\" type=\"checkbox\" checked><label for=\"sk-estimator-id-2\" class=\"sk-toggleable__label sk-toggleable__label-arrow\">Ridge</label><div class=\"sk-toggleable__content\"><pre>Ridge(alpha=1e-10, copy_X=False, fit_intercept=False, random_state=42)</pre></div></div></div></div></div>"
     },
     "execution_count": 49,
     "metadata": {},
     "output_type": "execute_result"
    }
   ],
   "source": [
    "model.fit(train_dm, train_y)"
   ]
  },
  {
   "cell_type": "markdown",
   "id": "ebd2afbe-64e7-40ee-8da6-565160f1f554",
   "metadata": {},
   "source": [
    "get model predictions on train design matrix"
   ]
  },
  {
   "cell_type": "code",
   "execution_count": 50,
   "id": "f7d51292-1fb9-46d7-8658-8b6e29da4ccb",
   "metadata": {
    "ExecuteTime": {
     "end_time": "2023-11-06T09:31:10.718108800Z",
     "start_time": "2023-11-06T09:31:10.671242900Z"
    }
   },
   "outputs": [],
   "source": [
    "train_pred = model.predict(train_dm)"
   ]
  },
  {
   "cell_type": "markdown",
   "id": "03452c80-efdf-41c2-9159-11ad9f0a4804",
   "metadata": {},
   "source": [
    "Extract energy-per-atom (epa) and forces from predicted vector"
   ]
  },
  {
   "cell_type": "code",
   "execution_count": 51,
   "id": "9038ec4a-b5eb-4430-9ae7-b67904f1abcf",
   "metadata": {
    "ExecuteTime": {
     "end_time": "2023-11-06T09:31:15.706988800Z",
     "start_time": "2023-11-06T09:31:15.675743400Z"
    }
   },
   "outputs": [],
   "source": [
    "epa_pred = train_ds.get_energies_per_atom(train_pred)"
   ]
  },
  {
   "cell_type": "code",
   "execution_count": 52,
   "id": "36a915a5-eef3-4cee-ba40-e83ccf85a54a",
   "metadata": {
    "ExecuteTime": {
     "end_time": "2023-11-06T09:31:17.929945600Z",
     "start_time": "2023-11-06T09:31:17.914324400Z"
    }
   },
   "outputs": [],
   "source": [
    "f_pred = train_ds.get_forces(train_pred)"
   ]
  },
  {
   "cell_type": "markdown",
   "id": "6592deeb-5f9a-40cd-a771-b82a887477cf",
   "metadata": {},
   "source": [
    "Compute error metrics for *train* dataset, using predicted EPA and forces.\n",
    "Reference values are stored in dataset and used automatically, unless provided otherwise"
   ]
  },
  {
   "cell_type": "code",
   "execution_count": 53,
   "id": "9280f49d-f171-4563-89a0-cf393156c998",
   "metadata": {
    "ExecuteTime": {
     "end_time": "2023-11-06T09:31:24.066496600Z",
     "start_time": "2023-11-06T09:31:24.035226200Z"
    }
   },
   "outputs": [
    {
     "data": {
      "text/plain": "{'epa_mae': 3.3169604922805593,\n 'epa_rmse': 3.3298844179388123,\n 'f_comp_mae': 0.24984014995185277,\n 'f_comp_rmse': 0.7655393790811638}"
     },
     "execution_count": 53,
     "metadata": {},
     "output_type": "execute_result"
    }
   ],
   "source": [
    "train_ds.compute_errors(epa_pred, f_pred)"
   ]
  },
  {
   "cell_type": "markdown",
   "id": "f534e634-a515-4eee-92ed-50b30d713cd3",
   "metadata": {},
   "source": [
    "## Using PCA for dimensionality reduction"
   ]
  },
  {
   "cell_type": "code",
   "execution_count": 55,
   "id": "02fe9902-578e-41db-bf36-5d7fdcca6f74",
   "metadata": {
    "ExecuteTime": {
     "end_time": "2023-11-06T09:31:44.656270300Z",
     "start_time": "2023-11-06T09:31:42.432869Z"
    }
   },
   "outputs": [
    {
     "name": "stderr",
     "output_type": "stream",
     "text": [
      "G:\\Uni\\Master Physik\\Masterarbeit\\Repo\\long-range-ml-potential\\venv\\lib\\site-packages\\sklearn\\decomposition\\_pca.py:543: RuntimeWarning: divide by zero encountered in divide\n",
      "  explained_variance_ratio_ = explained_variance_ / total_var\n",
      "G:\\Uni\\Master Physik\\Masterarbeit\\Repo\\long-range-ml-potential\\venv\\lib\\site-packages\\sklearn\\decomposition\\_pca.py:543: RuntimeWarning: invalid value encountered in divide\n",
      "  explained_variance_ratio_ = explained_variance_ / total_var\n"
     ]
    }
   ],
   "source": [
    "pca = PCA()\n",
    "train_dm_pca = pca.fit_transform(train_dm)"
   ]
  },
  {
   "cell_type": "code",
   "execution_count": 56,
   "id": "57a3ad6a-85a3-4cdc-b345-3e5bf9b85119",
   "metadata": {
    "ExecuteTime": {
     "end_time": "2023-11-06T09:31:49.049587700Z",
     "start_time": "2023-11-06T09:31:49.033528700Z"
    }
   },
   "outputs": [],
   "source": [
    "model = Ridge(alpha=1e-10, fit_intercept=False, copy_X=False, random_state=42, solver=\"auto\")"
   ]
  },
  {
   "cell_type": "code",
   "execution_count": 57,
   "id": "a5c6c954-5da8-43dd-82aa-af2d17ff7c59",
   "metadata": {
    "ExecuteTime": {
     "end_time": "2023-11-06T09:31:52.048438200Z",
     "start_time": "2023-11-06T09:31:51.876299600Z"
    }
   },
   "outputs": [
    {
     "data": {
      "text/plain": "Ridge(alpha=1e-10, copy_X=False, fit_intercept=False, random_state=42)",
      "text/html": "<style>#sk-container-id-3 {color: black;}#sk-container-id-3 pre{padding: 0;}#sk-container-id-3 div.sk-toggleable {background-color: white;}#sk-container-id-3 label.sk-toggleable__label {cursor: pointer;display: block;width: 100%;margin-bottom: 0;padding: 0.3em;box-sizing: border-box;text-align: center;}#sk-container-id-3 label.sk-toggleable__label-arrow:before {content: \"▸\";float: left;margin-right: 0.25em;color: #696969;}#sk-container-id-3 label.sk-toggleable__label-arrow:hover:before {color: black;}#sk-container-id-3 div.sk-estimator:hover label.sk-toggleable__label-arrow:before {color: black;}#sk-container-id-3 div.sk-toggleable__content {max-height: 0;max-width: 0;overflow: hidden;text-align: left;background-color: #f0f8ff;}#sk-container-id-3 div.sk-toggleable__content pre {margin: 0.2em;color: black;border-radius: 0.25em;background-color: #f0f8ff;}#sk-container-id-3 input.sk-toggleable__control:checked~div.sk-toggleable__content {max-height: 200px;max-width: 100%;overflow: auto;}#sk-container-id-3 input.sk-toggleable__control:checked~label.sk-toggleable__label-arrow:before {content: \"▾\";}#sk-container-id-3 div.sk-estimator input.sk-toggleable__control:checked~label.sk-toggleable__label {background-color: #d4ebff;}#sk-container-id-3 div.sk-label input.sk-toggleable__control:checked~label.sk-toggleable__label {background-color: #d4ebff;}#sk-container-id-3 input.sk-hidden--visually {border: 0;clip: rect(1px 1px 1px 1px);clip: rect(1px, 1px, 1px, 1px);height: 1px;margin: -1px;overflow: hidden;padding: 0;position: absolute;width: 1px;}#sk-container-id-3 div.sk-estimator {font-family: monospace;background-color: #f0f8ff;border: 1px dotted black;border-radius: 0.25em;box-sizing: border-box;margin-bottom: 0.5em;}#sk-container-id-3 div.sk-estimator:hover {background-color: #d4ebff;}#sk-container-id-3 div.sk-parallel-item::after {content: \"\";width: 100%;border-bottom: 1px solid gray;flex-grow: 1;}#sk-container-id-3 div.sk-label:hover label.sk-toggleable__label {background-color: #d4ebff;}#sk-container-id-3 div.sk-serial::before {content: \"\";position: absolute;border-left: 1px solid gray;box-sizing: border-box;top: 0;bottom: 0;left: 50%;z-index: 0;}#sk-container-id-3 div.sk-serial {display: flex;flex-direction: column;align-items: center;background-color: white;padding-right: 0.2em;padding-left: 0.2em;position: relative;}#sk-container-id-3 div.sk-item {position: relative;z-index: 1;}#sk-container-id-3 div.sk-parallel {display: flex;align-items: stretch;justify-content: center;background-color: white;position: relative;}#sk-container-id-3 div.sk-item::before, #sk-container-id-3 div.sk-parallel-item::before {content: \"\";position: absolute;border-left: 1px solid gray;box-sizing: border-box;top: 0;bottom: 0;left: 50%;z-index: -1;}#sk-container-id-3 div.sk-parallel-item {display: flex;flex-direction: column;z-index: 1;position: relative;background-color: white;}#sk-container-id-3 div.sk-parallel-item:first-child::after {align-self: flex-end;width: 50%;}#sk-container-id-3 div.sk-parallel-item:last-child::after {align-self: flex-start;width: 50%;}#sk-container-id-3 div.sk-parallel-item:only-child::after {width: 0;}#sk-container-id-3 div.sk-dashed-wrapped {border: 1px dashed gray;margin: 0 0.4em 0.5em 0.4em;box-sizing: border-box;padding-bottom: 0.4em;background-color: white;}#sk-container-id-3 div.sk-label label {font-family: monospace;font-weight: bold;display: inline-block;line-height: 1.2em;}#sk-container-id-3 div.sk-label-container {text-align: center;}#sk-container-id-3 div.sk-container {/* jupyter's `normalize.less` sets `[hidden] { display: none; }` but bootstrap.min.css set `[hidden] { display: none !important; }` so we also need the `!important` here to be able to override the default hidden behavior on the sphinx rendered scikit-learn.org. See: https://github.com/scikit-learn/scikit-learn/issues/21755 */display: inline-block !important;position: relative;}#sk-container-id-3 div.sk-text-repr-fallback {display: none;}</style><div id=\"sk-container-id-3\" class=\"sk-top-container\"><div class=\"sk-text-repr-fallback\"><pre>Ridge(alpha=1e-10, copy_X=False, fit_intercept=False, random_state=42)</pre><b>In a Jupyter environment, please rerun this cell to show the HTML representation or trust the notebook. <br />On GitHub, the HTML representation is unable to render, please try loading this page with nbviewer.org.</b></div><div class=\"sk-container\" hidden><div class=\"sk-item\"><div class=\"sk-estimator sk-toggleable\"><input class=\"sk-toggleable__control sk-hidden--visually\" id=\"sk-estimator-id-3\" type=\"checkbox\" checked><label for=\"sk-estimator-id-3\" class=\"sk-toggleable__label sk-toggleable__label-arrow\">Ridge</label><div class=\"sk-toggleable__content\"><pre>Ridge(alpha=1e-10, copy_X=False, fit_intercept=False, random_state=42)</pre></div></div></div></div></div>"
     },
     "execution_count": 57,
     "metadata": {},
     "output_type": "execute_result"
    }
   ],
   "source": [
    "model.fit(train_dm_pca, train_y)"
   ]
  },
  {
   "cell_type": "code",
   "execution_count": 58,
   "id": "61a72cad-f667-48d1-9f4d-aa2b3415ba0f",
   "metadata": {
    "ExecuteTime": {
     "end_time": "2023-11-06T09:31:54.152524Z",
     "start_time": "2023-11-06T09:31:54.102980700Z"
    }
   },
   "outputs": [],
   "source": [
    "train_pred = model.predict(train_dm_pca)"
   ]
  },
  {
   "cell_type": "code",
   "execution_count": 59,
   "id": "5f7f41b2-d351-4f36-974d-ed6128357cc1",
   "metadata": {
    "ExecuteTime": {
     "end_time": "2023-11-06T09:31:55.643705600Z",
     "start_time": "2023-11-06T09:31:55.628088600Z"
    }
   },
   "outputs": [],
   "source": [
    "epa_pred = train_ds.get_energies_per_atom(train_pred)"
   ]
  },
  {
   "cell_type": "code",
   "execution_count": 60,
   "id": "61cbf2a3-09d5-43a3-8da8-059d794e3be7",
   "metadata": {
    "ExecuteTime": {
     "end_time": "2023-11-06T09:31:57.338542700Z",
     "start_time": "2023-11-06T09:31:57.307178400Z"
    }
   },
   "outputs": [],
   "source": [
    "f_pred = train_ds.get_forces(train_pred)"
   ]
  },
  {
   "cell_type": "code",
   "execution_count": null,
   "id": "706b07f5-79ec-4a23-89d8-2b690baf0437",
   "metadata": {},
   "outputs": [],
   "source": []
  },
  {
   "cell_type": "code",
   "execution_count": 61,
   "id": "aacf62c7-748f-4c58-a65f-2ec6b4699b2a",
   "metadata": {
    "ExecuteTime": {
     "end_time": "2023-11-06T09:31:58.953748200Z",
     "start_time": "2023-11-06T09:31:58.906792500Z"
    }
   },
   "outputs": [
    {
     "data": {
      "text/plain": "{'epa_mae': 3.3169604922805593,\n 'epa_rmse': 3.3298844179388123,\n 'f_comp_mae': 0.24984014995185277,\n 'f_comp_rmse': 0.7655393790811638}"
     },
     "execution_count": 61,
     "metadata": {},
     "output_type": "execute_result"
    }
   ],
   "source": [
    "train_ds.compute_errors(epa_pred, f_pred)"
   ]
  },
  {
   "cell_type": "code",
   "execution_count": null,
   "id": "957f1ca0-725e-4944-a8d5-0d6ac340ca7c",
   "metadata": {},
   "outputs": [],
   "source": []
  },
  {
   "cell_type": "markdown",
   "id": "c4cb7942-a4fd-4742-a8a6-7faf566bb501",
   "metadata": {},
   "source": [
    "## Fit of energies-only"
   ]
  },
  {
   "cell_type": "code",
   "execution_count": 65,
   "id": "a4b6b949-b0f4-498b-9fa5-2b020e1b96e5",
   "metadata": {
    "ExecuteTime": {
     "end_time": "2023-11-06T09:36:43.696831100Z",
     "start_time": "2023-11-06T09:36:43.665585400Z"
    }
   },
   "outputs": [],
   "source": [
    "B_funcs = train_dm[:train_ds.total_number_of_structures]"
   ]
  },
  {
   "cell_type": "code",
   "execution_count": 66,
   "id": "fa8fbfe5-8221-470a-ba44-e76157d72870",
   "metadata": {
    "ExecuteTime": {
     "end_time": "2023-11-06T09:36:45.639024700Z",
     "start_time": "2023-11-06T09:36:45.607781400Z"
    }
   },
   "outputs": [],
   "source": [
    "epa_ref = train_y[:train_ds.total_number_of_structures]"
   ]
  },
  {
   "cell_type": "code",
   "execution_count": 67,
   "id": "b038f86a-f887-4788-be25-d037937f10ff",
   "metadata": {
    "ExecuteTime": {
     "end_time": "2023-11-06T09:36:47.666084400Z",
     "start_time": "2023-11-06T09:36:47.477753800Z"
    }
   },
   "outputs": [
    {
     "data": {
      "text/plain": "<Figure size 640x480 with 1 Axes>",
      "image/png": "[encoded data removed]"
     },
     "metadata": {},
     "output_type": "display_data"
    }
   ],
   "source": [
    "plt.hist(epa_ref,bins=100)\n",
    "plt.xlabel(\"E, eV/atom\");"
   ]
  },
  {
   "cell_type": "code",
   "execution_count": 68,
   "id": "f51a46fd-2616-443b-9307-138866db156c",
   "metadata": {
    "ExecuteTime": {
     "end_time": "2023-11-06T09:36:50.264293Z",
     "start_time": "2023-11-06T09:36:50.232925300Z"
    }
   },
   "outputs": [],
   "source": [
    "model = Ridge(alpha=1e-10, fit_intercept=False, copy_X=False, random_state=42, solver=\"auto\")"
   ]
  },
  {
   "cell_type": "code",
   "execution_count": 69,
   "id": "428fd760-82bb-406f-a261-e52deaa4a4ef",
   "metadata": {
    "ExecuteTime": {
     "end_time": "2023-11-06T09:36:52.367984600Z",
     "start_time": "2023-11-06T09:36:52.323234300Z"
    }
   },
   "outputs": [
    {
     "data": {
      "text/plain": "Ridge(alpha=1e-10, copy_X=False, fit_intercept=False, random_state=42)",
      "text/html": "<style>#sk-container-id-4 {color: black;}#sk-container-id-4 pre{padding: 0;}#sk-container-id-4 div.sk-toggleable {background-color: white;}#sk-container-id-4 label.sk-toggleable__label {cursor: pointer;display: block;width: 100%;margin-bottom: 0;padding: 0.3em;box-sizing: border-box;text-align: center;}#sk-container-id-4 label.sk-toggleable__label-arrow:before {content: \"▸\";float: left;margin-right: 0.25em;color: #696969;}#sk-container-id-4 label.sk-toggleable__label-arrow:hover:before {color: black;}#sk-container-id-4 div.sk-estimator:hover label.sk-toggleable__label-arrow:before {color: black;}#sk-container-id-4 div.sk-toggleable__content {max-height: 0;max-width: 0;overflow: hidden;text-align: left;background-color: #f0f8ff;}#sk-container-id-4 div.sk-toggleable__content pre {margin: 0.2em;color: black;border-radius: 0.25em;background-color: #f0f8ff;}#sk-container-id-4 input.sk-toggleable__control:checked~div.sk-toggleable__content {max-height: 200px;max-width: 100%;overflow: auto;}#sk-container-id-4 input.sk-toggleable__control:checked~label.sk-toggleable__label-arrow:before {content: \"▾\";}#sk-container-id-4 div.sk-estimator input.sk-toggleable__control:checked~label.sk-toggleable__label {background-color: #d4ebff;}#sk-container-id-4 div.sk-label input.sk-toggleable__control:checked~label.sk-toggleable__label {background-color: #d4ebff;}#sk-container-id-4 input.sk-hidden--visually {border: 0;clip: rect(1px 1px 1px 1px);clip: rect(1px, 1px, 1px, 1px);height: 1px;margin: -1px;overflow: hidden;padding: 0;position: absolute;width: 1px;}#sk-container-id-4 div.sk-estimator {font-family: monospace;background-color: #f0f8ff;border: 1px dotted black;border-radius: 0.25em;box-sizing: border-box;margin-bottom: 0.5em;}#sk-container-id-4 div.sk-estimator:hover {background-color: #d4ebff;}#sk-container-id-4 div.sk-parallel-item::after {content: \"\";width: 100%;border-bottom: 1px solid gray;flex-grow: 1;}#sk-container-id-4 div.sk-label:hover label.sk-toggleable__label {background-color: #d4ebff;}#sk-container-id-4 div.sk-serial::before {content: \"\";position: absolute;border-left: 1px solid gray;box-sizing: border-box;top: 0;bottom: 0;left: 50%;z-index: 0;}#sk-container-id-4 div.sk-serial {display: flex;flex-direction: column;align-items: center;background-color: white;padding-right: 0.2em;padding-left: 0.2em;position: relative;}#sk-container-id-4 div.sk-item {position: relative;z-index: 1;}#sk-container-id-4 div.sk-parallel {display: flex;align-items: stretch;justify-content: center;background-color: white;position: relative;}#sk-container-id-4 div.sk-item::before, #sk-container-id-4 div.sk-parallel-item::before {content: \"\";position: absolute;border-left: 1px solid gray;box-sizing: border-box;top: 0;bottom: 0;left: 50%;z-index: -1;}#sk-container-id-4 div.sk-parallel-item {display: flex;flex-direction: column;z-index: 1;position: relative;background-color: white;}#sk-container-id-4 div.sk-parallel-item:first-child::after {align-self: flex-end;width: 50%;}#sk-container-id-4 div.sk-parallel-item:last-child::after {align-self: flex-start;width: 50%;}#sk-container-id-4 div.sk-parallel-item:only-child::after {width: 0;}#sk-container-id-4 div.sk-dashed-wrapped {border: 1px dashed gray;margin: 0 0.4em 0.5em 0.4em;box-sizing: border-box;padding-bottom: 0.4em;background-color: white;}#sk-container-id-4 div.sk-label label {font-family: monospace;font-weight: bold;display: inline-block;line-height: 1.2em;}#sk-container-id-4 div.sk-label-container {text-align: center;}#sk-container-id-4 div.sk-container {/* jupyter's `normalize.less` sets `[hidden] { display: none; }` but bootstrap.min.css set `[hidden] { display: none !important; }` so we also need the `!important` here to be able to override the default hidden behavior on the sphinx rendered scikit-learn.org. See: https://github.com/scikit-learn/scikit-learn/issues/21755 */display: inline-block !important;position: relative;}#sk-container-id-4 div.sk-text-repr-fallback {display: none;}</style><div id=\"sk-container-id-4\" class=\"sk-top-container\"><div class=\"sk-text-repr-fallback\"><pre>Ridge(alpha=1e-10, copy_X=False, fit_intercept=False, random_state=42)</pre><b>In a Jupyter environment, please rerun this cell to show the HTML representation or trust the notebook. <br />On GitHub, the HTML representation is unable to render, please try loading this page with nbviewer.org.</b></div><div class=\"sk-container\" hidden><div class=\"sk-item\"><div class=\"sk-estimator sk-toggleable\"><input class=\"sk-toggleable__control sk-hidden--visually\" id=\"sk-estimator-id-4\" type=\"checkbox\" checked><label for=\"sk-estimator-id-4\" class=\"sk-toggleable__label sk-toggleable__label-arrow\">Ridge</label><div class=\"sk-toggleable__content\"><pre>Ridge(alpha=1e-10, copy_X=False, fit_intercept=False, random_state=42)</pre></div></div></div></div></div>"
     },
     "execution_count": 69,
     "metadata": {},
     "output_type": "execute_result"
    }
   ],
   "source": [
    "model.fit(B_funcs,epa_ref)"
   ]
  },
  {
   "cell_type": "code",
   "execution_count": 70,
   "id": "ef2b2d60-7289-4913-b67b-b8c697d58222",
   "metadata": {
    "ExecuteTime": {
     "end_time": "2023-11-06T09:36:56.411955100Z",
     "start_time": "2023-11-06T09:36:56.380591600Z"
    }
   },
   "outputs": [],
   "source": [
    "epa_pred = model.predict(B_funcs)"
   ]
  },
  {
   "cell_type": "code",
   "execution_count": 71,
   "id": "090ca473-7a31-40b8-a080-d59da36905a5",
   "metadata": {
    "ExecuteTime": {
     "end_time": "2023-11-06T09:36:58.814528300Z",
     "start_time": "2023-11-06T09:36:58.798881100Z"
    }
   },
   "outputs": [
    {
     "data": {
      "text/plain": "3329.8844179388125"
     },
     "execution_count": 71,
     "metadata": {},
     "output_type": "execute_result"
    }
   ],
   "source": [
    "# E-RMSE, meV/at\n",
    "np.sqrt(np.mean((epa_pred-epa_ref)**2))*1e3 "
   ]
  },
  {
   "cell_type": "markdown",
   "id": "d3f72681-ae3e-4d42-bd8f-faafba32c719",
   "metadata": {},
   "source": [
    "### Energies-only with PCA"
   ]
  },
  {
   "cell_type": "code",
   "execution_count": 72,
   "id": "51f7574b-d08f-40e6-badd-0607a136da21",
   "metadata": {
    "ExecuteTime": {
     "end_time": "2023-11-06T09:37:18.705550200Z",
     "start_time": "2023-11-06T09:37:18.100609800Z"
    }
   },
   "outputs": [
    {
     "name": "stderr",
     "output_type": "stream",
     "text": [
      "G:\\Uni\\Master Physik\\Masterarbeit\\Repo\\long-range-ml-potential\\venv\\lib\\site-packages\\sklearn\\decomposition\\_pca.py:543: RuntimeWarning: divide by zero encountered in divide\n",
      "  explained_variance_ratio_ = explained_variance_ / total_var\n",
      "G:\\Uni\\Master Physik\\Masterarbeit\\Repo\\long-range-ml-potential\\venv\\lib\\site-packages\\sklearn\\decomposition\\_pca.py:543: RuntimeWarning: invalid value encountered in divide\n",
      "  explained_variance_ratio_ = explained_variance_ / total_var\n"
     ]
    }
   ],
   "source": [
    "B_funcs_pca = PCA().fit_transform(B_funcs)"
   ]
  },
  {
   "cell_type": "code",
   "execution_count": 73,
   "id": "63bec795-2f32-411e-b5a7-26220d81ce85",
   "metadata": {
    "ExecuteTime": {
     "end_time": "2023-11-06T09:37:20.539473800Z",
     "start_time": "2023-11-06T09:37:20.528942800Z"
    }
   },
   "outputs": [],
   "source": [
    "B_funcs_pca_spread=B_funcs_pca.max(axis=0)-B_funcs_pca.min(axis=0)"
   ]
  },
  {
   "cell_type": "code",
   "execution_count": 74,
   "id": "32cc2a4a-65a2-4627-94cc-2b847042b49a",
   "metadata": {
    "ExecuteTime": {
     "end_time": "2023-11-06T09:37:22.711827600Z",
     "start_time": "2023-11-06T09:37:22.539514800Z"
    }
   },
   "outputs": [
    {
     "name": "stderr",
     "output_type": "stream",
     "text": [
      "C:\\Users\\Aaron\\AppData\\Local\\Temp\\ipykernel_15756\\4293140399.py:2: UserWarning: Data has no positive values, and therefore cannot be log-scaled.\n",
      "  plt.yscale('log');\n"
     ]
    },
    {
     "data": {
      "text/plain": "Text(0, 0.5, 'B-func PCA spread (max-min)')"
     },
     "execution_count": 74,
     "metadata": {},
     "output_type": "execute_result"
    },
    {
     "data": {
      "text/plain": "<Figure size 640x480 with 1 Axes>",
      "image/png": "[encoded data removed]"
     },
     "metadata": {},
     "output_type": "display_data"
    }
   ],
   "source": [
    "plt.plot(B_funcs_pca_spread)\n",
    "plt.yscale('log')\n",
    "plt.xlabel(\"B-func PCA index\")\n",
    "plt.ylabel(\"B-func PCA spread (max-min)\")"
   ]
  },
  {
   "cell_type": "code",
   "execution_count": 75,
   "id": "fe7f26bc-00f1-42f0-bc18-5ad4ad6845d0",
   "metadata": {
    "ExecuteTime": {
     "end_time": "2023-11-06T09:37:28.590710600Z",
     "start_time": "2023-11-06T09:37:28.527463800Z"
    }
   },
   "outputs": [
    {
     "data": {
      "text/plain": "Ridge(alpha=1e-10, copy_X=False, fit_intercept=False, random_state=42)",
      "text/html": "<style>#sk-container-id-5 {color: black;}#sk-container-id-5 pre{padding: 0;}#sk-container-id-5 div.sk-toggleable {background-color: white;}#sk-container-id-5 label.sk-toggleable__label {cursor: pointer;display: block;width: 100%;margin-bottom: 0;padding: 0.3em;box-sizing: border-box;text-align: center;}#sk-container-id-5 label.sk-toggleable__label-arrow:before {content: \"▸\";float: left;margin-right: 0.25em;color: #696969;}#sk-container-id-5 label.sk-toggleable__label-arrow:hover:before {color: black;}#sk-container-id-5 div.sk-estimator:hover label.sk-toggleable__label-arrow:before {color: black;}#sk-container-id-5 div.sk-toggleable__content {max-height: 0;max-width: 0;overflow: hidden;text-align: left;background-color: #f0f8ff;}#sk-container-id-5 div.sk-toggleable__content pre {margin: 0.2em;color: black;border-radius: 0.25em;background-color: #f0f8ff;}#sk-container-id-5 input.sk-toggleable__control:checked~div.sk-toggleable__content {max-height: 200px;max-width: 100%;overflow: auto;}#sk-container-id-5 input.sk-toggleable__control:checked~label.sk-toggleable__label-arrow:before {content: \"▾\";}#sk-container-id-5 div.sk-estimator input.sk-toggleable__control:checked~label.sk-toggleable__label {background-color: #d4ebff;}#sk-container-id-5 div.sk-label input.sk-toggleable__control:checked~label.sk-toggleable__label {background-color: #d4ebff;}#sk-container-id-5 input.sk-hidden--visually {border: 0;clip: rect(1px 1px 1px 1px);clip: rect(1px, 1px, 1px, 1px);height: 1px;margin: -1px;overflow: hidden;padding: 0;position: absolute;width: 1px;}#sk-container-id-5 div.sk-estimator {font-family: monospace;background-color: #f0f8ff;border: 1px dotted black;border-radius: 0.25em;box-sizing: border-box;margin-bottom: 0.5em;}#sk-container-id-5 div.sk-estimator:hover {background-color: #d4ebff;}#sk-container-id-5 div.sk-parallel-item::after {content: \"\";width: 100%;border-bottom: 1px solid gray;flex-grow: 1;}#sk-container-id-5 div.sk-label:hover label.sk-toggleable__label {background-color: #d4ebff;}#sk-container-id-5 div.sk-serial::before {content: \"\";position: absolute;border-left: 1px solid gray;box-sizing: border-box;top: 0;bottom: 0;left: 50%;z-index: 0;}#sk-container-id-5 div.sk-serial {display: flex;flex-direction: column;align-items: center;background-color: white;padding-right: 0.2em;padding-left: 0.2em;position: relative;}#sk-container-id-5 div.sk-item {position: relative;z-index: 1;}#sk-container-id-5 div.sk-parallel {display: flex;align-items: stretch;justify-content: center;background-color: white;position: relative;}#sk-container-id-5 div.sk-item::before, #sk-container-id-5 div.sk-parallel-item::before {content: \"\";position: absolute;border-left: 1px solid gray;box-sizing: border-box;top: 0;bottom: 0;left: 50%;z-index: -1;}#sk-container-id-5 div.sk-parallel-item {display: flex;flex-direction: column;z-index: 1;position: relative;background-color: white;}#sk-container-id-5 div.sk-parallel-item:first-child::after {align-self: flex-end;width: 50%;}#sk-container-id-5 div.sk-parallel-item:last-child::after {align-self: flex-start;width: 50%;}#sk-container-id-5 div.sk-parallel-item:only-child::after {width: 0;}#sk-container-id-5 div.sk-dashed-wrapped {border: 1px dashed gray;margin: 0 0.4em 0.5em 0.4em;box-sizing: border-box;padding-bottom: 0.4em;background-color: white;}#sk-container-id-5 div.sk-label label {font-family: monospace;font-weight: bold;display: inline-block;line-height: 1.2em;}#sk-container-id-5 div.sk-label-container {text-align: center;}#sk-container-id-5 div.sk-container {/* jupyter's `normalize.less` sets `[hidden] { display: none; }` but bootstrap.min.css set `[hidden] { display: none !important; }` so we also need the `!important` here to be able to override the default hidden behavior on the sphinx rendered scikit-learn.org. See: https://github.com/scikit-learn/scikit-learn/issues/21755 */display: inline-block !important;position: relative;}#sk-container-id-5 div.sk-text-repr-fallback {display: none;}</style><div id=\"sk-container-id-5\" class=\"sk-top-container\"><div class=\"sk-text-repr-fallback\"><pre>Ridge(alpha=1e-10, copy_X=False, fit_intercept=False, random_state=42)</pre><b>In a Jupyter environment, please rerun this cell to show the HTML representation or trust the notebook. <br />On GitHub, the HTML representation is unable to render, please try loading this page with nbviewer.org.</b></div><div class=\"sk-container\" hidden><div class=\"sk-item\"><div class=\"sk-estimator sk-toggleable\"><input class=\"sk-toggleable__control sk-hidden--visually\" id=\"sk-estimator-id-5\" type=\"checkbox\" checked><label for=\"sk-estimator-id-5\" class=\"sk-toggleable__label sk-toggleable__label-arrow\">Ridge</label><div class=\"sk-toggleable__content\"><pre>Ridge(alpha=1e-10, copy_X=False, fit_intercept=False, random_state=42)</pre></div></div></div></div></div>"
     },
     "execution_count": 75,
     "metadata": {},
     "output_type": "execute_result"
    }
   ],
   "source": [
    "model.fit(B_funcs_pca,epa_ref)"
   ]
  },
  {
   "cell_type": "code",
   "execution_count": 76,
   "id": "800cb85b-2b04-401f-a20f-be3ef719aac7",
   "metadata": {
    "ExecuteTime": {
     "end_time": "2023-11-06T09:37:31.637888600Z",
     "start_time": "2023-11-06T09:37:31.622263700Z"
    }
   },
   "outputs": [],
   "source": [
    "epa_pred_pca = model.predict(B_funcs_pca)"
   ]
  },
  {
   "cell_type": "code",
   "execution_count": 77,
   "id": "748c9eac-c7c9-47c0-9e9c-e351d6a5fe4f",
   "metadata": {
    "ExecuteTime": {
     "end_time": "2023-11-06T09:37:34.381922700Z",
     "start_time": "2023-11-06T09:37:34.334604Z"
    }
   },
   "outputs": [
    {
     "data": {
      "text/plain": "3329.8844179388125"
     },
     "execution_count": 77,
     "metadata": {},
     "output_type": "execute_result"
    }
   ],
   "source": [
    "# E-RMSE, meV/at\n",
    "np.sqrt(np.mean((epa_pred_pca-epa_ref)**2))*1e3"
   ]
  },
  {
   "cell_type": "code",
   "execution_count": null,
   "id": "cdb2b40e-05be-453f-8d22-ad34fc42c737",
   "metadata": {},
   "outputs": [],
   "source": []
  }
 ],
 "metadata": {
  "kernelspec": {
   "name": "python3",
   "language": "python",
   "display_name": "Python 3 (ipykernel)"
  },
  "language_info": {
   "codemirror_mode": {
    "name": "ipython",
    "version": 3
   },
   "file_extension": ".py",
   "mimetype": "text/x-python",
   "name": "python",
   "nbconvert_exporter": "python",
   "pygments_lexer": "ipython3",
   "version": "3.8.13"
  }
 },
 "nbformat": 4,
 "nbformat_minor": 5
}
