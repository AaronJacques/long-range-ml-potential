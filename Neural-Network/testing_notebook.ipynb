{
 "cells": [
  {
   "cell_type": "code",
   "execution_count": 1,
   "id": "initial_id",
   "metadata": {
    "collapsed": true,
    "ExecuteTime": {
     "end_time": "2024-01-24T14:02:07.836576Z",
     "start_time": "2024-01-24T14:02:00.904850800Z"
    }
   },
   "outputs": [
    {
     "name": "stdout",
     "output_type": "stream",
     "text": [
      "WARNING:tensorflow:From C:\\ProgramData\\Anaconda3\\envs\\ml-potential\\lib\\site-packages\\keras\\src\\losses.py:2976: The name tf.losses.sparse_softmax_cross_entropy is deprecated. Please use tf.compat.v1.losses.sparse_softmax_cross_entropy instead.\n"
     ]
    }
   ],
   "source": [
    "import pandas as pd\n",
    "import numpy as np\n",
    "from ase import Atoms\n",
    "from tqdm import tqdm\n",
    "\n",
    "from Constants import Keys, Dataset\n",
    "from Dataset import (\n",
    "    create_df,\n",
    "    create_tf_dataset,\n",
    ")\n",
    "from Training import start_training"
   ]
  },
  {
   "cell_type": "code",
   "execution_count": 2,
   "outputs": [
    {
     "data": {
      "text/plain": "         name                                          ase_atoms  \\\n0    aspirin0  [(Atom('C', [2.2393, -0.3791, 0.263], index=0)...   \n1    aspirin1  [(Atom('C', [2.2407929, -0.3792177, 0.26220864...   \n2    aspirin2  [(Atom('C', [2.24227707, -0.37935822, 0.261403...   \n3    aspirin3  [(Atom('C', [2.2437641, -0.37955814, 0.2605934...   \n4    aspirin4  [(Atom('C', [2.24526922, -0.37985629, 0.259784...   \n..        ...                                                ...   \n795  uracil95  [(Atom('C', [1.61046731, 0.33167008, 0.2059238...   \n796  uracil96  [(Atom('C', [1.60611853, 0.33264749, 0.2082256...   \n797  uracil97  [(Atom('C', [1.60193117, 0.3335614, 0.21046942...   \n798  uracil98  [(Atom('C', [1.59796762, 0.3343929, 0.21262356...   \n799  uracil99  [(Atom('C', [1.59428025, 0.33512709, 0.2146594...   \n\n                    energy                                             forces  \n0     [-406757.5912640221]  [[-1.8342235724199345, 1.0243422546435585, -2....  \n1       [-406757.03429293]  [[-1.0413302733349663, -2.6158647255196934, -1...  \n2      [-406755.654207047]  [[0.12499747050397911, -6.797555259687784, -0....  \n3    [-406753.83377323527]  [[1.4975764196670198, -11.182962368191696, 0.4...  \n4    [-406752.02145761694]  [[2.923970894394034, -15.430847763868533, 1.51...  \n..                     ...                                                ...  \n795  [-260104.45884442827]  [[22.168542461178145, -7.322201361941002, -8.9...  \n796  [-260105.17779926624]  [[24.394914606755318, -8.58992759527803, -9.79...  \n797  [-260105.30795649372]  [[26.220437611461865, -9.57431090684579, -10.5...  \n798  [-260104.75759818061]  [[27.532219946059733, -10.318331382787903, -11...  \n799  [-260103.70438818145]  [[28.247861793034385, -10.87611754046991, -11....  \n\n[800 rows x 4 columns]",
      "text/html": "<div>\n<style scoped>\n    .dataframe tbody tr th:only-of-type {\n        vertical-align: middle;\n    }\n\n    .dataframe tbody tr th {\n        vertical-align: top;\n    }\n\n    .dataframe thead th {\n        text-align: right;\n    }\n</style>\n<table border=\"1\" class=\"dataframe\">\n  <thead>\n    <tr style=\"text-align: right;\">\n      <th></th>\n      <th>name</th>\n      <th>ase_atoms</th>\n      <th>energy</th>\n      <th>forces</th>\n    </tr>\n  </thead>\n  <tbody>\n    <tr>\n      <th>0</th>\n      <td>aspirin0</td>\n      <td>[(Atom('C', [2.2393, -0.3791, 0.263], index=0)...</td>\n      <td>[-406757.5912640221]</td>\n      <td>[[-1.8342235724199345, 1.0243422546435585, -2....</td>\n    </tr>\n    <tr>\n      <th>1</th>\n      <td>aspirin1</td>\n      <td>[(Atom('C', [2.2407929, -0.3792177, 0.26220864...</td>\n      <td>[-406757.03429293]</td>\n      <td>[[-1.0413302733349663, -2.6158647255196934, -1...</td>\n    </tr>\n    <tr>\n      <th>2</th>\n      <td>aspirin2</td>\n      <td>[(Atom('C', [2.24227707, -0.37935822, 0.261403...</td>\n      <td>[-406755.654207047]</td>\n      <td>[[0.12499747050397911, -6.797555259687784, -0....</td>\n    </tr>\n    <tr>\n      <th>3</th>\n      <td>aspirin3</td>\n      <td>[(Atom('C', [2.2437641, -0.37955814, 0.2605934...</td>\n      <td>[-406753.83377323527]</td>\n      <td>[[1.4975764196670198, -11.182962368191696, 0.4...</td>\n    </tr>\n    <tr>\n      <th>4</th>\n      <td>aspirin4</td>\n      <td>[(Atom('C', [2.24526922, -0.37985629, 0.259784...</td>\n      <td>[-406752.02145761694]</td>\n      <td>[[2.923970894394034, -15.430847763868533, 1.51...</td>\n    </tr>\n    <tr>\n      <th>...</th>\n      <td>...</td>\n      <td>...</td>\n      <td>...</td>\n      <td>...</td>\n    </tr>\n    <tr>\n      <th>795</th>\n      <td>uracil95</td>\n      <td>[(Atom('C', [1.61046731, 0.33167008, 0.2059238...</td>\n      <td>[-260104.45884442827]</td>\n      <td>[[22.168542461178145, -7.322201361941002, -8.9...</td>\n    </tr>\n    <tr>\n      <th>796</th>\n      <td>uracil96</td>\n      <td>[(Atom('C', [1.60611853, 0.33264749, 0.2082256...</td>\n      <td>[-260105.17779926624]</td>\n      <td>[[24.394914606755318, -8.58992759527803, -9.79...</td>\n    </tr>\n    <tr>\n      <th>797</th>\n      <td>uracil97</td>\n      <td>[(Atom('C', [1.60193117, 0.3335614, 0.21046942...</td>\n      <td>[-260105.30795649372]</td>\n      <td>[[26.220437611461865, -9.57431090684579, -10.5...</td>\n    </tr>\n    <tr>\n      <th>798</th>\n      <td>uracil98</td>\n      <td>[(Atom('C', [1.59796762, 0.3343929, 0.21262356...</td>\n      <td>[-260104.75759818061]</td>\n      <td>[[27.532219946059733, -10.318331382787903, -11...</td>\n    </tr>\n    <tr>\n      <th>799</th>\n      <td>uracil99</td>\n      <td>[(Atom('C', [1.59428025, 0.33512709, 0.2146594...</td>\n      <td>[-260103.70438818145]</td>\n      <td>[[28.247861793034385, -10.87611754046991, -11....</td>\n    </tr>\n  </tbody>\n</table>\n<p>800 rows × 4 columns</p>\n</div>"
     },
     "execution_count": 2,
     "metadata": {},
     "output_type": "execute_result"
    }
   ],
   "source": [
    "df_temp = pd.read_pickle(\"./../Datasets/df_8molecules.pkl.gzip\", compression=\"gzip\")\n",
    "df_temp"
   ],
   "metadata": {
    "collapsed": false,
    "ExecuteTime": {
     "end_time": "2024-01-16T09:55:08.588421500Z",
     "start_time": "2024-01-16T09:55:08.159741600Z"
    }
   },
   "id": "14e6ff6083876cc"
  },
  {
   "cell_type": "code",
   "execution_count": 4,
   "outputs": [
    {
     "name": "stdout",
     "output_type": "stream",
     "text": [
      "Reading ./../Datasets/Cu_df2_1k.pkl.gzip\n",
      "Reading ./../Datasets/ethanol.pckl.gzip\n"
     ]
    },
    {
     "data": {
      "text/plain": "                                                   name  \\\n0       A1:FHI-aims/PBE/tight:phonon:supercell_phonon_0   \n1     A1:FHI-aims/PBE/tight:qha:phonopy_strain_1_02:...   \n2                 fcc_100surf_X110_Y-110_Z001_2at_d1.05   \n3          A1:FHI-aims/PBE/tight:tp:trigonal:tp_4_12500   \n4                 fcc_110surf_X100_Y01-1_Z011_2at_d1.00   \n...                                                 ...   \n1833                                                NaN   \n1834                                                NaN   \n1835                                                NaN   \n1836                                                NaN   \n1837                                                NaN   \n\n                                              ase_atoms  energy_corrected  \\\n0     (Atom('Cu', [4.3368086899420173e-19, 0.0070709...       -236.789603   \n1     (Atom('Cu', [0.0, 0.007070999999999999, 0.0070...       -236.667372   \n2     (Atom('Cu', [1.2699999999999998, 1.26999999999...         -7.393033   \n3     (Atom('Cu', [0.0, 0.0, 0.0], index=0), Atom('C...         -7.391491   \n4     (Atom('Cu', [0.0, 0.0, 0.0], index=0), Atom('C...         -7.391475   \n...                                                 ...               ...   \n1833  (Atom('C', [-0.32652388, -0.51658872, -0.03294...        -44.429389   \n1834  (Atom('C', [-0.33627583, -0.50508262, -0.15660...        -44.491822   \n1835  (Atom('C', [0.07746533, -0.35826784, 0.4507782...        -44.620031   \n1836  (Atom('C', [0.18038169, -0.30347999, -0.353913...        -44.399892   \n1837  (Atom('C', [0.30510098, 0.4347642, -0.42044504...        -44.648017   \n\n                                                 forces  \\\n0     [[-1.13852957740976e-06, -0.0464638907314277, ...   \n1     [[-1.7950713845026e-06, -0.0426786586259085, -...   \n2     [[1.43567879745929e-07, 1.29341091704393e-08, ...   \n3                    [[0.0, 0.0, 0.0], [0.0, 0.0, 0.0]]   \n4     [[-9.87788653663608e-08, -6.83294122864741e-08...   \n...                                                 ...   \n1833  [[2.7201568578213875, 3.66578381198858, 2.4756...   \n1834  [[-0.9712440517099267, 3.475118895210679, -0.2...   \n1835  [[0.12325057119995139, 0.8819713337546561, -0....   \n1836  [[-0.07392296614804496, 1.7788623335772662, 1....   \n1837  [[0.6465833106722243, -1.4897205863499672, 2.2...   \n\n      energy_corrected_per_atom       energy  \\\n0                     -3.699838          NaN   \n1                     -3.697928          NaN   \n2                     -3.696516          NaN   \n3                     -3.695746          NaN   \n4                     -3.695738          NaN   \n...                         ...          ...   \n1833                  -4.936599 -4209.436457   \n1834                  -4.943536 -4209.498890   \n1835                  -4.957781 -4209.627098   \n1836                  -4.933321 -4209.406960   \n1837                  -4.960891 -4209.655084   \n\n                                                   grid  \\\n0     [GridCell(index: (0, 0, 0), atoms: Atom('Cu', ...   \n1     [GridCell(index: (0, 0, 0), atoms: Atom('Cu', ...   \n2     [GridCell(index: (1, 1, 0), atoms: Atom('Cu', ...   \n3     [GridCell(index: (0, 0, 0), atoms: Atom('Cu', ...   \n4     [GridCell(index: (0, 0, 0), atoms: Atom('Cu', ...   \n...                                                 ...   \n1833  [GridCell(index: (1, 0, 0), atoms: Atom('C', [...   \n1834  [GridCell(index: (1, 0, 0), atoms: Atom('C', [...   \n1835  [GridCell(index: (1, 0, 1), atoms: Atom('C', [...   \n1836  [GridCell(index: (2, 0, 1), atoms: Atom('C', [...   \n1837  [GridCell(index: (2, 1, 0), atoms: Atom('C', [...   \n\n                                  local_distance_matrix  \\\n0     [[[2.5576886661519227, -1.300522737268895e-16,...   \n1     [[[2.5743339597810535, 0.0, -0.707106781186547...   \n2     [[[2.5399998414568845, 0.5000000312092766, 0.5...   \n3     [[[0.0, 0.0, 0.0, 0.0], [0.0, 0.0, 0.0, 0.0], ...   \n4     [[[2.590799824143888, -0.70710673319015, -0.50...   \n...                                                 ...   \n1833  [[[1.0343774225255842, 0.35159739770035886, 0....   \n1834  [[[1.4250485855668362, -0.9668569647061895, -0...   \n1835  [[[1.0462284679619804, 0.326336312244571, 0.94...   \n1836  [[[1.020589821866751, 0.21938583474256218, 0.9...   \n1837  [[[1.1136293147545537, -0.5791350240651185, 0....   \n\n                                   local_atomic_numbers  \\\n0     [[[29.0, 29.0], [29.0, 29.0], [29.0, 29.0], [0...   \n1     [[[29.0, 29.0], [29.0, 29.0], [29.0, 29.0], [0...   \n2     [[[29, 29], [0, 0], [0, 0], [0, 0], [0, 0], [0...   \n3     [[[0.0, 0.0], [0.0, 0.0], [0.0, 0.0], [0.0, 0....   \n4     [[[29, 29], [0, 0], [0, 0], [0, 0], [0, 0], [0...   \n...                                                 ...   \n1833  [[[6, 1], [6, 1], [0, 0], [0, 0], [0, 0], [0, ...   \n1834  [[[6, 8], [6, 1], [6, 1], [0, 0], [0, 0], [0, ...   \n1835  [[[6, 1], [6, 6], [6, 1], [6, 8], [6, 1], [6, ...   \n1836  [[[6, 1], [6, 8], [6, 1], [6, 1], [0, 0], [0, ...   \n1837  [[[6, 1], [6, 1], [0, 0], [0, 0], [0, 0], [0, ...   \n\n                             long_range_distance_matrix  \\\n0     [[[13.579369421666973, -0.5348199739239784, -0...   \n1     [[[5.158667823661648, 0.0, -0.7071067811865476...   \n2     [[[0.0, 0.0, 0.0, 0.0], [0.0, 0.0, 0.0, 0.0], ...   \n3     [[[6.419884, 0.0, -3.4587011996639086e-17, -1....   \n4     [[[0.0, 0.0, 0.0, 0.0], [0.0, 0.0, 0.0, 0.0], ...   \n...                                                 ...   \n1833  [[[1.696334685076114, 0.3541336065842723, -0.9...   \n1834  [[[1.6849636601019067, 0.2820904932580285, -0....   \n1835  [[[2.0943709880650925, 0.3568483779898367, -0....   \n1836  [[[1.640426146895227, 0.9166875109096976, -0.3...   \n1837  [[[1.568776199822216, 0.9429496026605678, 0.29...   \n\n                             long_range_atomic_features  n_max_local  \\\n0     [[[29, 0, 0, 0, 0, 0, 0, 0, 0, 0, 0, 0, 0, 0, ...            3   \n1     [[[29, 0, 0, 0, 0, 0, 0, 0, 0, 0, 0, 0, 0, 0, ...            3   \n2     [[[0.0, 0.0, 0.0, 0.0, 0.0, 0.0, 0.0, 0.0, 0.0...            1   \n3     [[[29, 0, 0, 0, 0, 0, 0, 0, 0, 0, 0, 0, 0, 0, ...            0   \n4     [[[0.0, 0.0, 0.0, 0.0, 0.0, 0.0, 0.0, 0.0, 0.0...            1   \n...                                                 ...          ...   \n1833  [[[6, 0, 0, 0, 0, 0, 1, 0, 0, 0, 0, 0, 0, 0, 0...            3   \n1834  [[[6, 0, 0, 0, 0, 0, 1, 0, 0, 0, 0, 0, 0, 0, 0...            4   \n1835  [[[6, 1, 0, 0, 0, 0, 0, 0, 0, 0, 0, 0, 0, 0, 0...            6   \n1836  [[[6, 1, 0, 0, 0, 0, 1, 0, 0, 0, 0, 0, 0, 0, 0...            5   \n1837  [[[6, 1, 0, 0, 0, 0, 1, 0, 0, 0, 0, 0, 0, 0, 0...            3   \n\n      n_max_long_range  \n0                   63  \n1                   63  \n2                    0  \n3                    1  \n4                    0  \n...                ...  \n1833                 6  \n1834                 7  \n1835                 5  \n1836                 4  \n1837                 5  \n\n[1838 rows x 13 columns]",
      "text/html": "<div>\n<style scoped>\n    .dataframe tbody tr th:only-of-type {\n        vertical-align: middle;\n    }\n\n    .dataframe tbody tr th {\n        vertical-align: top;\n    }\n\n    .dataframe thead th {\n        text-align: right;\n    }\n</style>\n<table border=\"1\" class=\"dataframe\">\n  <thead>\n    <tr style=\"text-align: right;\">\n      <th></th>\n      <th>name</th>\n      <th>ase_atoms</th>\n      <th>energy_corrected</th>\n      <th>forces</th>\n      <th>energy_corrected_per_atom</th>\n      <th>energy</th>\n      <th>grid</th>\n      <th>local_distance_matrix</th>\n      <th>local_atomic_numbers</th>\n      <th>long_range_distance_matrix</th>\n      <th>long_range_atomic_features</th>\n      <th>n_max_local</th>\n      <th>n_max_long_range</th>\n    </tr>\n  </thead>\n  <tbody>\n    <tr>\n      <th>0</th>\n      <td>A1:FHI-aims/PBE/tight:phonon:supercell_phonon_0</td>\n      <td>(Atom('Cu', [4.3368086899420173e-19, 0.0070709...</td>\n      <td>-236.789603</td>\n      <td>[[-1.13852957740976e-06, -0.0464638907314277, ...</td>\n      <td>-3.699838</td>\n      <td>NaN</td>\n      <td>[GridCell(index: (0, 0, 0), atoms: Atom('Cu', ...</td>\n      <td>[[[2.5576886661519227, -1.300522737268895e-16,...</td>\n      <td>[[[29.0, 29.0], [29.0, 29.0], [29.0, 29.0], [0...</td>\n      <td>[[[13.579369421666973, -0.5348199739239784, -0...</td>\n      <td>[[[29, 0, 0, 0, 0, 0, 0, 0, 0, 0, 0, 0, 0, 0, ...</td>\n      <td>3</td>\n      <td>63</td>\n    </tr>\n    <tr>\n      <th>1</th>\n      <td>A1:FHI-aims/PBE/tight:qha:phonopy_strain_1_02:...</td>\n      <td>(Atom('Cu', [0.0, 0.007070999999999999, 0.0070...</td>\n      <td>-236.667372</td>\n      <td>[[-1.7950713845026e-06, -0.0426786586259085, -...</td>\n      <td>-3.697928</td>\n      <td>NaN</td>\n      <td>[GridCell(index: (0, 0, 0), atoms: Atom('Cu', ...</td>\n      <td>[[[2.5743339597810535, 0.0, -0.707106781186547...</td>\n      <td>[[[29.0, 29.0], [29.0, 29.0], [29.0, 29.0], [0...</td>\n      <td>[[[5.158667823661648, 0.0, -0.7071067811865476...</td>\n      <td>[[[29, 0, 0, 0, 0, 0, 0, 0, 0, 0, 0, 0, 0, 0, ...</td>\n      <td>3</td>\n      <td>63</td>\n    </tr>\n    <tr>\n      <th>2</th>\n      <td>fcc_100surf_X110_Y-110_Z001_2at_d1.05</td>\n      <td>(Atom('Cu', [1.2699999999999998, 1.26999999999...</td>\n      <td>-7.393033</td>\n      <td>[[1.43567879745929e-07, 1.29341091704393e-08, ...</td>\n      <td>-3.696516</td>\n      <td>NaN</td>\n      <td>[GridCell(index: (1, 1, 0), atoms: Atom('Cu', ...</td>\n      <td>[[[2.5399998414568845, 0.5000000312092766, 0.5...</td>\n      <td>[[[29, 29], [0, 0], [0, 0], [0, 0], [0, 0], [0...</td>\n      <td>[[[0.0, 0.0, 0.0, 0.0], [0.0, 0.0, 0.0, 0.0], ...</td>\n      <td>[[[0.0, 0.0, 0.0, 0.0, 0.0, 0.0, 0.0, 0.0, 0.0...</td>\n      <td>1</td>\n      <td>0</td>\n    </tr>\n    <tr>\n      <th>3</th>\n      <td>A1:FHI-aims/PBE/tight:tp:trigonal:tp_4_12500</td>\n      <td>(Atom('Cu', [0.0, 0.0, 0.0], index=0), Atom('C...</td>\n      <td>-7.391491</td>\n      <td>[[0.0, 0.0, 0.0], [0.0, 0.0, 0.0]]</td>\n      <td>-3.695746</td>\n      <td>NaN</td>\n      <td>[GridCell(index: (0, 0, 0), atoms: Atom('Cu', ...</td>\n      <td>[[[0.0, 0.0, 0.0, 0.0], [0.0, 0.0, 0.0, 0.0], ...</td>\n      <td>[[[0.0, 0.0], [0.0, 0.0], [0.0, 0.0], [0.0, 0....</td>\n      <td>[[[6.419884, 0.0, -3.4587011996639086e-17, -1....</td>\n      <td>[[[29, 0, 0, 0, 0, 0, 0, 0, 0, 0, 0, 0, 0, 0, ...</td>\n      <td>0</td>\n      <td>1</td>\n    </tr>\n    <tr>\n      <th>4</th>\n      <td>fcc_110surf_X100_Y01-1_Z011_2at_d1.00</td>\n      <td>(Atom('Cu', [0.0, 0.0, 0.0], index=0), Atom('C...</td>\n      <td>-7.391475</td>\n      <td>[[-9.87788653663608e-08, -6.83294122864741e-08...</td>\n      <td>-3.695738</td>\n      <td>NaN</td>\n      <td>[GridCell(index: (0, 0, 0), atoms: Atom('Cu', ...</td>\n      <td>[[[2.590799824143888, -0.70710673319015, -0.50...</td>\n      <td>[[[29, 29], [0, 0], [0, 0], [0, 0], [0, 0], [0...</td>\n      <td>[[[0.0, 0.0, 0.0, 0.0], [0.0, 0.0, 0.0, 0.0], ...</td>\n      <td>[[[0.0, 0.0, 0.0, 0.0, 0.0, 0.0, 0.0, 0.0, 0.0...</td>\n      <td>1</td>\n      <td>0</td>\n    </tr>\n    <tr>\n      <th>...</th>\n      <td>...</td>\n      <td>...</td>\n      <td>...</td>\n      <td>...</td>\n      <td>...</td>\n      <td>...</td>\n      <td>...</td>\n      <td>...</td>\n      <td>...</td>\n      <td>...</td>\n      <td>...</td>\n      <td>...</td>\n      <td>...</td>\n    </tr>\n    <tr>\n      <th>1833</th>\n      <td>NaN</td>\n      <td>(Atom('C', [-0.32652388, -0.51658872, -0.03294...</td>\n      <td>-44.429389</td>\n      <td>[[2.7201568578213875, 3.66578381198858, 2.4756...</td>\n      <td>-4.936599</td>\n      <td>-4209.436457</td>\n      <td>[GridCell(index: (1, 0, 0), atoms: Atom('C', [...</td>\n      <td>[[[1.0343774225255842, 0.35159739770035886, 0....</td>\n      <td>[[[6, 1], [6, 1], [0, 0], [0, 0], [0, 0], [0, ...</td>\n      <td>[[[1.696334685076114, 0.3541336065842723, -0.9...</td>\n      <td>[[[6, 0, 0, 0, 0, 0, 1, 0, 0, 0, 0, 0, 0, 0, 0...</td>\n      <td>3</td>\n      <td>6</td>\n    </tr>\n    <tr>\n      <th>1834</th>\n      <td>NaN</td>\n      <td>(Atom('C', [-0.33627583, -0.50508262, -0.15660...</td>\n      <td>-44.491822</td>\n      <td>[[-0.9712440517099267, 3.475118895210679, -0.2...</td>\n      <td>-4.943536</td>\n      <td>-4209.498890</td>\n      <td>[GridCell(index: (1, 0, 0), atoms: Atom('C', [...</td>\n      <td>[[[1.4250485855668362, -0.9668569647061895, -0...</td>\n      <td>[[[6, 8], [6, 1], [6, 1], [0, 0], [0, 0], [0, ...</td>\n      <td>[[[1.6849636601019067, 0.2820904932580285, -0....</td>\n      <td>[[[6, 0, 0, 0, 0, 0, 1, 0, 0, 0, 0, 0, 0, 0, 0...</td>\n      <td>4</td>\n      <td>7</td>\n    </tr>\n    <tr>\n      <th>1835</th>\n      <td>NaN</td>\n      <td>(Atom('C', [0.07746533, -0.35826784, 0.4507782...</td>\n      <td>-44.620031</td>\n      <td>[[0.12325057119995139, 0.8819713337546561, -0....</td>\n      <td>-4.957781</td>\n      <td>-4209.627098</td>\n      <td>[GridCell(index: (1, 0, 1), atoms: Atom('C', [...</td>\n      <td>[[[1.0462284679619804, 0.326336312244571, 0.94...</td>\n      <td>[[[6, 1], [6, 6], [6, 1], [6, 8], [6, 1], [6, ...</td>\n      <td>[[[2.0943709880650925, 0.3568483779898367, -0....</td>\n      <td>[[[6, 1, 0, 0, 0, 0, 0, 0, 0, 0, 0, 0, 0, 0, 0...</td>\n      <td>6</td>\n      <td>5</td>\n    </tr>\n    <tr>\n      <th>1836</th>\n      <td>NaN</td>\n      <td>(Atom('C', [0.18038169, -0.30347999, -0.353913...</td>\n      <td>-44.399892</td>\n      <td>[[-0.07392296614804496, 1.7788623335772662, 1....</td>\n      <td>-4.933321</td>\n      <td>-4209.406960</td>\n      <td>[GridCell(index: (2, 0, 1), atoms: Atom('C', [...</td>\n      <td>[[[1.020589821866751, 0.21938583474256218, 0.9...</td>\n      <td>[[[6, 1], [6, 8], [6, 1], [6, 1], [0, 0], [0, ...</td>\n      <td>[[[1.640426146895227, 0.9166875109096976, -0.3...</td>\n      <td>[[[6, 1, 0, 0, 0, 0, 1, 0, 0, 0, 0, 0, 0, 0, 0...</td>\n      <td>5</td>\n      <td>4</td>\n    </tr>\n    <tr>\n      <th>1837</th>\n      <td>NaN</td>\n      <td>(Atom('C', [0.30510098, 0.4347642, -0.42044504...</td>\n      <td>-44.648017</td>\n      <td>[[0.6465833106722243, -1.4897205863499672, 2.2...</td>\n      <td>-4.960891</td>\n      <td>-4209.655084</td>\n      <td>[GridCell(index: (2, 1, 0), atoms: Atom('C', [...</td>\n      <td>[[[1.1136293147545537, -0.5791350240651185, 0....</td>\n      <td>[[[6, 1], [6, 1], [0, 0], [0, 0], [0, 0], [0, ...</td>\n      <td>[[[1.568776199822216, 0.9429496026605678, 0.29...</td>\n      <td>[[[6, 1, 0, 0, 0, 0, 1, 0, 0, 0, 0, 0, 0, 0, 0...</td>\n      <td>3</td>\n      <td>5</td>\n    </tr>\n  </tbody>\n</table>\n<p>1838 rows × 13 columns</p>\n</div>"
     },
     "execution_count": 4,
     "metadata": {},
     "output_type": "execute_result"
    }
   ],
   "source": [
    "files = [\"./../Datasets/Cu_df2_1k.pkl.gzip\", \n",
    "         \"./../Datasets/ethanol.pckl.gzip\"]\n",
    "create_df(files, grid_size=1, save_path=\"./../Datasets/Cu-Ethanol_df_preprocessed\")"
   ],
   "metadata": {
    "collapsed": false,
    "ExecuteTime": {
     "end_time": "2024-01-15T10:23:26.930197700Z",
     "start_time": "2024-01-15T10:22:45.676962300Z"
    }
   },
   "id": "1cee15ce215e526d"
  },
  {
   "cell_type": "code",
   "execution_count": 8,
   "outputs": [
    {
     "name": "stdout",
     "output_type": "stream",
     "text": [
      "Reading ./../Datasets/df_8molecules.pkl.gzip\n"
     ]
    },
    {
     "ename": "TypeError",
     "evalue": "int() argument must be a string, a bytes-like object or a number, not 'Atoms'",
     "output_type": "error",
     "traceback": [
      "\u001B[1;31m---------------------------------------------------------------------------\u001B[0m",
      "\u001B[1;31mTypeError\u001B[0m                                 Traceback (most recent call last)",
      "Cell \u001B[1;32mIn[8], line 1\u001B[0m\n\u001B[1;32m----> 1\u001B[0m \u001B[43mcreate_df\u001B[49m\u001B[43m(\u001B[49m\u001B[43m[\u001B[49m\u001B[38;5;124;43m\"\u001B[39;49m\u001B[38;5;124;43m./../Datasets/df_8molecules.pkl.gzip\u001B[39;49m\u001B[38;5;124;43m\"\u001B[39;49m\u001B[43m]\u001B[49m\u001B[43m,\u001B[49m\u001B[43m \u001B[49m\u001B[43mgrid_size\u001B[49m\u001B[38;5;241;43m=\u001B[39;49m\u001B[38;5;241;43m1\u001B[39;49m\u001B[43m,\u001B[49m\u001B[43m \u001B[49m\u001B[43msave_path\u001B[49m\u001B[38;5;241;43m=\u001B[39;49m\u001B[38;5;124;43m\"\u001B[39;49m\u001B[38;5;124;43m./../Datasets/df_8molecules_preprocessed\u001B[39;49m\u001B[38;5;124;43m\"\u001B[39;49m\u001B[43m)\u001B[49m\n",
      "File \u001B[1;32mG:\\Uni\\Master Physik\\Masterarbeit\\Repo\\long-range-ml-potential\\Neural-Network\\Dataset.py:234\u001B[0m, in \u001B[0;36mcreate_df\u001B[1;34m(files, grid_size, save_path)\u001B[0m\n\u001B[0;32m    232\u001B[0m \u001B[38;5;28mprint\u001B[39m(\u001B[38;5;124mf\u001B[39m\u001B[38;5;124m\"\u001B[39m\u001B[38;5;124mReading \u001B[39m\u001B[38;5;132;01m{\u001B[39;00mfile\u001B[38;5;132;01m}\u001B[39;00m\u001B[38;5;124m\"\u001B[39m)\n\u001B[0;32m    233\u001B[0m df_temp \u001B[38;5;241m=\u001B[39m pd\u001B[38;5;241m.\u001B[39mread_pickle(file, compression\u001B[38;5;241m=\u001B[39m\u001B[38;5;124m\"\u001B[39m\u001B[38;5;124mgzip\u001B[39m\u001B[38;5;124m\"\u001B[39m)\n\u001B[1;32m--> 234\u001B[0m df_temp \u001B[38;5;241m=\u001B[39m \u001B[43mdeserialize_df\u001B[49m\u001B[43m(\u001B[49m\u001B[43mdf_temp\u001B[49m\u001B[43m)\u001B[49m\n\u001B[0;32m    235\u001B[0m df_temp \u001B[38;5;241m=\u001B[39m filter_out_single_atom_molecules(df_temp)\n\u001B[0;32m    236\u001B[0m df \u001B[38;5;241m=\u001B[39m pd\u001B[38;5;241m.\u001B[39mconcat([df, df_temp], ignore_index\u001B[38;5;241m=\u001B[39m\u001B[38;5;28;01mTrue\u001B[39;00m)\n",
      "File \u001B[1;32mG:\\Uni\\Master Physik\\Masterarbeit\\Repo\\long-range-ml-potential\\Neural-Network\\Dataset.py:9\u001B[0m, in \u001B[0;36mdeserialize_df\u001B[1;34m(df)\u001B[0m\n\u001B[0;32m      8\u001B[0m \u001B[38;5;28;01mdef\u001B[39;00m \u001B[38;5;21mdeserialize_df\u001B[39m(df):\n\u001B[1;32m----> 9\u001B[0m     df[\u001B[38;5;124m\"\u001B[39m\u001B[38;5;124mase_atoms\u001B[39m\u001B[38;5;124m\"\u001B[39m] \u001B[38;5;241m=\u001B[39m [Atoms(atom) \u001B[38;5;28;01mfor\u001B[39;00m atom \u001B[38;5;129;01min\u001B[39;00m df[\u001B[38;5;124m\"\u001B[39m\u001B[38;5;124mase_atoms\u001B[39m\u001B[38;5;124m\"\u001B[39m]]\n\u001B[0;32m     10\u001B[0m     \u001B[38;5;28;01mreturn\u001B[39;00m df\n",
      "File \u001B[1;32mG:\\Uni\\Master Physik\\Masterarbeit\\Repo\\long-range-ml-potential\\Neural-Network\\Dataset.py:9\u001B[0m, in \u001B[0;36m<listcomp>\u001B[1;34m(.0)\u001B[0m\n\u001B[0;32m      8\u001B[0m \u001B[38;5;28;01mdef\u001B[39;00m \u001B[38;5;21mdeserialize_df\u001B[39m(df):\n\u001B[1;32m----> 9\u001B[0m     df[\u001B[38;5;124m\"\u001B[39m\u001B[38;5;124mase_atoms\u001B[39m\u001B[38;5;124m\"\u001B[39m] \u001B[38;5;241m=\u001B[39m [\u001B[43mAtoms\u001B[49m\u001B[43m(\u001B[49m\u001B[43matom\u001B[49m\u001B[43m)\u001B[49m \u001B[38;5;28;01mfor\u001B[39;00m atom \u001B[38;5;129;01min\u001B[39;00m df[\u001B[38;5;124m\"\u001B[39m\u001B[38;5;124mase_atoms\u001B[39m\u001B[38;5;124m\"\u001B[39m]]\n\u001B[0;32m     10\u001B[0m     \u001B[38;5;28;01mreturn\u001B[39;00m df\n",
      "File \u001B[1;32mC:\\ProgramData\\Anaconda3\\envs\\ml-potential\\lib\\site-packages\\ase\\atoms.py:208\u001B[0m, in \u001B[0;36mAtoms.__init__\u001B[1;34m(self, symbols, positions, numbers, tags, momenta, masses, magmoms, charges, scaled_positions, cell, pbc, celldisp, constraint, calculator, info, velocities)\u001B[0m\n\u001B[0;32m    205\u001B[0m         \u001B[38;5;28;01mraise\u001B[39;00m \u001B[38;5;167;01mTypeError\u001B[39;00m(\n\u001B[0;32m    206\u001B[0m             \u001B[38;5;124m'\u001B[39m\u001B[38;5;124mUse only one of \u001B[39m\u001B[38;5;124m\"\u001B[39m\u001B[38;5;124msymbols\u001B[39m\u001B[38;5;124m\"\u001B[39m\u001B[38;5;124m and \u001B[39m\u001B[38;5;124m\"\u001B[39m\u001B[38;5;124mnumbers\u001B[39m\u001B[38;5;124m\"\u001B[39m\u001B[38;5;124m.\u001B[39m\u001B[38;5;124m'\u001B[39m)\n\u001B[0;32m    207\u001B[0m     \u001B[38;5;28;01melse\u001B[39;00m:\n\u001B[1;32m--> 208\u001B[0m         \u001B[38;5;28mself\u001B[39m\u001B[38;5;241m.\u001B[39mnew_array(\u001B[38;5;124m'\u001B[39m\u001B[38;5;124mnumbers\u001B[39m\u001B[38;5;124m'\u001B[39m, \u001B[43msymbols2numbers\u001B[49m\u001B[43m(\u001B[49m\u001B[43msymbols\u001B[49m\u001B[43m)\u001B[49m, \u001B[38;5;28mint\u001B[39m)\n\u001B[0;32m    210\u001B[0m \u001B[38;5;28;01mif\u001B[39;00m \u001B[38;5;28mself\u001B[39m\u001B[38;5;241m.\u001B[39mnumbers\u001B[38;5;241m.\u001B[39mndim \u001B[38;5;241m!=\u001B[39m \u001B[38;5;241m1\u001B[39m:\n\u001B[0;32m    211\u001B[0m     \u001B[38;5;28;01mraise\u001B[39;00m \u001B[38;5;167;01mValueError\u001B[39;00m(\u001B[38;5;124m'\u001B[39m\u001B[38;5;124m\"\u001B[39m\u001B[38;5;124mnumbers\u001B[39m\u001B[38;5;124m\"\u001B[39m\u001B[38;5;124m must be 1-dimensional.\u001B[39m\u001B[38;5;124m'\u001B[39m)\n",
      "File \u001B[1;32mC:\\ProgramData\\Anaconda3\\envs\\ml-potential\\lib\\site-packages\\ase\\symbols.py:24\u001B[0m, in \u001B[0;36msymbols2numbers\u001B[1;34m(symbols)\u001B[0m\n\u001B[0;32m     22\u001B[0m         numbers\u001B[38;5;241m.\u001B[39mappend(atomic_numbers[s])\n\u001B[0;32m     23\u001B[0m     \u001B[38;5;28;01melse\u001B[39;00m:\n\u001B[1;32m---> 24\u001B[0m         numbers\u001B[38;5;241m.\u001B[39mappend(\u001B[38;5;28;43mint\u001B[39;49m\u001B[43m(\u001B[49m\u001B[43ms\u001B[49m\u001B[43m)\u001B[49m)\n\u001B[0;32m     25\u001B[0m \u001B[38;5;28;01mreturn\u001B[39;00m numbers\n",
      "\u001B[1;31mTypeError\u001B[0m: int() argument must be a string, a bytes-like object or a number, not 'Atoms'"
     ]
    }
   ],
   "source": [
    "create_df([\"./../Datasets/df_8molecules.pkl.gzip\"], grid_size=1, save_path=\"./../Datasets/df_8molecules_preprocessed\")"
   ],
   "metadata": {
    "collapsed": false,
    "ExecuteTime": {
     "end_time": "2024-01-24T14:04:38.097526500Z",
     "start_time": "2024-01-24T14:04:36.975873600Z"
    }
   },
   "id": "a6cf6e469061a883"
  },
  {
   "cell_type": "code",
   "execution_count": 6,
   "outputs": [
    {
     "name": "stdout",
     "output_type": "stream",
     "text": [
      "--------------------------------------------------\n",
      "Dataset shapes:\n",
      "(20147, 8, 4)\n",
      "(20147, 8, 2)\n",
      "(20147, 124, 4)\n",
      "(20147, 124, 101)\n",
      "(20147, 3)\n",
      "--------------------------------------------------\n"
     ]
    }
   ],
   "source": [
    "path = \"./../Datasets/Cu-Ethanol_df_preprocessed_grid_size_1.pkl.gzip\"\n",
    "ds = create_tf_dataset(path)"
   ],
   "metadata": {
    "collapsed": false,
    "ExecuteTime": {
     "end_time": "2024-01-15T10:28:39.600975500Z",
     "start_time": "2024-01-15T10:28:34.514559700Z"
    }
   },
   "id": "55a3cab44cbe3484"
  },
  {
   "cell_type": "code",
   "execution_count": 2,
   "outputs": [
    {
     "name": "stdout",
     "output_type": "stream",
     "text": [
      "--------------------------------------------------\n",
      "Dataset shapes:\n",
      "(20147, 8, 4)\n",
      "(20147, 8, 2)\n",
      "(20147, 124, 4)\n",
      "(20147, 124, 101)\n",
      "(20147, 3)\n",
      "--------------------------------------------------\n",
      "WARNING:tensorflow:From C:\\ProgramData\\Anaconda3\\envs\\ml-potential\\lib\\site-packages\\keras\\src\\backend.py:1398: The name tf.executing_eagerly_outside_functions is deprecated. Please use tf.compat.v1.executing_eagerly_outside_functions instead.\n"
     ]
    },
    {
     "name": "stderr",
     "output_type": "stream",
     "text": [
      "2024-01-19 11:03:58,096 - tensorflow - WARNING - From C:\\ProgramData\\Anaconda3\\envs\\ml-potential\\lib\\site-packages\\keras\\src\\backend.py:1398: The name tf.executing_eagerly_outside_functions is deprecated. Please use tf.compat.v1.executing_eagerly_outside_functions instead.\n",
      "\n"
     ]
    },
    {
     "name": "stdout",
     "output_type": "stream",
     "text": [
      "Model: \"model\"\n",
      "__________________________________________________________________________________________________\n",
      " Layer (type)                Output Shape                 Param #   Connected to                  \n",
      "==================================================================================================\n",
      " input_local_matrix (InputL  [(None, 8, 4)]               0         []                            \n",
      " ayer)                                                                                            \n",
      "                                                                                                  \n",
      " input_long_range_matrix (I  [(None, 124, 4)]             0         []                            \n",
      " nputLayer)                                                                                       \n",
      "                                                                                                  \n",
      " lambda (Lambda)             (None, 8)                    0         ['input_local_matrix[0][0]']  \n",
      "                                                                                                  \n",
      " lambda_2 (Lambda)           (None, 124)                  0         ['input_long_range_matrix[0][0\n",
      "                                                                    ]']                           \n",
      "                                                                                                  \n",
      " tf.expand_dims (TFOpLambda  (None, 8, 1)                 0         ['lambda[0][0]']              \n",
      " )                                                                                                \n",
      "                                                                                                  \n",
      " input_atomic_numbers (Inpu  [(None, 8, 2)]               0         []                            \n",
      " tLayer)                                                                                          \n",
      "                                                                                                  \n",
      " tf.expand_dims_1 (TFOpLamb  (None, 124, 1)               0         ['lambda_2[0][0]']            \n",
      " da)                                                                                              \n",
      "                                                                                                  \n",
      " input_long_range_atomic_fe  [(None, 124, 101)]           0         []                            \n",
      " atures (InputLayer)                                                                              \n",
      "                                                                                                  \n",
      " concatenate (Concatenate)   (None, 8, 3)                 0         ['tf.expand_dims[0][0]',      \n",
      "                                                                     'input_atomic_numbers[0][0]']\n",
      "                                                                                                  \n",
      " concatenate_1 (Concatenate  (None, 124, 102)             0         ['tf.expand_dims_1[0][0]',    \n",
      " )                                                                   'input_long_range_atomic_feat\n",
      "                                                                    ures[0][0]']                  \n",
      "                                                                                                  \n",
      " dense (Dense)               (None, 8, 96)                384       ['concatenate[0][0]']         \n",
      "                                                                                                  \n",
      " dense_3 (Dense)             (None, 124, 96)              9888      ['concatenate_1[0][0]']       \n",
      "                                                                                                  \n",
      " dense_1 (Dense)             (None, 8, 64)                6208      ['dense[0][0]']               \n",
      "                                                                                                  \n",
      " dense_4 (Dense)             (None, 124, 64)              6208      ['dense_3[0][0]']             \n",
      "                                                                                                  \n",
      " dense_2 (Dense)             (None, 8, 32)                2080      ['dense_1[0][0]']             \n",
      "                                                                                                  \n",
      " dense_5 (Dense)             (None, 124, 32)              2080      ['dense_4[0][0]']             \n",
      "                                                                                                  \n",
      " lambda_1 (Lambda)           (None, 8, 16)                0         ['dense_2[0][0]']             \n",
      "                                                                                                  \n",
      " lambda_3 (Lambda)           (None, 124, 16)              0         ['dense_5[0][0]']             \n",
      "                                                                                                  \n",
      " tf.linalg.matmul (TFOpLamb  (None, 4, 16)                0         ['input_local_matrix[0][0]',  \n",
      " da)                                                                 'lambda_1[0][0]']            \n",
      "                                                                                                  \n",
      " tf.linalg.matmul_3 (TFOpLa  (None, 4, 16)                0         ['input_long_range_matrix[0][0\n",
      " mbda)                                                              ]',                           \n",
      "                                                                     'lambda_3[0][0]']            \n",
      "                                                                                                  \n",
      " tf.linalg.matmul_1 (TFOpLa  (None, 8, 16)                0         ['input_local_matrix[0][0]',  \n",
      " mbda)                                                               'tf.linalg.matmul[0][0]']    \n",
      "                                                                                                  \n",
      " tf.linalg.matmul_4 (TFOpLa  (None, 124, 16)              0         ['input_long_range_matrix[0][0\n",
      " mbda)                                                              ]',                           \n",
      "                                                                     'tf.linalg.matmul_3[0][0]']  \n",
      "                                                                                                  \n",
      " tf.linalg.matmul_2 (TFOpLa  (None, 32, 16)               0         ['dense_2[0][0]',             \n",
      " mbda)                                                               'tf.linalg.matmul_1[0][0]']  \n",
      "                                                                                                  \n",
      " tf.linalg.matmul_5 (TFOpLa  (None, 32, 16)               0         ['dense_5[0][0]',             \n",
      " mbda)                                                               'tf.linalg.matmul_4[0][0]']  \n",
      "                                                                                                  \n",
      " concatenate_2 (Concatenate  (None, 32, 32)               0         ['tf.linalg.matmul_2[0][0]',  \n",
      " )                                                                   'tf.linalg.matmul_5[0][0]']  \n",
      "                                                                                                  \n",
      " flatten (Flatten)           (None, 1024)                 0         ['concatenate_2[0][0]']       \n",
      "                                                                                                  \n",
      " dense_7 (Dense)             (None, 512)                  524800    ['flatten[0][0]']             \n",
      "                                                                                                  \n",
      " dropout_1 (Dropout)         (None, 512)                  0         ['dense_7[0][0]']             \n",
      "                                                                                                  \n",
      " dense_8 (Dense)             (None, 512)                  262656    ['dropout_1[0][0]']           \n",
      "                                                                                                  \n",
      " dropout_2 (Dropout)         (None, 512)                  0         ['dense_8[0][0]']             \n",
      "                                                                                                  \n",
      " dense_9 (Dense)             (None, 256)                  131328    ['dropout_2[0][0]']           \n",
      "                                                                                                  \n",
      " dropout_3 (Dropout)         (None, 256)                  0         ['dense_9[0][0]']             \n",
      "                                                                                                  \n",
      " dense_10 (Dense)            (None, 256)                  65792     ['dropout_3[0][0]']           \n",
      "                                                                                                  \n",
      " dropout_4 (Dropout)         (None, 256)                  0         ['dense_10[0][0]']            \n",
      "                                                                                                  \n",
      " dense_11 (Dense)            (None, 128)                  32896     ['dropout_4[0][0]']           \n",
      "                                                                                                  \n",
      " dropout_5 (Dropout)         (None, 128)                  0         ['dense_11[0][0]']            \n",
      "                                                                                                  \n",
      " dense_12 (Dense)            (None, 32)                   4128      ['dropout_5[0][0]']           \n",
      "                                                                                                  \n",
      " dropout_6 (Dropout)         (None, 32)                   0         ['dense_12[0][0]']            \n",
      "                                                                                                  \n",
      " dense_13 (Dense)            (None, 8)                    264       ['dropout_6[0][0]']           \n",
      "                                                                                                  \n",
      " dense_14 (Dense)            (None, 3)                    27        ['dense_13[0][0]']            \n",
      "                                                                                                  \n",
      "==================================================================================================\n",
      "Total params: 1048739 (4.00 MB)\n",
      "Trainable params: 1048739 (4.00 MB)\n",
      "Non-trainable params: 0 (0.00 Byte)\n",
      "__________________________________________________________________________________________________\n",
      "..\\Checkpoints\\Model-0.001-LR-Cu-Ethanol-DS-11-03-58\n",
      "Epoch 1/100\n",
      "WARNING:tensorflow:From C:\\ProgramData\\Anaconda3\\envs\\ml-potential\\lib\\site-packages\\keras\\src\\utils\\tf_utils.py:492: The name tf.ragged.RaggedTensorValue is deprecated. Please use tf.compat.v1.ragged.RaggedTensorValue instead.\n"
     ]
    },
    {
     "name": "stderr",
     "output_type": "stream",
     "text": [
      "2024-01-19 11:03:59,100 - tensorflow - WARNING - From C:\\ProgramData\\Anaconda3\\envs\\ml-potential\\lib\\site-packages\\keras\\src\\utils\\tf_utils.py:492: The name tf.ragged.RaggedTensorValue is deprecated. Please use tf.compat.v1.ragged.RaggedTensorValue instead.\n",
      "\n"
     ]
    },
    {
     "name": "stdout",
     "output_type": "stream",
     "text": [
      "176/314 [===============>..............] - ETA: 1s - loss: 16325773.0000"
     ]
    },
    {
     "ename": "KeyboardInterrupt",
     "evalue": "",
     "output_type": "error",
     "traceback": [
      "\u001B[1;31m---------------------------------------------------------------------------\u001B[0m",
      "\u001B[1;31mKeyboardInterrupt\u001B[0m                         Traceback (most recent call last)",
      "Cell \u001B[1;32mIn[2], line 1\u001B[0m\n\u001B[1;32m----> 1\u001B[0m \u001B[43mstart_training\u001B[49m\u001B[43m(\u001B[49m\u001B[43m)\u001B[49m\n",
      "File \u001B[1;32mG:\\Uni\\Master Physik\\Masterarbeit\\Repo\\long-range-ml-potential\\Neural-Network\\Training.py:163\u001B[0m, in \u001B[0;36mstart_training\u001B[1;34m()\u001B[0m\n\u001B[0;32m    159\u001B[0m callbacks, checkpoint_dir \u001B[38;5;241m=\u001B[39m create_callbacks()\n\u001B[0;32m    162\u001B[0m \u001B[38;5;66;03m# Training\u001B[39;00m\n\u001B[1;32m--> 163\u001B[0m \u001B[43mmodel\u001B[49m\u001B[38;5;241;43m.\u001B[39;49m\u001B[43mfit\u001B[49m\u001B[43m(\u001B[49m\u001B[43mx\u001B[49m\u001B[38;5;241;43m=\u001B[39;49m\u001B[43mdataset\u001B[49m\u001B[43m,\u001B[49m\n\u001B[0;32m    164\u001B[0m \u001B[43m          \u001B[49m\u001B[43mepochs\u001B[49m\u001B[38;5;241;43m=\u001B[39;49m\u001B[43mHyperparameters\u001B[49m\u001B[38;5;241;43m.\u001B[39;49m\u001B[43mEPOCHS\u001B[49m\u001B[43m,\u001B[49m\n\u001B[0;32m    165\u001B[0m \u001B[43m          \u001B[49m\u001B[43minitial_epoch\u001B[49m\u001B[38;5;241;43m=\u001B[39;49m\u001B[38;5;241;43m0\u001B[39;49m\u001B[43m,\u001B[49m\n\u001B[0;32m    166\u001B[0m \u001B[43m          \u001B[49m\u001B[43mshuffle\u001B[49m\u001B[38;5;241;43m=\u001B[39;49m\u001B[38;5;28;43;01mTrue\u001B[39;49;00m\u001B[43m,\u001B[49m\n\u001B[0;32m    167\u001B[0m \u001B[43m          \u001B[49m\u001B[43mverbose\u001B[49m\u001B[38;5;241;43m=\u001B[39;49m\u001B[38;5;241;43m1\u001B[39;49m\u001B[43m,\u001B[49m\n\u001B[0;32m    168\u001B[0m \u001B[43m          \u001B[49m\u001B[43mcallbacks\u001B[49m\u001B[38;5;241;43m=\u001B[39;49m\u001B[43mcallbacks\u001B[49m\u001B[43m)\u001B[49m\n",
      "File \u001B[1;32mC:\\ProgramData\\Anaconda3\\envs\\ml-potential\\lib\\site-packages\\keras\\src\\utils\\traceback_utils.py:65\u001B[0m, in \u001B[0;36mfilter_traceback.<locals>.error_handler\u001B[1;34m(*args, **kwargs)\u001B[0m\n\u001B[0;32m     63\u001B[0m filtered_tb \u001B[38;5;241m=\u001B[39m \u001B[38;5;28;01mNone\u001B[39;00m\n\u001B[0;32m     64\u001B[0m \u001B[38;5;28;01mtry\u001B[39;00m:\n\u001B[1;32m---> 65\u001B[0m     \u001B[38;5;28;01mreturn\u001B[39;00m fn(\u001B[38;5;241m*\u001B[39margs, \u001B[38;5;241m*\u001B[39m\u001B[38;5;241m*\u001B[39mkwargs)\n\u001B[0;32m     66\u001B[0m \u001B[38;5;28;01mexcept\u001B[39;00m \u001B[38;5;167;01mException\u001B[39;00m \u001B[38;5;28;01mas\u001B[39;00m e:\n\u001B[0;32m     67\u001B[0m     filtered_tb \u001B[38;5;241m=\u001B[39m _process_traceback_frames(e\u001B[38;5;241m.\u001B[39m__traceback__)\n",
      "File \u001B[1;32mC:\\ProgramData\\Anaconda3\\envs\\ml-potential\\lib\\site-packages\\keras\\src\\engine\\training.py:1807\u001B[0m, in \u001B[0;36mModel.fit\u001B[1;34m(self, x, y, batch_size, epochs, verbose, callbacks, validation_split, validation_data, shuffle, class_weight, sample_weight, initial_epoch, steps_per_epoch, validation_steps, validation_batch_size, validation_freq, max_queue_size, workers, use_multiprocessing)\u001B[0m\n\u001B[0;32m   1799\u001B[0m \u001B[38;5;28;01mwith\u001B[39;00m tf\u001B[38;5;241m.\u001B[39mprofiler\u001B[38;5;241m.\u001B[39mexperimental\u001B[38;5;241m.\u001B[39mTrace(\n\u001B[0;32m   1800\u001B[0m     \u001B[38;5;124m\"\u001B[39m\u001B[38;5;124mtrain\u001B[39m\u001B[38;5;124m\"\u001B[39m,\n\u001B[0;32m   1801\u001B[0m     epoch_num\u001B[38;5;241m=\u001B[39mepoch,\n\u001B[1;32m   (...)\u001B[0m\n\u001B[0;32m   1804\u001B[0m     _r\u001B[38;5;241m=\u001B[39m\u001B[38;5;241m1\u001B[39m,\n\u001B[0;32m   1805\u001B[0m ):\n\u001B[0;32m   1806\u001B[0m     callbacks\u001B[38;5;241m.\u001B[39mon_train_batch_begin(step)\n\u001B[1;32m-> 1807\u001B[0m     tmp_logs \u001B[38;5;241m=\u001B[39m \u001B[38;5;28;43mself\u001B[39;49m\u001B[38;5;241;43m.\u001B[39;49m\u001B[43mtrain_function\u001B[49m\u001B[43m(\u001B[49m\u001B[43miterator\u001B[49m\u001B[43m)\u001B[49m\n\u001B[0;32m   1808\u001B[0m     \u001B[38;5;28;01mif\u001B[39;00m data_handler\u001B[38;5;241m.\u001B[39mshould_sync:\n\u001B[0;32m   1809\u001B[0m         context\u001B[38;5;241m.\u001B[39masync_wait()\n",
      "File \u001B[1;32mC:\\ProgramData\\Anaconda3\\envs\\ml-potential\\lib\\site-packages\\tensorflow\\python\\util\\traceback_utils.py:150\u001B[0m, in \u001B[0;36mfilter_traceback.<locals>.error_handler\u001B[1;34m(*args, **kwargs)\u001B[0m\n\u001B[0;32m    148\u001B[0m filtered_tb \u001B[38;5;241m=\u001B[39m \u001B[38;5;28;01mNone\u001B[39;00m\n\u001B[0;32m    149\u001B[0m \u001B[38;5;28;01mtry\u001B[39;00m:\n\u001B[1;32m--> 150\u001B[0m   \u001B[38;5;28;01mreturn\u001B[39;00m fn(\u001B[38;5;241m*\u001B[39margs, \u001B[38;5;241m*\u001B[39m\u001B[38;5;241m*\u001B[39mkwargs)\n\u001B[0;32m    151\u001B[0m \u001B[38;5;28;01mexcept\u001B[39;00m \u001B[38;5;167;01mException\u001B[39;00m \u001B[38;5;28;01mas\u001B[39;00m e:\n\u001B[0;32m    152\u001B[0m   filtered_tb \u001B[38;5;241m=\u001B[39m _process_traceback_frames(e\u001B[38;5;241m.\u001B[39m__traceback__)\n",
      "File \u001B[1;32mC:\\ProgramData\\Anaconda3\\envs\\ml-potential\\lib\\site-packages\\tensorflow\\python\\eager\\polymorphic_function\\polymorphic_function.py:832\u001B[0m, in \u001B[0;36mFunction.__call__\u001B[1;34m(self, *args, **kwds)\u001B[0m\n\u001B[0;32m    829\u001B[0m compiler \u001B[38;5;241m=\u001B[39m \u001B[38;5;124m\"\u001B[39m\u001B[38;5;124mxla\u001B[39m\u001B[38;5;124m\"\u001B[39m \u001B[38;5;28;01mif\u001B[39;00m \u001B[38;5;28mself\u001B[39m\u001B[38;5;241m.\u001B[39m_jit_compile \u001B[38;5;28;01melse\u001B[39;00m \u001B[38;5;124m\"\u001B[39m\u001B[38;5;124mnonXla\u001B[39m\u001B[38;5;124m\"\u001B[39m\n\u001B[0;32m    831\u001B[0m \u001B[38;5;28;01mwith\u001B[39;00m OptionalXlaContext(\u001B[38;5;28mself\u001B[39m\u001B[38;5;241m.\u001B[39m_jit_compile):\n\u001B[1;32m--> 832\u001B[0m   result \u001B[38;5;241m=\u001B[39m \u001B[38;5;28mself\u001B[39m\u001B[38;5;241m.\u001B[39m_call(\u001B[38;5;241m*\u001B[39margs, \u001B[38;5;241m*\u001B[39m\u001B[38;5;241m*\u001B[39mkwds)\n\u001B[0;32m    834\u001B[0m new_tracing_count \u001B[38;5;241m=\u001B[39m \u001B[38;5;28mself\u001B[39m\u001B[38;5;241m.\u001B[39mexperimental_get_tracing_count()\n\u001B[0;32m    835\u001B[0m without_tracing \u001B[38;5;241m=\u001B[39m (tracing_count \u001B[38;5;241m==\u001B[39m new_tracing_count)\n",
      "File \u001B[1;32mC:\\ProgramData\\Anaconda3\\envs\\ml-potential\\lib\\site-packages\\tensorflow\\python\\eager\\polymorphic_function\\polymorphic_function.py:868\u001B[0m, in \u001B[0;36mFunction._call\u001B[1;34m(self, *args, **kwds)\u001B[0m\n\u001B[0;32m    865\u001B[0m   \u001B[38;5;28mself\u001B[39m\u001B[38;5;241m.\u001B[39m_lock\u001B[38;5;241m.\u001B[39mrelease()\n\u001B[0;32m    866\u001B[0m   \u001B[38;5;66;03m# In this case we have created variables on the first call, so we run the\u001B[39;00m\n\u001B[0;32m    867\u001B[0m   \u001B[38;5;66;03m# defunned version which is guaranteed to never create variables.\u001B[39;00m\n\u001B[1;32m--> 868\u001B[0m   \u001B[38;5;28;01mreturn\u001B[39;00m \u001B[43mtracing_compilation\u001B[49m\u001B[38;5;241;43m.\u001B[39;49m\u001B[43mcall_function\u001B[49m\u001B[43m(\u001B[49m\n\u001B[0;32m    869\u001B[0m \u001B[43m      \u001B[49m\u001B[43margs\u001B[49m\u001B[43m,\u001B[49m\u001B[43m \u001B[49m\u001B[43mkwds\u001B[49m\u001B[43m,\u001B[49m\u001B[43m \u001B[49m\u001B[38;5;28;43mself\u001B[39;49m\u001B[38;5;241;43m.\u001B[39;49m\u001B[43m_no_variable_creation_config\u001B[49m\n\u001B[0;32m    870\u001B[0m \u001B[43m  \u001B[49m\u001B[43m)\u001B[49m\n\u001B[0;32m    871\u001B[0m \u001B[38;5;28;01melif\u001B[39;00m \u001B[38;5;28mself\u001B[39m\u001B[38;5;241m.\u001B[39m_variable_creation_config \u001B[38;5;129;01mis\u001B[39;00m \u001B[38;5;129;01mnot\u001B[39;00m \u001B[38;5;28;01mNone\u001B[39;00m:\n\u001B[0;32m    872\u001B[0m   \u001B[38;5;66;03m# Release the lock early so that multiple threads can perform the call\u001B[39;00m\n\u001B[0;32m    873\u001B[0m   \u001B[38;5;66;03m# in parallel.\u001B[39;00m\n\u001B[0;32m    874\u001B[0m   \u001B[38;5;28mself\u001B[39m\u001B[38;5;241m.\u001B[39m_lock\u001B[38;5;241m.\u001B[39mrelease()\n",
      "File \u001B[1;32mC:\\ProgramData\\Anaconda3\\envs\\ml-potential\\lib\\site-packages\\tensorflow\\python\\eager\\polymorphic_function\\tracing_compilation.py:139\u001B[0m, in \u001B[0;36mcall_function\u001B[1;34m(args, kwargs, tracing_options)\u001B[0m\n\u001B[0;32m    137\u001B[0m bound_args \u001B[38;5;241m=\u001B[39m function\u001B[38;5;241m.\u001B[39mfunction_type\u001B[38;5;241m.\u001B[39mbind(\u001B[38;5;241m*\u001B[39margs, \u001B[38;5;241m*\u001B[39m\u001B[38;5;241m*\u001B[39mkwargs)\n\u001B[0;32m    138\u001B[0m flat_inputs \u001B[38;5;241m=\u001B[39m function\u001B[38;5;241m.\u001B[39mfunction_type\u001B[38;5;241m.\u001B[39munpack_inputs(bound_args)\n\u001B[1;32m--> 139\u001B[0m \u001B[38;5;28;01mreturn\u001B[39;00m \u001B[43mfunction\u001B[49m\u001B[38;5;241;43m.\u001B[39;49m\u001B[43m_call_flat\u001B[49m\u001B[43m(\u001B[49m\u001B[43m  \u001B[49m\u001B[38;5;66;43;03m# pylint: disable=protected-access\u001B[39;49;00m\n\u001B[0;32m    140\u001B[0m \u001B[43m    \u001B[49m\u001B[43mflat_inputs\u001B[49m\u001B[43m,\u001B[49m\u001B[43m \u001B[49m\u001B[43mcaptured_inputs\u001B[49m\u001B[38;5;241;43m=\u001B[39;49m\u001B[43mfunction\u001B[49m\u001B[38;5;241;43m.\u001B[39;49m\u001B[43mcaptured_inputs\u001B[49m\n\u001B[0;32m    141\u001B[0m \u001B[43m\u001B[49m\u001B[43m)\u001B[49m\n",
      "File \u001B[1;32mC:\\ProgramData\\Anaconda3\\envs\\ml-potential\\lib\\site-packages\\tensorflow\\python\\eager\\polymorphic_function\\concrete_function.py:1323\u001B[0m, in \u001B[0;36mConcreteFunction._call_flat\u001B[1;34m(self, tensor_inputs, captured_inputs)\u001B[0m\n\u001B[0;32m   1319\u001B[0m possible_gradient_type \u001B[38;5;241m=\u001B[39m gradients_util\u001B[38;5;241m.\u001B[39mPossibleTapeGradientTypes(args)\n\u001B[0;32m   1320\u001B[0m \u001B[38;5;28;01mif\u001B[39;00m (possible_gradient_type \u001B[38;5;241m==\u001B[39m gradients_util\u001B[38;5;241m.\u001B[39mPOSSIBLE_GRADIENT_TYPES_NONE\n\u001B[0;32m   1321\u001B[0m     \u001B[38;5;129;01mand\u001B[39;00m executing_eagerly):\n\u001B[0;32m   1322\u001B[0m   \u001B[38;5;66;03m# No tape is watching; skip to running the function.\u001B[39;00m\n\u001B[1;32m-> 1323\u001B[0m   \u001B[38;5;28;01mreturn\u001B[39;00m \u001B[38;5;28;43mself\u001B[39;49m\u001B[38;5;241;43m.\u001B[39;49m\u001B[43m_inference_function\u001B[49m\u001B[38;5;241;43m.\u001B[39;49m\u001B[43mcall_preflattened\u001B[49m\u001B[43m(\u001B[49m\u001B[43margs\u001B[49m\u001B[43m)\u001B[49m\n\u001B[0;32m   1324\u001B[0m forward_backward \u001B[38;5;241m=\u001B[39m \u001B[38;5;28mself\u001B[39m\u001B[38;5;241m.\u001B[39m_select_forward_and_backward_functions(\n\u001B[0;32m   1325\u001B[0m     args,\n\u001B[0;32m   1326\u001B[0m     possible_gradient_type,\n\u001B[0;32m   1327\u001B[0m     executing_eagerly)\n\u001B[0;32m   1328\u001B[0m forward_function, args_with_tangents \u001B[38;5;241m=\u001B[39m forward_backward\u001B[38;5;241m.\u001B[39mforward()\n",
      "File \u001B[1;32mC:\\ProgramData\\Anaconda3\\envs\\ml-potential\\lib\\site-packages\\tensorflow\\python\\eager\\polymorphic_function\\atomic_function.py:216\u001B[0m, in \u001B[0;36mAtomicFunction.call_preflattened\u001B[1;34m(self, args)\u001B[0m\n\u001B[0;32m    214\u001B[0m \u001B[38;5;28;01mdef\u001B[39;00m \u001B[38;5;21mcall_preflattened\u001B[39m(\u001B[38;5;28mself\u001B[39m, args: Sequence[core\u001B[38;5;241m.\u001B[39mTensor]) \u001B[38;5;241m-\u001B[39m\u001B[38;5;241m>\u001B[39m Any:\n\u001B[0;32m    215\u001B[0m \u001B[38;5;250m  \u001B[39m\u001B[38;5;124;03m\"\"\"Calls with flattened tensor inputs and returns the structured output.\"\"\"\u001B[39;00m\n\u001B[1;32m--> 216\u001B[0m   flat_outputs \u001B[38;5;241m=\u001B[39m \u001B[38;5;28;43mself\u001B[39;49m\u001B[38;5;241;43m.\u001B[39;49m\u001B[43mcall_flat\u001B[49m\u001B[43m(\u001B[49m\u001B[38;5;241;43m*\u001B[39;49m\u001B[43margs\u001B[49m\u001B[43m)\u001B[49m\n\u001B[0;32m    217\u001B[0m   \u001B[38;5;28;01mreturn\u001B[39;00m \u001B[38;5;28mself\u001B[39m\u001B[38;5;241m.\u001B[39mfunction_type\u001B[38;5;241m.\u001B[39mpack_output(flat_outputs)\n",
      "File \u001B[1;32mC:\\ProgramData\\Anaconda3\\envs\\ml-potential\\lib\\site-packages\\tensorflow\\python\\eager\\polymorphic_function\\atomic_function.py:251\u001B[0m, in \u001B[0;36mAtomicFunction.call_flat\u001B[1;34m(self, *args)\u001B[0m\n\u001B[0;32m    249\u001B[0m \u001B[38;5;28;01mwith\u001B[39;00m record\u001B[38;5;241m.\u001B[39mstop_recording():\n\u001B[0;32m    250\u001B[0m   \u001B[38;5;28;01mif\u001B[39;00m \u001B[38;5;28mself\u001B[39m\u001B[38;5;241m.\u001B[39m_bound_context\u001B[38;5;241m.\u001B[39mexecuting_eagerly():\n\u001B[1;32m--> 251\u001B[0m     outputs \u001B[38;5;241m=\u001B[39m \u001B[38;5;28;43mself\u001B[39;49m\u001B[38;5;241;43m.\u001B[39;49m\u001B[43m_bound_context\u001B[49m\u001B[38;5;241;43m.\u001B[39;49m\u001B[43mcall_function\u001B[49m\u001B[43m(\u001B[49m\n\u001B[0;32m    252\u001B[0m \u001B[43m        \u001B[49m\u001B[38;5;28;43mself\u001B[39;49m\u001B[38;5;241;43m.\u001B[39;49m\u001B[43mname\u001B[49m\u001B[43m,\u001B[49m\n\u001B[0;32m    253\u001B[0m \u001B[43m        \u001B[49m\u001B[38;5;28;43mlist\u001B[39;49m\u001B[43m(\u001B[49m\u001B[43margs\u001B[49m\u001B[43m)\u001B[49m\u001B[43m,\u001B[49m\n\u001B[0;32m    254\u001B[0m \u001B[43m        \u001B[49m\u001B[38;5;28;43mlen\u001B[39;49m\u001B[43m(\u001B[49m\u001B[38;5;28;43mself\u001B[39;49m\u001B[38;5;241;43m.\u001B[39;49m\u001B[43mfunction_type\u001B[49m\u001B[38;5;241;43m.\u001B[39;49m\u001B[43mflat_outputs\u001B[49m\u001B[43m)\u001B[49m\u001B[43m,\u001B[49m\n\u001B[0;32m    255\u001B[0m \u001B[43m    \u001B[49m\u001B[43m)\u001B[49m\n\u001B[0;32m    256\u001B[0m   \u001B[38;5;28;01melse\u001B[39;00m:\n\u001B[0;32m    257\u001B[0m     outputs \u001B[38;5;241m=\u001B[39m make_call_op_in_graph(\n\u001B[0;32m    258\u001B[0m         \u001B[38;5;28mself\u001B[39m,\n\u001B[0;32m    259\u001B[0m         \u001B[38;5;28mlist\u001B[39m(args),\n\u001B[0;32m    260\u001B[0m         \u001B[38;5;28mself\u001B[39m\u001B[38;5;241m.\u001B[39m_bound_context\u001B[38;5;241m.\u001B[39mfunction_call_options\u001B[38;5;241m.\u001B[39mas_attrs(),\n\u001B[0;32m    261\u001B[0m     )\n",
      "File \u001B[1;32mC:\\ProgramData\\Anaconda3\\envs\\ml-potential\\lib\\site-packages\\tensorflow\\python\\eager\\context.py:1486\u001B[0m, in \u001B[0;36mContext.call_function\u001B[1;34m(self, name, tensor_inputs, num_outputs)\u001B[0m\n\u001B[0;32m   1484\u001B[0m cancellation_context \u001B[38;5;241m=\u001B[39m cancellation\u001B[38;5;241m.\u001B[39mcontext()\n\u001B[0;32m   1485\u001B[0m \u001B[38;5;28;01mif\u001B[39;00m cancellation_context \u001B[38;5;129;01mis\u001B[39;00m \u001B[38;5;28;01mNone\u001B[39;00m:\n\u001B[1;32m-> 1486\u001B[0m   outputs \u001B[38;5;241m=\u001B[39m \u001B[43mexecute\u001B[49m\u001B[38;5;241;43m.\u001B[39;49m\u001B[43mexecute\u001B[49m\u001B[43m(\u001B[49m\n\u001B[0;32m   1487\u001B[0m \u001B[43m      \u001B[49m\u001B[43mname\u001B[49m\u001B[38;5;241;43m.\u001B[39;49m\u001B[43mdecode\u001B[49m\u001B[43m(\u001B[49m\u001B[38;5;124;43m\"\u001B[39;49m\u001B[38;5;124;43mutf-8\u001B[39;49m\u001B[38;5;124;43m\"\u001B[39;49m\u001B[43m)\u001B[49m\u001B[43m,\u001B[49m\n\u001B[0;32m   1488\u001B[0m \u001B[43m      \u001B[49m\u001B[43mnum_outputs\u001B[49m\u001B[38;5;241;43m=\u001B[39;49m\u001B[43mnum_outputs\u001B[49m\u001B[43m,\u001B[49m\n\u001B[0;32m   1489\u001B[0m \u001B[43m      \u001B[49m\u001B[43minputs\u001B[49m\u001B[38;5;241;43m=\u001B[39;49m\u001B[43mtensor_inputs\u001B[49m\u001B[43m,\u001B[49m\n\u001B[0;32m   1490\u001B[0m \u001B[43m      \u001B[49m\u001B[43mattrs\u001B[49m\u001B[38;5;241;43m=\u001B[39;49m\u001B[43mattrs\u001B[49m\u001B[43m,\u001B[49m\n\u001B[0;32m   1491\u001B[0m \u001B[43m      \u001B[49m\u001B[43mctx\u001B[49m\u001B[38;5;241;43m=\u001B[39;49m\u001B[38;5;28;43mself\u001B[39;49m\u001B[43m,\u001B[49m\n\u001B[0;32m   1492\u001B[0m \u001B[43m  \u001B[49m\u001B[43m)\u001B[49m\n\u001B[0;32m   1493\u001B[0m \u001B[38;5;28;01melse\u001B[39;00m:\n\u001B[0;32m   1494\u001B[0m   outputs \u001B[38;5;241m=\u001B[39m execute\u001B[38;5;241m.\u001B[39mexecute_with_cancellation(\n\u001B[0;32m   1495\u001B[0m       name\u001B[38;5;241m.\u001B[39mdecode(\u001B[38;5;124m\"\u001B[39m\u001B[38;5;124mutf-8\u001B[39m\u001B[38;5;124m\"\u001B[39m),\n\u001B[0;32m   1496\u001B[0m       num_outputs\u001B[38;5;241m=\u001B[39mnum_outputs,\n\u001B[1;32m   (...)\u001B[0m\n\u001B[0;32m   1500\u001B[0m       cancellation_manager\u001B[38;5;241m=\u001B[39mcancellation_context,\n\u001B[0;32m   1501\u001B[0m   )\n",
      "File \u001B[1;32mC:\\ProgramData\\Anaconda3\\envs\\ml-potential\\lib\\site-packages\\tensorflow\\python\\eager\\execute.py:53\u001B[0m, in \u001B[0;36mquick_execute\u001B[1;34m(op_name, num_outputs, inputs, attrs, ctx, name)\u001B[0m\n\u001B[0;32m     51\u001B[0m \u001B[38;5;28;01mtry\u001B[39;00m:\n\u001B[0;32m     52\u001B[0m   ctx\u001B[38;5;241m.\u001B[39mensure_initialized()\n\u001B[1;32m---> 53\u001B[0m   tensors \u001B[38;5;241m=\u001B[39m \u001B[43mpywrap_tfe\u001B[49m\u001B[38;5;241;43m.\u001B[39;49m\u001B[43mTFE_Py_Execute\u001B[49m\u001B[43m(\u001B[49m\u001B[43mctx\u001B[49m\u001B[38;5;241;43m.\u001B[39;49m\u001B[43m_handle\u001B[49m\u001B[43m,\u001B[49m\u001B[43m \u001B[49m\u001B[43mdevice_name\u001B[49m\u001B[43m,\u001B[49m\u001B[43m \u001B[49m\u001B[43mop_name\u001B[49m\u001B[43m,\u001B[49m\n\u001B[0;32m     54\u001B[0m \u001B[43m                                      \u001B[49m\u001B[43minputs\u001B[49m\u001B[43m,\u001B[49m\u001B[43m \u001B[49m\u001B[43mattrs\u001B[49m\u001B[43m,\u001B[49m\u001B[43m \u001B[49m\u001B[43mnum_outputs\u001B[49m\u001B[43m)\u001B[49m\n\u001B[0;32m     55\u001B[0m \u001B[38;5;28;01mexcept\u001B[39;00m core\u001B[38;5;241m.\u001B[39m_NotOkStatusException \u001B[38;5;28;01mas\u001B[39;00m e:\n\u001B[0;32m     56\u001B[0m   \u001B[38;5;28;01mif\u001B[39;00m name \u001B[38;5;129;01mis\u001B[39;00m \u001B[38;5;129;01mnot\u001B[39;00m \u001B[38;5;28;01mNone\u001B[39;00m:\n",
      "\u001B[1;31mKeyboardInterrupt\u001B[0m: "
     ]
    }
   ],
   "source": [
    "start_training()"
   ],
   "metadata": {
    "collapsed": false,
    "ExecuteTime": {
     "end_time": "2024-01-19T10:04:04.742270300Z",
     "start_time": "2024-01-19T10:03:53.796278100Z"
    }
   },
   "id": "3915a4acaaaf8852"
  },
  {
   "cell_type": "code",
   "execution_count": 11,
   "outputs": [
    {
     "name": "stdout",
     "output_type": "stream",
     "text": [
      "['E', 'name', 'F', 'theory', 'R', 'z', 'type', 'md5']\n"
     ]
    },
    {
     "data": {
      "text/plain": "(211762, 1)"
     },
     "execution_count": 11,
     "metadata": {},
     "output_type": "execute_result"
    }
   ],
   "source": [
    "data = np.load(\"./../Datasets/md17_aspirin.npz\")\n",
    "print(data.files)\n",
    "data['E'].shape"
   ],
   "metadata": {
    "collapsed": false,
    "ExecuteTime": {
     "end_time": "2024-01-24T14:42:14.675949900Z",
     "start_time": "2024-01-24T14:42:14.644671400Z"
    }
   },
   "id": "c153607c53f1ccd1"
  },
  {
   "cell_type": "code",
   "execution_count": 12,
   "outputs": [
    {
     "ename": "ValueError",
     "evalue": "all the input array dimensions except for the concatenation axis must match exactly, but along dimension 1, the array at index 0 has size 21 and the array at index 1 has size 12",
     "output_type": "error",
     "traceback": [
      "\u001B[1;31m---------------------------------------------------------------------------\u001B[0m",
      "\u001B[1;31mValueError\u001B[0m                                Traceback (most recent call last)",
      "Cell \u001B[1;32mIn[12], line 13\u001B[0m\n\u001B[0;32m      3\u001B[0m files \u001B[38;5;241m=\u001B[39m [\u001B[38;5;124m'\u001B[39m\u001B[38;5;124m./../Datasets/md17_aspirin.npz\u001B[39m\u001B[38;5;124m'\u001B[39m, \n\u001B[0;32m      4\u001B[0m          \u001B[38;5;124m'\u001B[39m\u001B[38;5;124m./../Datasets/md17_benzene2017.npz\u001B[39m\u001B[38;5;124m'\u001B[39m,\n\u001B[0;32m      5\u001B[0m          \u001B[38;5;124m'\u001B[39m\u001B[38;5;124m./../Datasets/md17_ethanol.npz\u001B[39m\u001B[38;5;124m'\u001B[39m, \n\u001B[1;32m   (...)\u001B[0m\n\u001B[0;32m      9\u001B[0m          \u001B[38;5;124m'\u001B[39m\u001B[38;5;124m./../Datasets/md17_toluene.npz\u001B[39m\u001B[38;5;124m'\u001B[39m,\n\u001B[0;32m     10\u001B[0m          \u001B[38;5;124m'\u001B[39m\u001B[38;5;124m./../Datasets/md17_uracil.npz\u001B[39m\u001B[38;5;124m'\u001B[39m]\n\u001B[0;32m     12\u001B[0m save_path \u001B[38;5;241m=\u001B[39m \u001B[38;5;124m\"\u001B[39m\u001B[38;5;124m./../Datasets/df_8molecules.npz\u001B[39m\u001B[38;5;124m\"\u001B[39m\n\u001B[1;32m---> 13\u001B[0m \u001B[43mcreate_dataset\u001B[49m\u001B[43m(\u001B[49m\u001B[43mfiles\u001B[49m\u001B[43m,\u001B[49m\u001B[43m \u001B[49m\u001B[43mgrid_size\u001B[49m\u001B[38;5;241;43m=\u001B[39;49m\u001B[38;5;241;43m1\u001B[39;49m\u001B[43m,\u001B[49m\u001B[43m \u001B[49m\u001B[43msave_path\u001B[49m\u001B[38;5;241;43m=\u001B[39;49m\u001B[43msave_path\u001B[49m\u001B[43m,\u001B[49m\u001B[43m \u001B[49m\u001B[43mn_samples_per\u001B[49m\u001B[38;5;241;43m=\u001B[39;49m\u001B[38;5;241;43m1000\u001B[39;49m\u001B[43m)\u001B[49m\n",
      "File \u001B[1;32mG:\\Uni\\Master Physik\\Masterarbeit\\Repo\\long-range-ml-potential\\Neural-Network\\Dataset_NP.py:237\u001B[0m, in \u001B[0;36mcreate_dataset\u001B[1;34m(paths, grid_size, save_path, n_samples_per)\u001B[0m\n\u001B[0;32m    235\u001B[0m \u001B[38;5;28;01melse\u001B[39;00m:\n\u001B[0;32m    236\u001B[0m     energy \u001B[38;5;241m=\u001B[39m np\u001B[38;5;241m.\u001B[39mconcatenate((energy, current_energy))\n\u001B[1;32m--> 237\u001B[0m     forces \u001B[38;5;241m=\u001B[39m \u001B[43mnp\u001B[49m\u001B[38;5;241;43m.\u001B[39;49m\u001B[43mconcatenate\u001B[49m\u001B[43m(\u001B[49m\u001B[43m(\u001B[49m\u001B[43mforces\u001B[49m\u001B[43m,\u001B[49m\u001B[43m \u001B[49m\u001B[43mcurrent_forces\u001B[49m\u001B[43m)\u001B[49m\u001B[43m)\u001B[49m\n\u001B[0;32m    238\u001B[0m     atomic_numbers \u001B[38;5;241m=\u001B[39m np\u001B[38;5;241m.\u001B[39mconcatenate((atomic_numbers, current_atomic_numbers))\n\u001B[0;32m    239\u001B[0m     positions \u001B[38;5;241m=\u001B[39m np\u001B[38;5;241m.\u001B[39mconcatenate((positions, current_positions))\n",
      "\u001B[1;31mValueError\u001B[0m: all the input array dimensions except for the concatenation axis must match exactly, but along dimension 1, the array at index 0 has size 21 and the array at index 1 has size 12"
     ]
    }
   ],
   "source": [
    "from Dataset_NP import create_dataset\n",
    "\n",
    "files = ['./../Datasets/md17_aspirin.npz', \n",
    "         './../Datasets/md17_benzene2017.npz',\n",
    "         './../Datasets/md17_ethanol.npz', \n",
    "         './../Datasets/md17_malonaldehyde.npz',\n",
    "         './../Datasets/md17_naphthalene.npz',\n",
    "         './../Datasets/md17_salicylic.npz',\n",
    "         './../Datasets/md17_toluene.npz',\n",
    "         './../Datasets/md17_uracil.npz']\n",
    "\n",
    "save_path = \"./../Datasets/df_8molecules.npz\"\n",
    "create_dataset(files, grid_size=1, save_path=save_path, n_samples_per=1000)"
   ],
   "metadata": {
    "collapsed": false,
    "ExecuteTime": {
     "end_time": "2024-01-24T14:47:42.942068Z",
     "start_time": "2024-01-24T14:47:40.660154100Z"
    }
   },
   "id": "34f584843b84cd4"
  },
  {
   "cell_type": "code",
   "execution_count": 5,
   "outputs": [],
   "source": [
    "# convert to pandas dataframe\n",
    "def convert_to_df(data, n_samples=1000, offset=0):\n",
    "    # create df with columns = ['name', 'ase_atoms', 'energy', 'forces']\n",
    "    df = pd.DataFrame(columns=['name', 'ase_atoms', 'energy', 'forces'])\n",
    "    \n",
    "    # loop over all samples\n",
    "    if n_samples > len(data['R']):\n",
    "        n_samples = len(data['R'])\n",
    "    \n",
    "    for i in tqdm(range(offset, n_samples), desc=\"Converting file to df\"):\n",
    "        # generate name (convert data['name'] b-string to string)\n",
    "        name = data['name'].tobytes().decode('utf-8') + str(i)\n",
    "        \n",
    "        # create ase atoms object\n",
    "        ase_atoms = []\n",
    "        for j in range(len(data['z'])):\n",
    "            # create ase atoms object\n",
    "            ase_atoms.append(Atoms(numbers=[data['z'][j]], positions=[data['R'][i][j]]))\n",
    "        \n",
    "        df.loc[i] = [name, ase_atoms, data['E'][i], data['F'][i]]\n",
    "        \n",
    "    # return random sample of df\n",
    "    return df\n",
    "\n",
    "# convert multiple npz files to pandas dataframe\n",
    "def convert_files_to_df(files, n_samples_per=1000, val_split=0.1):\n",
    "    # create df with columns = ['name', 'ase_atoms', 'energy', 'forces']\n",
    "    train_df = pd.DataFrame(columns=['name', 'ase_atoms', 'energy', 'forces'])\n",
    "    val_df = pd.DataFrame(columns=['name', 'ase_atoms', 'energy', 'forces'])\n",
    "    \n",
    "    # loop over all files\n",
    "    for file in files:\n",
    "        try:\n",
    "            # load data\n",
    "            data = np.load(file)\n",
    "            train_count = int(n_samples_per * (1 - val_split))\n",
    "            val_count = n_samples_per - train_count\n",
    "            # convert to df\n",
    "            df_temp = convert_to_df(data, n_samples=train_count, offset=0)\n",
    "            # concatenate to df\n",
    "            train_df = pd.concat([train_df, df_temp], ignore_index=True)\n",
    "            df_temp = convert_to_df(data, n_samples=val_count, offset=train_count)\n",
    "            val_df = pd.concat([val_df, df_temp], ignore_index=True)\n",
    "            \n",
    "        except Exception as e:\n",
    "            print(f\"Error '{e}' in file: {file}\")\n",
    "        \n",
    "    # return random sample of df\n",
    "    return train_df, val_df"
   ],
   "metadata": {
    "collapsed": false,
    "ExecuteTime": {
     "end_time": "2024-01-15T10:38:16.225934300Z",
     "start_time": "2024-01-15T10:38:16.210195300Z"
    }
   },
   "id": "26bcd8365be8b8c5"
  },
  {
   "cell_type": "code",
   "execution_count": 7,
   "outputs": [
    {
     "name": "stderr",
     "output_type": "stream",
     "text": [
      "Converting file to df:   8%|▊         | 44/550 [07:47<1:29:36, 10.63s/it]\n"
     ]
    },
    {
     "name": "stdout",
     "output_type": "stream",
     "text": [
      "Error Unable to allocate 102. MiB for an array with shape (13341006,) and data type float64 in file: ./../Datasets/md17_aspirin.npz\n"
     ]
    },
    {
     "name": "stderr",
     "output_type": "stream",
     "text": [
      "Converting file to df:   5%|▍         | 26/550 [02:58<59:55,  6.86s/it]  \n"
     ]
    },
    {
     "name": "stdout",
     "output_type": "stream",
     "text": [
      "Error Unable to allocate 172. MiB for an array with shape (22607388,) and data type float64 in file: ./../Datasets/md17_benzene2017.npz\n"
     ]
    },
    {
     "name": "stderr",
     "output_type": "stream",
     "text": [
      "Converting file to df:   7%|▋         | 39/550 [03:24<44:39,  5.24s/it]\n"
     ]
    },
    {
     "name": "stdout",
     "output_type": "stream",
     "text": [
      "Error Unable to allocate 114. MiB for an array with shape (14987484,) and data type float64 in file: ./../Datasets/md17_ethanol.npz\n"
     ]
    },
    {
     "name": "stderr",
     "output_type": "stream",
     "text": [
      "Converting file to df:   4%|▍         | 21/550 [03:14<1:21:43,  9.27s/it]\n"
     ]
    },
    {
     "name": "stdout",
     "output_type": "stream",
     "text": [
      "Error Unable to allocate 205. MiB for an array with shape (26817399,) and data type float64 in file: ./../Datasets/md17_malonaldehyde.npz\n"
     ]
    },
    {
     "name": "stderr",
     "output_type": "stream",
     "text": [
      "Converting file to df:   6%|▌         | 33/550 [06:30<1:42:03, 11.84s/it]\n"
     ]
    },
    {
     "name": "stdout",
     "output_type": "stream",
     "text": [
      "Error Unable to allocate 134. MiB for an array with shape (17617500,) and data type float64 in file: ./../Datasets/md17_naphthalene.npz\n"
     ]
    },
    {
     "name": "stderr",
     "output_type": "stream",
     "text": [
      "Converting file to df:   7%|▋         | 38/550 [05:49<1:18:33,  9.21s/it]\n"
     ]
    },
    {
     "name": "stdout",
     "output_type": "stream",
     "text": [
      "Error Unable to allocate 117. MiB for an array with shape (15371088,) and data type float64 in file: ./../Datasets/md17_salicylic.npz\n"
     ]
    },
    {
     "name": "stderr",
     "output_type": "stream",
     "text": [
      "Converting file to df:   5%|▌         | 29/550 [05:28<1:38:22, 11.33s/it]\n"
     ]
    },
    {
     "name": "stdout",
     "output_type": "stream",
     "text": [
      "Error Unable to allocate 152. MiB for an array with shape (19925550,) and data type float64 in file: ./../Datasets/md17_toluene.npz\n"
     ]
    },
    {
     "name": "stderr",
     "output_type": "stream",
     "text": [
      "Converting file to df:  22%|██▏       | 120/550 [04:33<16:18,  2.28s/it]\n"
     ]
    },
    {
     "name": "stdout",
     "output_type": "stream",
     "text": [
      "Error Unable to allocate 36.7 MiB for an array with shape (4815720,) and data type float64 in file: ./../Datasets/md17_uracil.npz\n"
     ]
    },
    {
     "ename": "ValueError",
     "evalue": "too many values to unpack (expected 2)",
     "output_type": "error",
     "traceback": [
      "\u001B[1;31m---------------------------------------------------------------------------\u001B[0m",
      "\u001B[1;31mValueError\u001B[0m                                Traceback (most recent call last)",
      "Cell \u001B[1;32mIn[7], line 10\u001B[0m\n\u001B[0;32m      1\u001B[0m files \u001B[38;5;241m=\u001B[39m [\u001B[38;5;124m'\u001B[39m\u001B[38;5;124m./../Datasets/md17_aspirin.npz\u001B[39m\u001B[38;5;124m'\u001B[39m, \n\u001B[0;32m      2\u001B[0m          \u001B[38;5;124m'\u001B[39m\u001B[38;5;124m./../Datasets/md17_benzene2017.npz\u001B[39m\u001B[38;5;124m'\u001B[39m,\n\u001B[0;32m      3\u001B[0m          \u001B[38;5;124m'\u001B[39m\u001B[38;5;124m./../Datasets/md17_ethanol.npz\u001B[39m\u001B[38;5;124m'\u001B[39m, \n\u001B[1;32m   (...)\u001B[0m\n\u001B[0;32m      7\u001B[0m          \u001B[38;5;124m'\u001B[39m\u001B[38;5;124m./../Datasets/md17_toluene.npz\u001B[39m\u001B[38;5;124m'\u001B[39m,\n\u001B[0;32m      8\u001B[0m          \u001B[38;5;124m'\u001B[39m\u001B[38;5;124m./../Datasets/md17_uracil.npz\u001B[39m\u001B[38;5;124m'\u001B[39m]\n\u001B[1;32m---> 10\u001B[0m train_df, val_df \u001B[38;5;241m=\u001B[39m convert_files_to_df(files, n_samples_per\u001B[38;5;241m=\u001B[39m\u001B[38;5;241m550\u001B[39m)\n\u001B[0;32m     12\u001B[0m \u001B[38;5;66;03m# save df\u001B[39;00m\n\u001B[0;32m     13\u001B[0m train_df\u001B[38;5;241m.\u001B[39mto_pickle(\u001B[38;5;124m\"\u001B[39m\u001B[38;5;124m./../Datasets/train_df_8_molecules.pkl.gzip\u001B[39m\u001B[38;5;124m\"\u001B[39m, compression\u001B[38;5;241m=\u001B[39m\u001B[38;5;124m\"\u001B[39m\u001B[38;5;124mgzip\u001B[39m\u001B[38;5;124m\"\u001B[39m)\n",
      "\u001B[1;31mValueError\u001B[0m: too many values to unpack (expected 2)"
     ]
    }
   ],
   "source": [
    "files = ['./../Datasets/md17_aspirin.npz', \n",
    "         './../Datasets/md17_benzene2017.npz',\n",
    "         './../Datasets/md17_ethanol.npz', \n",
    "         './../Datasets/md17_malonaldehyde.npz',\n",
    "         './../Datasets/md17_naphthalene.npz',\n",
    "         './../Datasets/md17_salicylic.npz',\n",
    "         './../Datasets/md17_toluene.npz',\n",
    "         './../Datasets/md17_uracil.npz']\n",
    "\n",
    "train_df, val_df = convert_files_to_df(files, n_samples_per=550)\n",
    "\n",
    "# save df\n",
    "train_df.to_pickle(\"./../Datasets/train_df_8_molecules.pkl.gzip\", compression=\"gzip\")\n",
    "val_df.to_pickle(\"./../Datasets/val_df_8_molecules.pkl.gzip\", compression=\"gzip\")"
   ],
   "metadata": {
    "collapsed": false,
    "ExecuteTime": {
     "end_time": "2024-01-15T15:02:09.636475900Z",
     "start_time": "2024-01-15T14:22:15.480807600Z"
    }
   },
   "id": "d58ce6a723c94e17"
  },
  {
   "cell_type": "code",
   "execution_count": 4,
   "outputs": [
    {
     "data": {
      "text/plain": "             name                                          ase_atoms  \\\n0        aspirin0  [(Atom('C', [2.2393, -0.3791, 0.263], index=0)...   \n1         qmC6H60  [(Atom('C', [0.0, 1.397, 0.0], index=0)), (Ato...   \n2        ethanol0  [(Atom('C', [0.0072, -0.5687, 0.0], index=0)),...   \n3  malonaldehyde0  [(Atom('C', [1.1705, 0.2287, -0.3792], index=0...   \n4    naphthalene0  [(Atom('C', [-1.2248, -1.3976, -0.0002], index...   \n5      salicylic0  [(Atom('C', [1.6347, -0.2302, 0.0038], index=0...   \n6        C6H5CH30  [(Atom('C', [2.4329, 0.0, 0.001], index=0)), (...   \n7         uracil0  [(Atom('C', [1.632, 0.2951, -0.0637], index=0)...   \n\n                  energy                                             forces  \n0   [-406757.5912640221]  [[-1.8342235724199345, 1.0243422546435585, -2....  \n1         [-146536.1068]  [[4.7384784e-11, -3.8259648, -6.71719679999999...  \n2   [-97208.40600498248]  [[1.4517297437249999, 6.01923561735, 5.2067503...  \n3   [-167510.9957431333]  [[5.41593353586545, -26.65568358505657, 20.368...  \n4  [-241923.48033636645]  [[1.771664427555, -3.11529186255, 0.3342713034...  \n5   [-311033.6045437261]  [[24.100793243792506, 34.751210343679325, 0.62...  \n6  [-170244.27638720776]  [[-11.377063537039927, 0.008422566012263665, -...  \n7   [-260120.1104989303]  [[0.8587629092226489, 7.9378343937156775, -0.6...  ",
      "text/html": "<div>\n<style scoped>\n    .dataframe tbody tr th:only-of-type {\n        vertical-align: middle;\n    }\n\n    .dataframe tbody tr th {\n        vertical-align: top;\n    }\n\n    .dataframe thead th {\n        text-align: right;\n    }\n</style>\n<table border=\"1\" class=\"dataframe\">\n  <thead>\n    <tr style=\"text-align: right;\">\n      <th></th>\n      <th>name</th>\n      <th>ase_atoms</th>\n      <th>energy</th>\n      <th>forces</th>\n    </tr>\n  </thead>\n  <tbody>\n    <tr>\n      <th>0</th>\n      <td>aspirin0</td>\n      <td>[(Atom('C', [2.2393, -0.3791, 0.263], index=0)...</td>\n      <td>[-406757.5912640221]</td>\n      <td>[[-1.8342235724199345, 1.0243422546435585, -2....</td>\n    </tr>\n    <tr>\n      <th>1</th>\n      <td>qmC6H60</td>\n      <td>[(Atom('C', [0.0, 1.397, 0.0], index=0)), (Ato...</td>\n      <td>[-146536.1068]</td>\n      <td>[[4.7384784e-11, -3.8259648, -6.71719679999999...</td>\n    </tr>\n    <tr>\n      <th>2</th>\n      <td>ethanol0</td>\n      <td>[(Atom('C', [0.0072, -0.5687, 0.0], index=0)),...</td>\n      <td>[-97208.40600498248]</td>\n      <td>[[1.4517297437249999, 6.01923561735, 5.2067503...</td>\n    </tr>\n    <tr>\n      <th>3</th>\n      <td>malonaldehyde0</td>\n      <td>[(Atom('C', [1.1705, 0.2287, -0.3792], index=0...</td>\n      <td>[-167510.9957431333]</td>\n      <td>[[5.41593353586545, -26.65568358505657, 20.368...</td>\n    </tr>\n    <tr>\n      <th>4</th>\n      <td>naphthalene0</td>\n      <td>[(Atom('C', [-1.2248, -1.3976, -0.0002], index...</td>\n      <td>[-241923.48033636645]</td>\n      <td>[[1.771664427555, -3.11529186255, 0.3342713034...</td>\n    </tr>\n    <tr>\n      <th>5</th>\n      <td>salicylic0</td>\n      <td>[(Atom('C', [1.6347, -0.2302, 0.0038], index=0...</td>\n      <td>[-311033.6045437261]</td>\n      <td>[[24.100793243792506, 34.751210343679325, 0.62...</td>\n    </tr>\n    <tr>\n      <th>6</th>\n      <td>C6H5CH30</td>\n      <td>[(Atom('C', [2.4329, 0.0, 0.001], index=0)), (...</td>\n      <td>[-170244.27638720776]</td>\n      <td>[[-11.377063537039927, 0.008422566012263665, -...</td>\n    </tr>\n    <tr>\n      <th>7</th>\n      <td>uracil0</td>\n      <td>[(Atom('C', [1.632, 0.2951, -0.0637], index=0)...</td>\n      <td>[-260120.1104989303]</td>\n      <td>[[0.8587629092226489, 7.9378343937156775, -0.6...</td>\n    </tr>\n  </tbody>\n</table>\n</div>"
     },
     "execution_count": 4,
     "metadata": {},
     "output_type": "execute_result"
    }
   ],
   "source": [
    "df"
   ],
   "metadata": {
    "collapsed": false,
    "ExecuteTime": {
     "end_time": "2024-01-15T10:15:19.732265900Z",
     "start_time": "2024-01-15T10:15:19.688969300Z"
    }
   },
   "id": "ddd78a2ba541fdd4"
  },
  {
   "cell_type": "code",
   "execution_count": null,
   "outputs": [],
   "source": [],
   "metadata": {
    "collapsed": false,
    "ExecuteTime": {
     "start_time": "2024-01-15T10:02:56.796845800Z"
    }
   },
   "id": "de1520b68c16e1ca"
  }
 ],
 "metadata": {
  "kernelspec": {
   "display_name": "Python 3",
   "language": "python",
   "name": "python3"
  },
  "language_info": {
   "codemirror_mode": {
    "name": "ipython",
    "version": 2
   },
   "file_extension": ".py",
   "mimetype": "text/x-python",
   "name": "python",
   "nbconvert_exporter": "python",
   "pygments_lexer": "ipython2",
   "version": "2.7.6"
  }
 },
 "nbformat": 4,
 "nbformat_minor": 5
}
