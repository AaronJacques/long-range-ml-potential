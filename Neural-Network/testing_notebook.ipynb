{
 "cells": [
  {
   "cell_type": "code",
   "execution_count": 1,
   "id": "initial_id",
   "metadata": {
    "collapsed": true,
    "ExecuteTime": {
     "end_time": "2023-11-22T14:50:13.902831100Z",
     "start_time": "2023-11-22T14:50:09.421113600Z"
    }
   },
   "outputs": [
    {
     "name": "stdout",
     "output_type": "stream",
     "text": [
      "WARNING:tensorflow:From C:\\ProgramData\\Anaconda3\\envs\\ml-potential\\lib\\site-packages\\keras\\src\\losses.py:2976: The name tf.losses.sparse_softmax_cross_entropy is deprecated. Please use tf.compat.v1.losses.sparse_softmax_cross_entropy instead.\n"
     ]
    }
   ],
   "source": [
    "import pandas as pd\n",
    "import numpy as np\n",
    "from tqdm import tqdm\n",
    "import ase\n",
    "from ase import Atoms, Atom\n",
    "\n",
    "import tensorflow as tf\n",
    "from tensorflow.keras import layers\n",
    "\n",
    "from prepare_data import (\n",
    "    create_grid, \n",
    "    deserialize_df, \n",
    "    filter_out_single_atom_molecules,\n",
    "    create_distance_matrices, \n",
    "    create_expanded_distance_matrix,\n",
    "    get_expanded_distance_matrix\n",
    ")"
   ]
  },
  {
   "cell_type": "code",
   "execution_count": 2,
   "outputs": [
    {
     "name": "stdout",
     "output_type": "stream",
     "text": [
      "[[ 0.        0.        0.      ]\n",
      " [ 1.613117  1.613117  1.613117]\n",
      " [ 0.        0.        3.226233]\n",
      " [ 1.613117  1.613117  4.83935 ]\n",
      " [ 0.        0.        6.452467]\n",
      " [ 1.613117  1.613117  8.065583]\n",
      " [ 0.        0.        9.6787  ]\n",
      " [ 1.613117  1.613117 11.291817]]\n"
     ]
    },
    {
     "data": {
      "text/plain": "                                                  name  \\\n0                  A1:FHI-aims/PBE/tight:elastic:s_e_0   \n1           A1:FHI-aims/PBE/tight:murnaghan:strain_1_0   \n2      A1:FHI-aims/PBE/tight:phonon:supercell_phonon_0   \n3          A1:FHI-aims/PBE/tight:murnaghan:strain_1_02   \n4    A1:FHI-aims/PBE/tight:qha:phonopy_strain_1_02:...   \n..                                                 ...   \n995                                             Zr4Al3   \n996              fcc_100surf_X110_Y-110_Z001_4at_d0.95   \n997                                          ran2.7197   \n998                            A15.shakesmallsuper2.14   \n999                   A15.shakesmallsuper2corrected.26   \n\n                                             ase_atoms  energy_corrected  \\\n0               (Atom('Cu', [0.0, 0.0, 0.0], index=0))         -3.699843   \n1               (Atom('Cu', [0.0, 0.0, 0.0], index=0))         -3.699841   \n2    (Atom('Cu', [4.3368086899420173e-19, 0.0070709...       -236.789603   \n3               (Atom('Cu', [0.0, 0.0, 0.0], index=0))         -3.697932   \n4    (Atom('Cu', [0.0, 0.007070999999999999, 0.0070...       -236.667372   \n..                                                 ...               ...   \n995  (Atom('Cu', [1.397, 0.806558, 0.0], index=0), ...        -18.922813   \n996  (Atom('Cu', [0.0, 0.0, 0.0], index=0), Atom('C...        -10.811770   \n997  (Atom('Cu', [0.0, 0.0, 0.0], index=0), Atom('C...         -5.405739   \n998  (Atom('Cu', [19.532944999999994, -0.449866, 19...       -172.952480   \n999  (Atom('Cu', [11.302489999999999, 10.996904, 10...       -172.848259   \n\n                                                forces  \\\n0                                    [[0.0, 0.0, 0.0]]   \n1                                    [[0.0, 0.0, 0.0]]   \n2    [[-1.13852957740976e-06, -0.0464638907314277, ...   \n3                                    [[0.0, 0.0, 0.0]]   \n4    [[-1.7950713845026e-06, -0.0426786586259085, -...   \n..                                                 ...   \n995  [[-6.18422096975777e-08, 3.90650715661433e-08,...   \n996  [[-4.30878346990838e-07, -7.31495829958533e-08...   \n997  [[-0.233777024216308, -0.488775610406501, 0.45...   \n998  [[0.872967501214253, 0.798687481685555, 0.8365...   \n999  [[-0.0565593911501715, 0.0441732952826791, 0.0...   \n\n     energy_corrected_per_atom  \n0                    -3.699843  \n1                    -3.699841  \n2                    -3.699838  \n3                    -3.697932  \n4                    -3.697928  \n..                         ...  \n995                  -2.703259  \n996                  -2.702942  \n997                  -2.702869  \n998                  -2.702382  \n999                  -2.700754  \n\n[1000 rows x 5 columns]",
      "text/html": "<div>\n<style scoped>\n    .dataframe tbody tr th:only-of-type {\n        vertical-align: middle;\n    }\n\n    .dataframe tbody tr th {\n        vertical-align: top;\n    }\n\n    .dataframe thead th {\n        text-align: right;\n    }\n</style>\n<table border=\"1\" class=\"dataframe\">\n  <thead>\n    <tr style=\"text-align: right;\">\n      <th></th>\n      <th>name</th>\n      <th>ase_atoms</th>\n      <th>energy_corrected</th>\n      <th>forces</th>\n      <th>energy_corrected_per_atom</th>\n    </tr>\n  </thead>\n  <tbody>\n    <tr>\n      <th>0</th>\n      <td>A1:FHI-aims/PBE/tight:elastic:s_e_0</td>\n      <td>(Atom('Cu', [0.0, 0.0, 0.0], index=0))</td>\n      <td>-3.699843</td>\n      <td>[[0.0, 0.0, 0.0]]</td>\n      <td>-3.699843</td>\n    </tr>\n    <tr>\n      <th>1</th>\n      <td>A1:FHI-aims/PBE/tight:murnaghan:strain_1_0</td>\n      <td>(Atom('Cu', [0.0, 0.0, 0.0], index=0))</td>\n      <td>-3.699841</td>\n      <td>[[0.0, 0.0, 0.0]]</td>\n      <td>-3.699841</td>\n    </tr>\n    <tr>\n      <th>2</th>\n      <td>A1:FHI-aims/PBE/tight:phonon:supercell_phonon_0</td>\n      <td>(Atom('Cu', [4.3368086899420173e-19, 0.0070709...</td>\n      <td>-236.789603</td>\n      <td>[[-1.13852957740976e-06, -0.0464638907314277, ...</td>\n      <td>-3.699838</td>\n    </tr>\n    <tr>\n      <th>3</th>\n      <td>A1:FHI-aims/PBE/tight:murnaghan:strain_1_02</td>\n      <td>(Atom('Cu', [0.0, 0.0, 0.0], index=0))</td>\n      <td>-3.697932</td>\n      <td>[[0.0, 0.0, 0.0]]</td>\n      <td>-3.697932</td>\n    </tr>\n    <tr>\n      <th>4</th>\n      <td>A1:FHI-aims/PBE/tight:qha:phonopy_strain_1_02:...</td>\n      <td>(Atom('Cu', [0.0, 0.007070999999999999, 0.0070...</td>\n      <td>-236.667372</td>\n      <td>[[-1.7950713845026e-06, -0.0426786586259085, -...</td>\n      <td>-3.697928</td>\n    </tr>\n    <tr>\n      <th>...</th>\n      <td>...</td>\n      <td>...</td>\n      <td>...</td>\n      <td>...</td>\n      <td>...</td>\n    </tr>\n    <tr>\n      <th>995</th>\n      <td>Zr4Al3</td>\n      <td>(Atom('Cu', [1.397, 0.806558, 0.0], index=0), ...</td>\n      <td>-18.922813</td>\n      <td>[[-6.18422096975777e-08, 3.90650715661433e-08,...</td>\n      <td>-2.703259</td>\n    </tr>\n    <tr>\n      <th>996</th>\n      <td>fcc_100surf_X110_Y-110_Z001_4at_d0.95</td>\n      <td>(Atom('Cu', [0.0, 0.0, 0.0], index=0), Atom('C...</td>\n      <td>-10.811770</td>\n      <td>[[-4.30878346990838e-07, -7.31495829958533e-08...</td>\n      <td>-2.702942</td>\n    </tr>\n    <tr>\n      <th>997</th>\n      <td>ran2.7197</td>\n      <td>(Atom('Cu', [0.0, 0.0, 0.0], index=0), Atom('C...</td>\n      <td>-5.405739</td>\n      <td>[[-0.233777024216308, -0.488775610406501, 0.45...</td>\n      <td>-2.702869</td>\n    </tr>\n    <tr>\n      <th>998</th>\n      <td>A15.shakesmallsuper2.14</td>\n      <td>(Atom('Cu', [19.532944999999994, -0.449866, 19...</td>\n      <td>-172.952480</td>\n      <td>[[0.872967501214253, 0.798687481685555, 0.8365...</td>\n      <td>-2.702382</td>\n    </tr>\n    <tr>\n      <th>999</th>\n      <td>A15.shakesmallsuper2corrected.26</td>\n      <td>(Atom('Cu', [11.302489999999999, 10.996904, 10...</td>\n      <td>-172.848259</td>\n      <td>[[-0.0565593911501715, 0.0441732952826791, 0.0...</td>\n      <td>-2.700754</td>\n    </tr>\n  </tbody>\n</table>\n<p>1000 rows × 5 columns</p>\n</div>"
     },
     "execution_count": 2,
     "metadata": {},
     "output_type": "execute_result"
    }
   ],
   "source": [
    "df0 = pd.read_pickle(\"./../Datasets/Cu_df2_1k.pkl.gzip\", compression=\"gzip\")\n",
    "atoms = df0[\"ase_atoms\"]\n",
    "a = Atoms(atoms[800])\n",
    "print(a.positions)\n",
    "df0"
   ],
   "metadata": {
    "collapsed": false,
    "ExecuteTime": {
     "end_time": "2023-11-22T14:50:14.122865Z",
     "start_time": "2023-11-22T14:50:13.902831100Z"
    }
   },
   "id": "a940847b777c08c4"
  },
  {
   "cell_type": "code",
   "execution_count": 3,
   "outputs": [
    {
     "data": {
      "text/plain": "[GridPoint(index: (0, 0, 0), atoms: Atom('Cu', [0.0, 0.0, 0.0], index=0)),\n GridPoint(index: (1, 1, 1), atoms: Atom('Cu', [1.613117, 1.613117, 1.613117], index=1)),\n GridPoint(index: (0, 0, 3), atoms: Atom('Cu', [0.0, 0.0, 3.2262330000000006], index=2)),\n GridPoint(index: (1, 1, 4), atoms: Atom('Cu', [1.613117, 1.613117, 4.8393500000000005], index=3)),\n GridPoint(index: (0, 0, 6), atoms: Atom('Cu', [0.0, 0.0, 6.452467], index=4)),\n GridPoint(index: (1, 1, 8), atoms: Atom('Cu', [1.613117, 1.613117, 8.065583], index=5)),\n GridPoint(index: (0, 0, 9), atoms: Atom('Cu', [0.0, 0.0, 9.678700000000001], index=6)),\n GridPoint(index: (1, 1, 11), atoms: Atom('Cu', [1.613117, 1.613117, 11.291817], index=7))]"
     },
     "execution_count": 3,
     "metadata": {},
     "output_type": "execute_result"
    }
   ],
   "source": [
    "df0 = deserialize_df(df0)\n",
    "grid = create_grid(df0[\"ase_atoms\"][800], 1)\n",
    "grid"
   ],
   "metadata": {
    "collapsed": false,
    "ExecuteTime": {
     "end_time": "2023-11-22T14:50:14.226805900Z",
     "start_time": "2023-11-22T14:50:14.122865Z"
    }
   },
   "id": "b448b3e8c8c4cc83"
  },
  {
   "cell_type": "code",
   "execution_count": 4,
   "outputs": [
    {
     "name": "stdout",
     "output_type": "stream",
     "text": [
      "8\n",
      "(8, 7, 4)\n"
     ]
    }
   ],
   "source": [
    "distance_matrix, atom_numbers = create_distance_matrices(grid)\n",
    "expanded_distance_matrix = create_expanded_distance_matrix(distance_matrix)\n",
    "print(len(atom_numbers))\n",
    "print(expanded_distance_matrix.shape)"
   ],
   "metadata": {
    "collapsed": false,
    "ExecuteTime": {
     "end_time": "2023-11-22T14:50:14.226805900Z",
     "start_time": "2023-11-22T14:50:14.169727700Z"
    }
   },
   "id": "8bcaad1ed6b19267"
  },
  {
   "cell_type": "code",
   "execution_count": 22,
   "outputs": [
    {
     "name": "stdout",
     "output_type": "stream",
     "text": [
      "finished creating distance matrices\n"
     ]
    },
    {
     "ename": "ValueError",
     "evalue": "operands could not be broadcast together with remapped shapes [original->remapped]: (2,2)  and requested shape (3,2)",
     "output_type": "error",
     "traceback": [
      "\u001B[1;31m---------------------------------------------------------------------------\u001B[0m",
      "\u001B[1;31mValueError\u001B[0m                                Traceback (most recent call last)",
      "Cell \u001B[1;32mIn[22], line 49\u001B[0m\n\u001B[0;32m     45\u001B[0m     dataset \u001B[38;5;241m=\u001B[39m dataset\u001B[38;5;241m.\u001B[39mbatch(batch_size)\n\u001B[0;32m     47\u001B[0m     \u001B[38;5;28;01mreturn\u001B[39;00m dataset\n\u001B[1;32m---> 49\u001B[0m \u001B[43mcreate_tf_dataset\u001B[49m\u001B[43m(\u001B[49m\u001B[38;5;124;43m\"\u001B[39;49m\u001B[38;5;124;43m./../Datasets/Cu_df2_1k.pkl.gzip\u001B[39;49m\u001B[38;5;124;43m\"\u001B[39;49m\u001B[43m,\u001B[49m\u001B[43m \u001B[49m\u001B[43mgrid_size\u001B[49m\u001B[38;5;241;43m=\u001B[39;49m\u001B[38;5;241;43m0.1\u001B[39;49m\u001B[43m,\u001B[49m\u001B[43m \u001B[49m\u001B[43mbatch_size\u001B[49m\u001B[38;5;241;43m=\u001B[39;49m\u001B[38;5;241;43m32\u001B[39;49m\u001B[43m,\u001B[49m\u001B[43m \u001B[49m\u001B[43mshuffle_buffer_size\u001B[49m\u001B[38;5;241;43m=\u001B[39;49m\u001B[38;5;241;43m1000\u001B[39;49m\u001B[43m)\u001B[49m\n",
      "Cell \u001B[1;32mIn[22], line 19\u001B[0m, in \u001B[0;36mcreate_tf_dataset\u001B[1;34m(path, grid_size, batch_size, shuffle_buffer_size)\u001B[0m\n\u001B[0;32m     15\u001B[0m max_atoms \u001B[38;5;241m=\u001B[39m df[\u001B[38;5;124m\"\u001B[39m\u001B[38;5;124mexpanded_distance_matrix\u001B[39m\u001B[38;5;124m\"\u001B[39m]\u001B[38;5;241m.\u001B[39mapply(\u001B[38;5;28;01mlambda\u001B[39;00m x: x\u001B[38;5;241m.\u001B[39mshape[\u001B[38;5;241m1\u001B[39m])\u001B[38;5;241m.\u001B[39mmax()\n\u001B[0;32m     16\u001B[0m df[\u001B[38;5;124m\"\u001B[39m\u001B[38;5;124mexpanded_distance_matrix\u001B[39m\u001B[38;5;124m\"\u001B[39m] \u001B[38;5;241m=\u001B[39m df[\u001B[38;5;124m\"\u001B[39m\u001B[38;5;124mexpanded_distance_matrix\u001B[39m\u001B[38;5;124m\"\u001B[39m]\u001B[38;5;241m.\u001B[39mapply(\n\u001B[0;32m     17\u001B[0m     \u001B[38;5;28;01mlambda\u001B[39;00m x: np\u001B[38;5;241m.\u001B[39mpad(x, ((\u001B[38;5;241m0\u001B[39m, \u001B[38;5;241m0\u001B[39m), (\u001B[38;5;241m0\u001B[39m, max_atoms \u001B[38;5;241m-\u001B[39m x\u001B[38;5;241m.\u001B[39mshape[\u001B[38;5;241m1\u001B[39m]), (\u001B[38;5;241m0\u001B[39m, \u001B[38;5;241m0\u001B[39m)), mode\u001B[38;5;241m=\u001B[39m\u001B[38;5;124m\"\u001B[39m\u001B[38;5;124mconstant\u001B[39m\u001B[38;5;124m\"\u001B[39m)\n\u001B[0;32m     18\u001B[0m )\n\u001B[1;32m---> 19\u001B[0m df[\u001B[38;5;124m\"\u001B[39m\u001B[38;5;124matom_numbers\u001B[39m\u001B[38;5;124m\"\u001B[39m] \u001B[38;5;241m=\u001B[39m \u001B[43mdf\u001B[49m\u001B[43m[\u001B[49m\u001B[38;5;124;43m\"\u001B[39;49m\u001B[38;5;124;43matom_numbers\u001B[39;49m\u001B[38;5;124;43m\"\u001B[39;49m\u001B[43m]\u001B[49m\u001B[38;5;241;43m.\u001B[39;49m\u001B[43mapply\u001B[49m\u001B[43m(\u001B[49m\n\u001B[0;32m     20\u001B[0m \u001B[43m    \u001B[49m\u001B[38;5;28;43;01mlambda\u001B[39;49;00m\u001B[43m \u001B[49m\u001B[43mx\u001B[49m\u001B[43m:\u001B[49m\u001B[43m \u001B[49m\u001B[43mnp\u001B[49m\u001B[38;5;241;43m.\u001B[39;49m\u001B[43mpad\u001B[49m\u001B[43m(\u001B[49m\u001B[43mx\u001B[49m\u001B[43m,\u001B[49m\u001B[43m \u001B[49m\u001B[43m(\u001B[49m\u001B[43m(\u001B[49m\u001B[38;5;241;43m0\u001B[39;49m\u001B[43m,\u001B[49m\u001B[43m \u001B[49m\u001B[38;5;241;43m0\u001B[39;49m\u001B[43m)\u001B[49m\u001B[43m,\u001B[49m\u001B[43m \u001B[49m\u001B[43m(\u001B[49m\u001B[38;5;241;43m0\u001B[39;49m\u001B[43m,\u001B[49m\u001B[43m \u001B[49m\u001B[43mmax_atoms\u001B[49m\u001B[43m \u001B[49m\u001B[38;5;241;43m-\u001B[39;49m\u001B[43m \u001B[49m\u001B[43mx\u001B[49m\u001B[38;5;241;43m.\u001B[39;49m\u001B[43mshape\u001B[49m\u001B[43m[\u001B[49m\u001B[38;5;241;43m1\u001B[39;49m\u001B[43m]\u001B[49m\u001B[43m)\u001B[49m\u001B[43m)\u001B[49m\u001B[43m,\u001B[49m\u001B[43m \u001B[49m\u001B[43mmode\u001B[49m\u001B[38;5;241;43m=\u001B[39;49m\u001B[38;5;124;43m\"\u001B[39;49m\u001B[38;5;124;43mconstant\u001B[39;49m\u001B[38;5;124;43m\"\u001B[39;49m\u001B[43m)\u001B[49m\n\u001B[0;32m     21\u001B[0m \u001B[43m\u001B[49m\u001B[43m)\u001B[49m\n\u001B[0;32m     23\u001B[0m expanded_distance_matrices \u001B[38;5;241m=\u001B[39m np\u001B[38;5;241m.\u001B[39mstack(df[\u001B[38;5;124m\"\u001B[39m\u001B[38;5;124mexpanded_distance_matrix\u001B[39m\u001B[38;5;124m\"\u001B[39m])\n\u001B[0;32m     24\u001B[0m atom_numbers \u001B[38;5;241m=\u001B[39m np\u001B[38;5;241m.\u001B[39mstack(df[\u001B[38;5;124m\"\u001B[39m\u001B[38;5;124matom_numbers\u001B[39m\u001B[38;5;124m\"\u001B[39m])\n",
      "File \u001B[1;32mC:\\ProgramData\\Anaconda3\\envs\\ml-potential\\lib\\site-packages\\pandas\\core\\series.py:4753\u001B[0m, in \u001B[0;36mSeries.apply\u001B[1;34m(self, func, convert_dtype, args, by_row, **kwargs)\u001B[0m\n\u001B[0;32m   4625\u001B[0m \u001B[38;5;28;01mdef\u001B[39;00m \u001B[38;5;21mapply\u001B[39m(\n\u001B[0;32m   4626\u001B[0m     \u001B[38;5;28mself\u001B[39m,\n\u001B[0;32m   4627\u001B[0m     func: AggFuncType,\n\u001B[1;32m   (...)\u001B[0m\n\u001B[0;32m   4632\u001B[0m     \u001B[38;5;241m*\u001B[39m\u001B[38;5;241m*\u001B[39mkwargs,\n\u001B[0;32m   4633\u001B[0m ) \u001B[38;5;241m-\u001B[39m\u001B[38;5;241m>\u001B[39m DataFrame \u001B[38;5;241m|\u001B[39m Series:\n\u001B[0;32m   4634\u001B[0m \u001B[38;5;250m    \u001B[39m\u001B[38;5;124;03m\"\"\"\u001B[39;00m\n\u001B[0;32m   4635\u001B[0m \u001B[38;5;124;03m    Invoke function on values of Series.\u001B[39;00m\n\u001B[0;32m   4636\u001B[0m \n\u001B[1;32m   (...)\u001B[0m\n\u001B[0;32m   4751\u001B[0m \u001B[38;5;124;03m    dtype: float64\u001B[39;00m\n\u001B[0;32m   4752\u001B[0m \u001B[38;5;124;03m    \"\"\"\u001B[39;00m\n\u001B[1;32m-> 4753\u001B[0m     \u001B[38;5;28;01mreturn\u001B[39;00m \u001B[43mSeriesApply\u001B[49m\u001B[43m(\u001B[49m\n\u001B[0;32m   4754\u001B[0m \u001B[43m        \u001B[49m\u001B[38;5;28;43mself\u001B[39;49m\u001B[43m,\u001B[49m\n\u001B[0;32m   4755\u001B[0m \u001B[43m        \u001B[49m\u001B[43mfunc\u001B[49m\u001B[43m,\u001B[49m\n\u001B[0;32m   4756\u001B[0m \u001B[43m        \u001B[49m\u001B[43mconvert_dtype\u001B[49m\u001B[38;5;241;43m=\u001B[39;49m\u001B[43mconvert_dtype\u001B[49m\u001B[43m,\u001B[49m\n\u001B[0;32m   4757\u001B[0m \u001B[43m        \u001B[49m\u001B[43mby_row\u001B[49m\u001B[38;5;241;43m=\u001B[39;49m\u001B[43mby_row\u001B[49m\u001B[43m,\u001B[49m\n\u001B[0;32m   4758\u001B[0m \u001B[43m        \u001B[49m\u001B[43margs\u001B[49m\u001B[38;5;241;43m=\u001B[39;49m\u001B[43margs\u001B[49m\u001B[43m,\u001B[49m\n\u001B[0;32m   4759\u001B[0m \u001B[43m        \u001B[49m\u001B[43mkwargs\u001B[49m\u001B[38;5;241;43m=\u001B[39;49m\u001B[43mkwargs\u001B[49m\u001B[43m,\u001B[49m\n\u001B[0;32m   4760\u001B[0m \u001B[43m    \u001B[49m\u001B[43m)\u001B[49m\u001B[38;5;241;43m.\u001B[39;49m\u001B[43mapply\u001B[49m\u001B[43m(\u001B[49m\u001B[43m)\u001B[49m\n",
      "File \u001B[1;32mC:\\ProgramData\\Anaconda3\\envs\\ml-potential\\lib\\site-packages\\pandas\\core\\apply.py:1207\u001B[0m, in \u001B[0;36mSeriesApply.apply\u001B[1;34m(self)\u001B[0m\n\u001B[0;32m   1204\u001B[0m     \u001B[38;5;28;01mreturn\u001B[39;00m \u001B[38;5;28mself\u001B[39m\u001B[38;5;241m.\u001B[39mapply_compat()\n\u001B[0;32m   1206\u001B[0m \u001B[38;5;66;03m# self.func is Callable\u001B[39;00m\n\u001B[1;32m-> 1207\u001B[0m \u001B[38;5;28;01mreturn\u001B[39;00m \u001B[38;5;28;43mself\u001B[39;49m\u001B[38;5;241;43m.\u001B[39;49m\u001B[43mapply_standard\u001B[49m\u001B[43m(\u001B[49m\u001B[43m)\u001B[49m\n",
      "File \u001B[1;32mC:\\ProgramData\\Anaconda3\\envs\\ml-potential\\lib\\site-packages\\pandas\\core\\apply.py:1287\u001B[0m, in \u001B[0;36mSeriesApply.apply_standard\u001B[1;34m(self)\u001B[0m\n\u001B[0;32m   1281\u001B[0m \u001B[38;5;66;03m# row-wise access\u001B[39;00m\n\u001B[0;32m   1282\u001B[0m \u001B[38;5;66;03m# apply doesn't have a `na_action` keyword and for backward compat reasons\u001B[39;00m\n\u001B[0;32m   1283\u001B[0m \u001B[38;5;66;03m# we need to give `na_action=\"ignore\"` for categorical data.\u001B[39;00m\n\u001B[0;32m   1284\u001B[0m \u001B[38;5;66;03m# TODO: remove the `na_action=\"ignore\"` when that default has been changed in\u001B[39;00m\n\u001B[0;32m   1285\u001B[0m \u001B[38;5;66;03m#  Categorical (GH51645).\u001B[39;00m\n\u001B[0;32m   1286\u001B[0m action \u001B[38;5;241m=\u001B[39m \u001B[38;5;124m\"\u001B[39m\u001B[38;5;124mignore\u001B[39m\u001B[38;5;124m\"\u001B[39m \u001B[38;5;28;01mif\u001B[39;00m \u001B[38;5;28misinstance\u001B[39m(obj\u001B[38;5;241m.\u001B[39mdtype, CategoricalDtype) \u001B[38;5;28;01melse\u001B[39;00m \u001B[38;5;28;01mNone\u001B[39;00m\n\u001B[1;32m-> 1287\u001B[0m mapped \u001B[38;5;241m=\u001B[39m \u001B[43mobj\u001B[49m\u001B[38;5;241;43m.\u001B[39;49m\u001B[43m_map_values\u001B[49m\u001B[43m(\u001B[49m\n\u001B[0;32m   1288\u001B[0m \u001B[43m    \u001B[49m\u001B[43mmapper\u001B[49m\u001B[38;5;241;43m=\u001B[39;49m\u001B[43mcurried\u001B[49m\u001B[43m,\u001B[49m\u001B[43m \u001B[49m\u001B[43mna_action\u001B[49m\u001B[38;5;241;43m=\u001B[39;49m\u001B[43maction\u001B[49m\u001B[43m,\u001B[49m\u001B[43m \u001B[49m\u001B[43mconvert\u001B[49m\u001B[38;5;241;43m=\u001B[39;49m\u001B[38;5;28;43mself\u001B[39;49m\u001B[38;5;241;43m.\u001B[39;49m\u001B[43mconvert_dtype\u001B[49m\n\u001B[0;32m   1289\u001B[0m \u001B[43m\u001B[49m\u001B[43m)\u001B[49m\n\u001B[0;32m   1291\u001B[0m \u001B[38;5;28;01mif\u001B[39;00m \u001B[38;5;28mlen\u001B[39m(mapped) \u001B[38;5;129;01mand\u001B[39;00m \u001B[38;5;28misinstance\u001B[39m(mapped[\u001B[38;5;241m0\u001B[39m], ABCSeries):\n\u001B[0;32m   1292\u001B[0m     \u001B[38;5;66;03m# GH#43986 Need to do list(mapped) in order to get treated as nested\u001B[39;00m\n\u001B[0;32m   1293\u001B[0m     \u001B[38;5;66;03m#  See also GH#25959 regarding EA support\u001B[39;00m\n\u001B[0;32m   1294\u001B[0m     \u001B[38;5;28;01mreturn\u001B[39;00m obj\u001B[38;5;241m.\u001B[39m_constructor_expanddim(\u001B[38;5;28mlist\u001B[39m(mapped), index\u001B[38;5;241m=\u001B[39mobj\u001B[38;5;241m.\u001B[39mindex)\n",
      "File \u001B[1;32mC:\\ProgramData\\Anaconda3\\envs\\ml-potential\\lib\\site-packages\\pandas\\core\\base.py:921\u001B[0m, in \u001B[0;36mIndexOpsMixin._map_values\u001B[1;34m(self, mapper, na_action, convert)\u001B[0m\n\u001B[0;32m    918\u001B[0m \u001B[38;5;28;01mif\u001B[39;00m \u001B[38;5;28misinstance\u001B[39m(arr, ExtensionArray):\n\u001B[0;32m    919\u001B[0m     \u001B[38;5;28;01mreturn\u001B[39;00m arr\u001B[38;5;241m.\u001B[39mmap(mapper, na_action\u001B[38;5;241m=\u001B[39mna_action)\n\u001B[1;32m--> 921\u001B[0m \u001B[38;5;28;01mreturn\u001B[39;00m \u001B[43malgorithms\u001B[49m\u001B[38;5;241;43m.\u001B[39;49m\u001B[43mmap_array\u001B[49m\u001B[43m(\u001B[49m\u001B[43marr\u001B[49m\u001B[43m,\u001B[49m\u001B[43m \u001B[49m\u001B[43mmapper\u001B[49m\u001B[43m,\u001B[49m\u001B[43m \u001B[49m\u001B[43mna_action\u001B[49m\u001B[38;5;241;43m=\u001B[39;49m\u001B[43mna_action\u001B[49m\u001B[43m,\u001B[49m\u001B[43m \u001B[49m\u001B[43mconvert\u001B[49m\u001B[38;5;241;43m=\u001B[39;49m\u001B[43mconvert\u001B[49m\u001B[43m)\u001B[49m\n",
      "File \u001B[1;32mC:\\ProgramData\\Anaconda3\\envs\\ml-potential\\lib\\site-packages\\pandas\\core\\algorithms.py:1814\u001B[0m, in \u001B[0;36mmap_array\u001B[1;34m(arr, mapper, na_action, convert)\u001B[0m\n\u001B[0;32m   1812\u001B[0m values \u001B[38;5;241m=\u001B[39m arr\u001B[38;5;241m.\u001B[39mastype(\u001B[38;5;28mobject\u001B[39m, copy\u001B[38;5;241m=\u001B[39m\u001B[38;5;28;01mFalse\u001B[39;00m)\n\u001B[0;32m   1813\u001B[0m \u001B[38;5;28;01mif\u001B[39;00m na_action \u001B[38;5;129;01mis\u001B[39;00m \u001B[38;5;28;01mNone\u001B[39;00m:\n\u001B[1;32m-> 1814\u001B[0m     \u001B[38;5;28;01mreturn\u001B[39;00m \u001B[43mlib\u001B[49m\u001B[38;5;241;43m.\u001B[39;49m\u001B[43mmap_infer\u001B[49m\u001B[43m(\u001B[49m\u001B[43mvalues\u001B[49m\u001B[43m,\u001B[49m\u001B[43m \u001B[49m\u001B[43mmapper\u001B[49m\u001B[43m,\u001B[49m\u001B[43m \u001B[49m\u001B[43mconvert\u001B[49m\u001B[38;5;241;43m=\u001B[39;49m\u001B[43mconvert\u001B[49m\u001B[43m)\u001B[49m\n\u001B[0;32m   1815\u001B[0m \u001B[38;5;28;01melse\u001B[39;00m:\n\u001B[0;32m   1816\u001B[0m     \u001B[38;5;28;01mreturn\u001B[39;00m lib\u001B[38;5;241m.\u001B[39mmap_infer_mask(\n\u001B[0;32m   1817\u001B[0m         values, mapper, mask\u001B[38;5;241m=\u001B[39misna(values)\u001B[38;5;241m.\u001B[39mview(np\u001B[38;5;241m.\u001B[39muint8), convert\u001B[38;5;241m=\u001B[39mconvert\n\u001B[0;32m   1818\u001B[0m     )\n",
      "File \u001B[1;32mlib.pyx:2920\u001B[0m, in \u001B[0;36mpandas._libs.lib.map_infer\u001B[1;34m()\u001B[0m\n",
      "Cell \u001B[1;32mIn[22], line 20\u001B[0m, in \u001B[0;36mcreate_tf_dataset.<locals>.<lambda>\u001B[1;34m(x)\u001B[0m\n\u001B[0;32m     15\u001B[0m max_atoms \u001B[38;5;241m=\u001B[39m df[\u001B[38;5;124m\"\u001B[39m\u001B[38;5;124mexpanded_distance_matrix\u001B[39m\u001B[38;5;124m\"\u001B[39m]\u001B[38;5;241m.\u001B[39mapply(\u001B[38;5;28;01mlambda\u001B[39;00m x: x\u001B[38;5;241m.\u001B[39mshape[\u001B[38;5;241m1\u001B[39m])\u001B[38;5;241m.\u001B[39mmax()\n\u001B[0;32m     16\u001B[0m df[\u001B[38;5;124m\"\u001B[39m\u001B[38;5;124mexpanded_distance_matrix\u001B[39m\u001B[38;5;124m\"\u001B[39m] \u001B[38;5;241m=\u001B[39m df[\u001B[38;5;124m\"\u001B[39m\u001B[38;5;124mexpanded_distance_matrix\u001B[39m\u001B[38;5;124m\"\u001B[39m]\u001B[38;5;241m.\u001B[39mapply(\n\u001B[0;32m     17\u001B[0m     \u001B[38;5;28;01mlambda\u001B[39;00m x: np\u001B[38;5;241m.\u001B[39mpad(x, ((\u001B[38;5;241m0\u001B[39m, \u001B[38;5;241m0\u001B[39m), (\u001B[38;5;241m0\u001B[39m, max_atoms \u001B[38;5;241m-\u001B[39m x\u001B[38;5;241m.\u001B[39mshape[\u001B[38;5;241m1\u001B[39m]), (\u001B[38;5;241m0\u001B[39m, \u001B[38;5;241m0\u001B[39m)), mode\u001B[38;5;241m=\u001B[39m\u001B[38;5;124m\"\u001B[39m\u001B[38;5;124mconstant\u001B[39m\u001B[38;5;124m\"\u001B[39m)\n\u001B[0;32m     18\u001B[0m )\n\u001B[0;32m     19\u001B[0m df[\u001B[38;5;124m\"\u001B[39m\u001B[38;5;124matom_numbers\u001B[39m\u001B[38;5;124m\"\u001B[39m] \u001B[38;5;241m=\u001B[39m df[\u001B[38;5;124m\"\u001B[39m\u001B[38;5;124matom_numbers\u001B[39m\u001B[38;5;124m\"\u001B[39m]\u001B[38;5;241m.\u001B[39mapply(\n\u001B[1;32m---> 20\u001B[0m     \u001B[38;5;28;01mlambda\u001B[39;00m x: \u001B[43mnp\u001B[49m\u001B[38;5;241;43m.\u001B[39;49m\u001B[43mpad\u001B[49m\u001B[43m(\u001B[49m\u001B[43mx\u001B[49m\u001B[43m,\u001B[49m\u001B[43m \u001B[49m\u001B[43m(\u001B[49m\u001B[43m(\u001B[49m\u001B[38;5;241;43m0\u001B[39;49m\u001B[43m,\u001B[49m\u001B[43m \u001B[49m\u001B[38;5;241;43m0\u001B[39;49m\u001B[43m)\u001B[49m\u001B[43m,\u001B[49m\u001B[43m \u001B[49m\u001B[43m(\u001B[49m\u001B[38;5;241;43m0\u001B[39;49m\u001B[43m,\u001B[49m\u001B[43m \u001B[49m\u001B[43mmax_atoms\u001B[49m\u001B[43m \u001B[49m\u001B[38;5;241;43m-\u001B[39;49m\u001B[43m \u001B[49m\u001B[43mx\u001B[49m\u001B[38;5;241;43m.\u001B[39;49m\u001B[43mshape\u001B[49m\u001B[43m[\u001B[49m\u001B[38;5;241;43m1\u001B[39;49m\u001B[43m]\u001B[49m\u001B[43m)\u001B[49m\u001B[43m)\u001B[49m\u001B[43m,\u001B[49m\u001B[43m \u001B[49m\u001B[43mmode\u001B[49m\u001B[38;5;241;43m=\u001B[39;49m\u001B[38;5;124;43m\"\u001B[39;49m\u001B[38;5;124;43mconstant\u001B[39;49m\u001B[38;5;124;43m\"\u001B[39;49m\u001B[43m)\u001B[49m\n\u001B[0;32m     21\u001B[0m )\n\u001B[0;32m     23\u001B[0m expanded_distance_matrices \u001B[38;5;241m=\u001B[39m np\u001B[38;5;241m.\u001B[39mstack(df[\u001B[38;5;124m\"\u001B[39m\u001B[38;5;124mexpanded_distance_matrix\u001B[39m\u001B[38;5;124m\"\u001B[39m])\n\u001B[0;32m     24\u001B[0m atom_numbers \u001B[38;5;241m=\u001B[39m np\u001B[38;5;241m.\u001B[39mstack(df[\u001B[38;5;124m\"\u001B[39m\u001B[38;5;124matom_numbers\u001B[39m\u001B[38;5;124m\"\u001B[39m])\n",
      "File \u001B[1;32mC:\\ProgramData\\Anaconda3\\envs\\ml-potential\\lib\\site-packages\\numpy\\lib\\arraypad.py:748\u001B[0m, in \u001B[0;36mpad\u001B[1;34m(array, pad_width, mode, **kwargs)\u001B[0m\n\u001B[0;32m    745\u001B[0m     \u001B[38;5;28;01mraise\u001B[39;00m \u001B[38;5;167;01mTypeError\u001B[39;00m(\u001B[38;5;124m'\u001B[39m\u001B[38;5;124m`pad_width` must be of integral type.\u001B[39m\u001B[38;5;124m'\u001B[39m)\n\u001B[0;32m    747\u001B[0m \u001B[38;5;66;03m# Broadcast to shape (array.ndim, 2)\u001B[39;00m\n\u001B[1;32m--> 748\u001B[0m pad_width \u001B[38;5;241m=\u001B[39m \u001B[43m_as_pairs\u001B[49m\u001B[43m(\u001B[49m\u001B[43mpad_width\u001B[49m\u001B[43m,\u001B[49m\u001B[43m \u001B[49m\u001B[43marray\u001B[49m\u001B[38;5;241;43m.\u001B[39;49m\u001B[43mndim\u001B[49m\u001B[43m,\u001B[49m\u001B[43m \u001B[49m\u001B[43mas_index\u001B[49m\u001B[38;5;241;43m=\u001B[39;49m\u001B[38;5;28;43;01mTrue\u001B[39;49;00m\u001B[43m)\u001B[49m\n\u001B[0;32m    750\u001B[0m \u001B[38;5;28;01mif\u001B[39;00m \u001B[38;5;28mcallable\u001B[39m(mode):\n\u001B[0;32m    751\u001B[0m     \u001B[38;5;66;03m# Old behavior: Use user-supplied function with np.apply_along_axis\u001B[39;00m\n\u001B[0;32m    752\u001B[0m     function \u001B[38;5;241m=\u001B[39m mode\n",
      "File \u001B[1;32mC:\\ProgramData\\Anaconda3\\envs\\ml-potential\\lib\\site-packages\\numpy\\lib\\arraypad.py:522\u001B[0m, in \u001B[0;36m_as_pairs\u001B[1;34m(x, ndim, as_index)\u001B[0m\n\u001B[0;32m    518\u001B[0m     \u001B[38;5;28;01mraise\u001B[39;00m \u001B[38;5;167;01mValueError\u001B[39;00m(\u001B[38;5;124m\"\u001B[39m\u001B[38;5;124mindex can\u001B[39m\u001B[38;5;124m'\u001B[39m\u001B[38;5;124mt contain negative values\u001B[39m\u001B[38;5;124m\"\u001B[39m)\n\u001B[0;32m    520\u001B[0m \u001B[38;5;66;03m# Converting the array with `tolist` seems to improve performance\u001B[39;00m\n\u001B[0;32m    521\u001B[0m \u001B[38;5;66;03m# when iterating and indexing the result (see usage in `pad`)\u001B[39;00m\n\u001B[1;32m--> 522\u001B[0m \u001B[38;5;28;01mreturn\u001B[39;00m \u001B[43mnp\u001B[49m\u001B[38;5;241;43m.\u001B[39;49m\u001B[43mbroadcast_to\u001B[49m\u001B[43m(\u001B[49m\u001B[43mx\u001B[49m\u001B[43m,\u001B[49m\u001B[43m \u001B[49m\u001B[43m(\u001B[49m\u001B[43mndim\u001B[49m\u001B[43m,\u001B[49m\u001B[43m \u001B[49m\u001B[38;5;241;43m2\u001B[39;49m\u001B[43m)\u001B[49m\u001B[43m)\u001B[49m\u001B[38;5;241m.\u001B[39mtolist()\n",
      "File \u001B[1;32mC:\\ProgramData\\Anaconda3\\envs\\ml-potential\\lib\\site-packages\\numpy\\lib\\stride_tricks.py:413\u001B[0m, in \u001B[0;36mbroadcast_to\u001B[1;34m(array, shape, subok)\u001B[0m\n\u001B[0;32m    367\u001B[0m \u001B[38;5;129m@array_function_dispatch\u001B[39m(_broadcast_to_dispatcher, module\u001B[38;5;241m=\u001B[39m\u001B[38;5;124m'\u001B[39m\u001B[38;5;124mnumpy\u001B[39m\u001B[38;5;124m'\u001B[39m)\n\u001B[0;32m    368\u001B[0m \u001B[38;5;28;01mdef\u001B[39;00m \u001B[38;5;21mbroadcast_to\u001B[39m(array, shape, subok\u001B[38;5;241m=\u001B[39m\u001B[38;5;28;01mFalse\u001B[39;00m):\n\u001B[0;32m    369\u001B[0m \u001B[38;5;250m    \u001B[39m\u001B[38;5;124;03m\"\"\"Broadcast an array to a new shape.\u001B[39;00m\n\u001B[0;32m    370\u001B[0m \n\u001B[0;32m    371\u001B[0m \u001B[38;5;124;03m    Parameters\u001B[39;00m\n\u001B[1;32m   (...)\u001B[0m\n\u001B[0;32m    411\u001B[0m \u001B[38;5;124;03m           [1, 2, 3]])\u001B[39;00m\n\u001B[0;32m    412\u001B[0m \u001B[38;5;124;03m    \"\"\"\u001B[39;00m\n\u001B[1;32m--> 413\u001B[0m     \u001B[38;5;28;01mreturn\u001B[39;00m \u001B[43m_broadcast_to\u001B[49m\u001B[43m(\u001B[49m\u001B[43marray\u001B[49m\u001B[43m,\u001B[49m\u001B[43m \u001B[49m\u001B[43mshape\u001B[49m\u001B[43m,\u001B[49m\u001B[43m \u001B[49m\u001B[43msubok\u001B[49m\u001B[38;5;241;43m=\u001B[39;49m\u001B[43msubok\u001B[49m\u001B[43m,\u001B[49m\u001B[43m \u001B[49m\u001B[43mreadonly\u001B[49m\u001B[38;5;241;43m=\u001B[39;49m\u001B[38;5;28;43;01mTrue\u001B[39;49;00m\u001B[43m)\u001B[49m\n",
      "File \u001B[1;32mC:\\ProgramData\\Anaconda3\\envs\\ml-potential\\lib\\site-packages\\numpy\\lib\\stride_tricks.py:349\u001B[0m, in \u001B[0;36m_broadcast_to\u001B[1;34m(array, shape, subok, readonly)\u001B[0m\n\u001B[0;32m    346\u001B[0m     \u001B[38;5;28;01mraise\u001B[39;00m \u001B[38;5;167;01mValueError\u001B[39;00m(\u001B[38;5;124m'\u001B[39m\u001B[38;5;124mall elements of broadcast shape must be non-\u001B[39m\u001B[38;5;124m'\u001B[39m\n\u001B[0;32m    347\u001B[0m                      \u001B[38;5;124m'\u001B[39m\u001B[38;5;124mnegative\u001B[39m\u001B[38;5;124m'\u001B[39m)\n\u001B[0;32m    348\u001B[0m extras \u001B[38;5;241m=\u001B[39m []\n\u001B[1;32m--> 349\u001B[0m it \u001B[38;5;241m=\u001B[39m \u001B[43mnp\u001B[49m\u001B[38;5;241;43m.\u001B[39;49m\u001B[43mnditer\u001B[49m\u001B[43m(\u001B[49m\n\u001B[0;32m    350\u001B[0m \u001B[43m    \u001B[49m\u001B[43m(\u001B[49m\u001B[43marray\u001B[49m\u001B[43m,\u001B[49m\u001B[43m)\u001B[49m\u001B[43m,\u001B[49m\u001B[43m \u001B[49m\u001B[43mflags\u001B[49m\u001B[38;5;241;43m=\u001B[39;49m\u001B[43m[\u001B[49m\u001B[38;5;124;43m'\u001B[39;49m\u001B[38;5;124;43mmulti_index\u001B[39;49m\u001B[38;5;124;43m'\u001B[39;49m\u001B[43m,\u001B[49m\u001B[43m \u001B[49m\u001B[38;5;124;43m'\u001B[39;49m\u001B[38;5;124;43mrefs_ok\u001B[39;49m\u001B[38;5;124;43m'\u001B[39;49m\u001B[43m,\u001B[49m\u001B[43m \u001B[49m\u001B[38;5;124;43m'\u001B[39;49m\u001B[38;5;124;43mzerosize_ok\u001B[39;49m\u001B[38;5;124;43m'\u001B[39;49m\u001B[43m]\u001B[49m\u001B[43m \u001B[49m\u001B[38;5;241;43m+\u001B[39;49m\u001B[43m \u001B[49m\u001B[43mextras\u001B[49m\u001B[43m,\u001B[49m\n\u001B[0;32m    351\u001B[0m \u001B[43m    \u001B[49m\u001B[43mop_flags\u001B[49m\u001B[38;5;241;43m=\u001B[39;49m\u001B[43m[\u001B[49m\u001B[38;5;124;43m'\u001B[39;49m\u001B[38;5;124;43mreadonly\u001B[39;49m\u001B[38;5;124;43m'\u001B[39;49m\u001B[43m]\u001B[49m\u001B[43m,\u001B[49m\u001B[43m \u001B[49m\u001B[43mitershape\u001B[49m\u001B[38;5;241;43m=\u001B[39;49m\u001B[43mshape\u001B[49m\u001B[43m,\u001B[49m\u001B[43m \u001B[49m\u001B[43morder\u001B[49m\u001B[38;5;241;43m=\u001B[39;49m\u001B[38;5;124;43m'\u001B[39;49m\u001B[38;5;124;43mC\u001B[39;49m\u001B[38;5;124;43m'\u001B[39;49m\u001B[43m)\u001B[49m\n\u001B[0;32m    352\u001B[0m \u001B[38;5;28;01mwith\u001B[39;00m it:\n\u001B[0;32m    353\u001B[0m     \u001B[38;5;66;03m# never really has writebackifcopy semantics\u001B[39;00m\n\u001B[0;32m    354\u001B[0m     broadcast \u001B[38;5;241m=\u001B[39m it\u001B[38;5;241m.\u001B[39mitviews[\u001B[38;5;241m0\u001B[39m]\n",
      "\u001B[1;31mValueError\u001B[0m: operands could not be broadcast together with remapped shapes [original->remapped]: (2,2)  and requested shape (3,2)"
     ]
    }
   ],
   "source": [
    "def create_tf_dataset(path, grid_size=0.1, batch_size=32, shuffle_buffer_size=1000):\n",
    "    ENERGY_KEY = \"energy_corrected_per_atom\"\n",
    "    FORCE_KEY = \"forces\"\n",
    "    \n",
    "    df = pd.read_pickle(path, compression=\"gzip\")\n",
    "    df = deserialize_df(df)\n",
    "    df = filter_out_single_atom_molecules(df)\n",
    "    \n",
    "    # create expanded distance matrix for each df entry\n",
    "    df[[\"expanded_distance_matrix\", \"atom_numbers\"]] = df[\"ase_atoms\"].apply(\n",
    "        lambda x: pd.Series(get_expanded_distance_matrix(x, grid_size), index=[\"expanded_distance_matrix\", \"atom_numbers\"])\n",
    "    )\n",
    "    print(\"finished creating distance matrices\")\n",
    "    \n",
    "    max_atoms = df[\"expanded_distance_matrix\"].apply(lambda x: x.shape[1]).max()\n",
    "    df[\"expanded_distance_matrix\"] = df[\"expanded_distance_matrix\"].apply(\n",
    "        lambda x: np.pad(x, ((0, 0), (0, max_atoms - x.shape[1]), (0, 0)), mode=\"constant\")\n",
    "    )\n",
    "    df[\"atom_numbers\"] = df[\"atom_numbers\"].apply(\n",
    "        lambda x: np.pad(x, ((0, 0), (0, max_atoms - x.shape[1])), mode=\"constant\")\n",
    "    )\n",
    "    \n",
    "    expanded_distance_matrices = np.stack(df[\"expanded_distance_matrix\"])\n",
    "    atom_numbers = np.stack(df[\"atom_numbers\"])\n",
    "    energies = np.stack(np.array(df[ENERGY_KEY]))\n",
    "    forces = np.stack(np.array(df[FORCE_KEY]))\n",
    "    \n",
    "    print(expanded_distance_matrices.shape)\n",
    "    print(atom_numbers.shape)\n",
    "    print(energies.shape)\n",
    "    print(forces.shape)\n",
    "    \n",
    "    # create tf dataset\n",
    "    dataset = tf.data.Dataset.from_tensor_slices(\n",
    "        (\n",
    "            expanded_distance_matrices,  # shape: (n_samples, max_atoms, max_atoms, 4)\n",
    "            atom_numbers,  # shape: (n_samples, max_atoms, max_atoms)\n",
    "            energies,  # shape: (n_samples,)\n",
    "            forces # shape: (n_samples, max_atoms, 3)\n",
    "        )\n",
    "    )\n",
    "    \n",
    "    # shuffle and batch\n",
    "    dataset = dataset.shuffle(buffer_size=shuffle_buffer_size)\n",
    "    dataset = dataset.batch(batch_size)\n",
    "    \n",
    "    return dataset\n",
    "\n",
    "create_tf_dataset(\"./../Datasets/Cu_df2_1k.pkl.gzip\", grid_size=0.1, batch_size=32, shuffle_buffer_size=1000)"
   ],
   "metadata": {
    "collapsed": false,
    "ExecuteTime": {
     "end_time": "2023-11-22T15:07:23.486437500Z",
     "start_time": "2023-11-22T15:07:06.700720900Z"
    }
   },
   "id": "55a3cab44cbe3484"
  },
  {
   "cell_type": "code",
   "execution_count": null,
   "outputs": [],
   "source": [],
   "metadata": {
    "collapsed": false,
    "ExecuteTime": {
     "start_time": "2023-11-22T15:04:41.153983200Z"
    }
   },
   "id": "3915a4acaaaf8852"
  },
  {
   "cell_type": "code",
   "execution_count": null,
   "outputs": [],
   "source": [],
   "metadata": {
    "collapsed": false
   },
   "id": "26bcd8365be8b8c5"
  }
 ],
 "metadata": {
  "kernelspec": {
   "display_name": "Python 3",
   "language": "python",
   "name": "python3"
  },
  "language_info": {
   "codemirror_mode": {
    "name": "ipython",
    "version": 2
   },
   "file_extension": ".py",
   "mimetype": "text/x-python",
   "name": "python",
   "nbconvert_exporter": "python",
   "pygments_lexer": "ipython2",
   "version": "2.7.6"
  }
 },
 "nbformat": 4,
 "nbformat_minor": 5
}
