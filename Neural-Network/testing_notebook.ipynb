{
 "cells": [
  {
   "cell_type": "code",
   "execution_count": 1,
   "id": "initial_id",
   "metadata": {
    "collapsed": true,
    "ExecuteTime": {
     "end_time": "2023-12-07T16:05:07.246191900Z",
     "start_time": "2023-12-07T16:05:02.428404500Z"
    }
   },
   "outputs": [
    {
     "name": "stdout",
     "output_type": "stream",
     "text": [
      "WARNING:tensorflow:From C:\\ProgramData\\Anaconda3\\envs\\ml-potential\\lib\\site-packages\\keras\\src\\losses.py:2976: The name tf.losses.sparse_softmax_cross_entropy is deprecated. Please use tf.compat.v1.losses.sparse_softmax_cross_entropy instead.\n"
     ]
    }
   ],
   "source": [
    "import pandas as pd\n",
    "import numpy as np\n",
    "from tqdm import tqdm\n",
    "import ase\n",
    "from ase import Atoms, Atom\n",
    "\n",
    "import tensorflow as tf\n",
    "from tensorflow.keras import layers\n",
    "\n",
    "from Constants import Keys\n",
    "from prepare_data import (\n",
    "    create_grid, \n",
    "    deserialize_df, \n",
    "    filter_out_single_atom_molecules,\n",
    "    create_matrices,\n",
    "    create_df\n",
    ")"
   ]
  },
  {
   "cell_type": "code",
   "execution_count": 2,
   "outputs": [
    {
     "name": "stdout",
     "output_type": "stream",
     "text": [
      "[[ 0.        0.        0.      ]\n",
      " [ 1.613117  1.613117  1.613117]\n",
      " [ 0.        0.        3.226233]\n",
      " [ 1.613117  1.613117  4.83935 ]\n",
      " [ 0.        0.        6.452467]\n",
      " [ 1.613117  1.613117  8.065583]\n",
      " [ 0.        0.        9.6787  ]\n",
      " [ 1.613117  1.613117 11.291817]]\n"
     ]
    },
    {
     "data": {
      "text/plain": "                                                  name  \\\n0                  A1:FHI-aims/PBE/tight:elastic:s_e_0   \n1           A1:FHI-aims/PBE/tight:murnaghan:strain_1_0   \n2      A1:FHI-aims/PBE/tight:phonon:supercell_phonon_0   \n3          A1:FHI-aims/PBE/tight:murnaghan:strain_1_02   \n4    A1:FHI-aims/PBE/tight:qha:phonopy_strain_1_02:...   \n..                                                 ...   \n995                                             Zr4Al3   \n996              fcc_100surf_X110_Y-110_Z001_4at_d0.95   \n997                                          ran2.7197   \n998                            A15.shakesmallsuper2.14   \n999                   A15.shakesmallsuper2corrected.26   \n\n                                             ase_atoms  energy_corrected  \\\n0               (Atom('Cu', [0.0, 0.0, 0.0], index=0))         -3.699843   \n1               (Atom('Cu', [0.0, 0.0, 0.0], index=0))         -3.699841   \n2    (Atom('Cu', [4.3368086899420173e-19, 0.0070709...       -236.789603   \n3               (Atom('Cu', [0.0, 0.0, 0.0], index=0))         -3.697932   \n4    (Atom('Cu', [0.0, 0.007070999999999999, 0.0070...       -236.667372   \n..                                                 ...               ...   \n995  (Atom('Cu', [1.397, 0.806558, 0.0], index=0), ...        -18.922813   \n996  (Atom('Cu', [0.0, 0.0, 0.0], index=0), Atom('C...        -10.811770   \n997  (Atom('Cu', [0.0, 0.0, 0.0], index=0), Atom('C...         -5.405739   \n998  (Atom('Cu', [19.532944999999994, -0.449866, 19...       -172.952480   \n999  (Atom('Cu', [11.302489999999999, 10.996904, 10...       -172.848259   \n\n                                                forces  \\\n0                                    [[0.0, 0.0, 0.0]]   \n1                                    [[0.0, 0.0, 0.0]]   \n2    [[-1.13852957740976e-06, -0.0464638907314277, ...   \n3                                    [[0.0, 0.0, 0.0]]   \n4    [[-1.7950713845026e-06, -0.0426786586259085, -...   \n..                                                 ...   \n995  [[-6.18422096975777e-08, 3.90650715661433e-08,...   \n996  [[-4.30878346990838e-07, -7.31495829958533e-08...   \n997  [[-0.233777024216308, -0.488775610406501, 0.45...   \n998  [[0.872967501214253, 0.798687481685555, 0.8365...   \n999  [[-0.0565593911501715, 0.0441732952826791, 0.0...   \n\n     energy_corrected_per_atom  \n0                    -3.699843  \n1                    -3.699841  \n2                    -3.699838  \n3                    -3.697932  \n4                    -3.697928  \n..                         ...  \n995                  -2.703259  \n996                  -2.702942  \n997                  -2.702869  \n998                  -2.702382  \n999                  -2.700754  \n\n[1000 rows x 5 columns]",
      "text/html": "<div>\n<style scoped>\n    .dataframe tbody tr th:only-of-type {\n        vertical-align: middle;\n    }\n\n    .dataframe tbody tr th {\n        vertical-align: top;\n    }\n\n    .dataframe thead th {\n        text-align: right;\n    }\n</style>\n<table border=\"1\" class=\"dataframe\">\n  <thead>\n    <tr style=\"text-align: right;\">\n      <th></th>\n      <th>name</th>\n      <th>ase_atoms</th>\n      <th>energy_corrected</th>\n      <th>forces</th>\n      <th>energy_corrected_per_atom</th>\n    </tr>\n  </thead>\n  <tbody>\n    <tr>\n      <th>0</th>\n      <td>A1:FHI-aims/PBE/tight:elastic:s_e_0</td>\n      <td>(Atom('Cu', [0.0, 0.0, 0.0], index=0))</td>\n      <td>-3.699843</td>\n      <td>[[0.0, 0.0, 0.0]]</td>\n      <td>-3.699843</td>\n    </tr>\n    <tr>\n      <th>1</th>\n      <td>A1:FHI-aims/PBE/tight:murnaghan:strain_1_0</td>\n      <td>(Atom('Cu', [0.0, 0.0, 0.0], index=0))</td>\n      <td>-3.699841</td>\n      <td>[[0.0, 0.0, 0.0]]</td>\n      <td>-3.699841</td>\n    </tr>\n    <tr>\n      <th>2</th>\n      <td>A1:FHI-aims/PBE/tight:phonon:supercell_phonon_0</td>\n      <td>(Atom('Cu', [4.3368086899420173e-19, 0.0070709...</td>\n      <td>-236.789603</td>\n      <td>[[-1.13852957740976e-06, -0.0464638907314277, ...</td>\n      <td>-3.699838</td>\n    </tr>\n    <tr>\n      <th>3</th>\n      <td>A1:FHI-aims/PBE/tight:murnaghan:strain_1_02</td>\n      <td>(Atom('Cu', [0.0, 0.0, 0.0], index=0))</td>\n      <td>-3.697932</td>\n      <td>[[0.0, 0.0, 0.0]]</td>\n      <td>-3.697932</td>\n    </tr>\n    <tr>\n      <th>4</th>\n      <td>A1:FHI-aims/PBE/tight:qha:phonopy_strain_1_02:...</td>\n      <td>(Atom('Cu', [0.0, 0.007070999999999999, 0.0070...</td>\n      <td>-236.667372</td>\n      <td>[[-1.7950713845026e-06, -0.0426786586259085, -...</td>\n      <td>-3.697928</td>\n    </tr>\n    <tr>\n      <th>...</th>\n      <td>...</td>\n      <td>...</td>\n      <td>...</td>\n      <td>...</td>\n      <td>...</td>\n    </tr>\n    <tr>\n      <th>995</th>\n      <td>Zr4Al3</td>\n      <td>(Atom('Cu', [1.397, 0.806558, 0.0], index=0), ...</td>\n      <td>-18.922813</td>\n      <td>[[-6.18422096975777e-08, 3.90650715661433e-08,...</td>\n      <td>-2.703259</td>\n    </tr>\n    <tr>\n      <th>996</th>\n      <td>fcc_100surf_X110_Y-110_Z001_4at_d0.95</td>\n      <td>(Atom('Cu', [0.0, 0.0, 0.0], index=0), Atom('C...</td>\n      <td>-10.811770</td>\n      <td>[[-4.30878346990838e-07, -7.31495829958533e-08...</td>\n      <td>-2.702942</td>\n    </tr>\n    <tr>\n      <th>997</th>\n      <td>ran2.7197</td>\n      <td>(Atom('Cu', [0.0, 0.0, 0.0], index=0), Atom('C...</td>\n      <td>-5.405739</td>\n      <td>[[-0.233777024216308, -0.488775610406501, 0.45...</td>\n      <td>-2.702869</td>\n    </tr>\n    <tr>\n      <th>998</th>\n      <td>A15.shakesmallsuper2.14</td>\n      <td>(Atom('Cu', [19.532944999999994, -0.449866, 19...</td>\n      <td>-172.952480</td>\n      <td>[[0.872967501214253, 0.798687481685555, 0.8365...</td>\n      <td>-2.702382</td>\n    </tr>\n    <tr>\n      <th>999</th>\n      <td>A15.shakesmallsuper2corrected.26</td>\n      <td>(Atom('Cu', [11.302489999999999, 10.996904, 10...</td>\n      <td>-172.848259</td>\n      <td>[[-0.0565593911501715, 0.0441732952826791, 0.0...</td>\n      <td>-2.700754</td>\n    </tr>\n  </tbody>\n</table>\n<p>1000 rows × 5 columns</p>\n</div>"
     },
     "execution_count": 2,
     "metadata": {},
     "output_type": "execute_result"
    }
   ],
   "source": [
    "df0 = pd.read_pickle(\"./../Datasets/Cu_df2_1k.pkl.gzip\", compression=\"gzip\")\n",
    "atoms = df0[\"ase_atoms\"]\n",
    "a = Atoms(atoms[800])\n",
    "print(a.positions)\n",
    "df0"
   ],
   "metadata": {
    "collapsed": false,
    "ExecuteTime": {
     "end_time": "2023-12-07T16:05:07.470282200Z",
     "start_time": "2023-12-07T16:05:07.246191900Z"
    }
   },
   "id": "a940847b777c08c4"
  },
  {
   "cell_type": "code",
   "execution_count": 3,
   "outputs": [
    {
     "data": {
      "text/plain": "[GridCell(index: (0, 0, 0), atoms: Atom('Cu', [0.0, 0.0, 0.0], index=0)),\n GridCell(index: (1, 1, 1), atoms: Atom('Cu', [1.613117, 1.613117, 1.613117], index=1)),\n GridCell(index: (0, 0, 3), atoms: Atom('Cu', [0.0, 0.0, 3.2262330000000006], index=2)),\n GridCell(index: (1, 1, 4), atoms: Atom('Cu', [1.613117, 1.613117, 4.8393500000000005], index=3)),\n GridCell(index: (0, 0, 6), atoms: Atom('Cu', [0.0, 0.0, 6.452467], index=4)),\n GridCell(index: (1, 1, 8), atoms: Atom('Cu', [1.613117, 1.613117, 8.065583], index=5)),\n GridCell(index: (0, 0, 9), atoms: Atom('Cu', [0.0, 0.0, 9.678700000000001], index=6)),\n GridCell(index: (1, 1, 11), atoms: Atom('Cu', [1.613117, 1.613117, 11.291817], index=7))]"
     },
     "execution_count": 3,
     "metadata": {},
     "output_type": "execute_result"
    }
   ],
   "source": [
    "df0 = deserialize_df(df0)\n",
    "grid = create_grid(df0[\"ase_atoms\"][800], 1)\n",
    "grid"
   ],
   "metadata": {
    "collapsed": false,
    "ExecuteTime": {
     "end_time": "2023-12-07T16:05:07.562731400Z",
     "start_time": "2023-12-07T16:05:07.465777400Z"
    }
   },
   "id": "b448b3e8c8c4cc83"
  },
  {
   "cell_type": "code",
   "execution_count": 4,
   "outputs": [
    {
     "data": {
      "text/plain": "                                                  name  \\\n0      A1:FHI-aims/PBE/tight:phonon:supercell_phonon_0   \n1    A1:FHI-aims/PBE/tight:qha:phonopy_strain_1_02:...   \n2                fcc_100surf_X110_Y-110_Z001_2at_d1.05   \n3         A1:FHI-aims/PBE/tight:tp:trigonal:tp_4_12500   \n4                fcc_110surf_X100_Y01-1_Z011_2at_d1.00   \n..                                                 ...   \n833                                             Zr4Al3   \n834              fcc_100surf_X110_Y-110_Z001_4at_d0.95   \n835                                          ran2.7197   \n836                            A15.shakesmallsuper2.14   \n837                   A15.shakesmallsuper2corrected.26   \n\n                                             ase_atoms  energy_corrected  \\\n0    (Atom('Cu', [4.3368086899420173e-19, 0.0070709...       -236.789603   \n1    (Atom('Cu', [0.0, 0.007070999999999999, 0.0070...       -236.667372   \n2    (Atom('Cu', [1.2699999999999998, 1.26999999999...         -7.393033   \n3    (Atom('Cu', [0.0, 0.0, 0.0], index=0), Atom('C...         -7.391491   \n4    (Atom('Cu', [0.0, 0.0, 0.0], index=0), Atom('C...         -7.391475   \n..                                                 ...               ...   \n833  (Atom('Cu', [1.397, 0.806558, 0.0], index=0), ...        -18.922813   \n834  (Atom('Cu', [0.0, 0.0, 0.0], index=0), Atom('C...        -10.811770   \n835  (Atom('Cu', [0.0, 0.0, 0.0], index=0), Atom('C...         -5.405739   \n836  (Atom('Cu', [19.532944999999994, -0.449866, 19...       -172.952480   \n837  (Atom('Cu', [11.302489999999999, 10.996904, 10...       -172.848259   \n\n                                                forces  \\\n0    [[-1.13852957740976e-06, -0.0464638907314277, ...   \n1    [[-1.7950713845026e-06, -0.0426786586259085, -...   \n2    [[1.43567879745929e-07, 1.29341091704393e-08, ...   \n3                   [[0.0, 0.0, 0.0], [0.0, 0.0, 0.0]]   \n4    [[-9.87788653663608e-08, -6.83294122864741e-08...   \n..                                                 ...   \n833  [[-6.18422096975777e-08, 3.90650715661433e-08,...   \n834  [[-4.30878346990838e-07, -7.31495829958533e-08...   \n835  [[-0.233777024216308, -0.488775610406501, 0.45...   \n836  [[0.872967501214253, 0.798687481685555, 0.8365...   \n837  [[-0.0565593911501715, 0.0441732952826791, 0.0...   \n\n     energy_corrected_per_atom  \\\n0                    -3.699838   \n1                    -3.697928   \n2                    -3.696516   \n3                    -3.695746   \n4                    -3.695738   \n..                         ...   \n833                  -2.703259   \n834                  -2.702942   \n835                  -2.702869   \n836                  -2.702382   \n837                  -2.700754   \n\n                                                  grid local_distance_matrix  \\\n0    [GridCell(index: (0, 0, 0), atoms: Atom('Cu', ...                    []   \n1    [GridCell(index: (0, 0, 0), atoms: Atom('Cu', ...                    []   \n2    [GridCell(index: (12, 12, 0), atoms: Atom('Cu'...                    []   \n3    [GridCell(index: (0, 0, 0), atoms: Atom('Cu', ...                    []   \n4    [GridCell(index: (0, 0, 0), atoms: Atom('Cu', ...                    []   \n..                                                 ...                   ...   \n833  [GridCell(index: (13, 8, 0), atoms: Atom('Cu',...                    []   \n834  [GridCell(index: (0, 0, 0), atoms: Atom('Cu', ...                    []   \n835  [GridCell(index: (8, 0, 0), atoms: Atom('Cu', ...                    []   \n836  [GridCell(index: (195, 0, 192), atoms: Atom('C...                    []   \n837  [GridCell(index: (112, 110, 108), atoms: Atom(...                    []   \n\n    local_atomic_numbers                         long_range_distance_matrix  \\\n0                     []  [[[2.5576886661519227, -1.300522737268895e-16,...   \n1                     []  [[[2.5743339597810535, 0.0, -0.707106781186547...   \n2                     []  [[[2.5399998414568845, 0.5000000312092766, 0.5...   \n3                     []  [[[6.419884, 0.0, -3.4587011996639086e-17, -1....   \n4                     []  [[[2.590799824143888, -0.70710673319015, -0.50...   \n..                   ...                                                ...   \n833                   []  [[[2.794000018902112, -0.49999999661737443, -0...   \n834                   []  [[[2.2859999280218712, -0.5000000157432483, -0...   \n835                   []  [[[10.07632976392466, 0.08185043754252488, -0....   \n836                   []  [[[24.063802685741834, 0.7104031820427551, -0....   \n837                   []  [[[14.317832977907864, 0.5925275852211853, 0.5...   \n\n                            long_range_atomic_features  n_max_local  \\\n0    [[[29, 0, 0, 0, 0, 0, 0, 0, 0, 0, 0, 0, 0, 0, ...            0   \n1    [[[29, 0, 0, 0, 0, 0, 0, 0, 0, 0, 0, 0, 0, 0, ...            0   \n2    [[[29, 0, 0, 0, 0, 0, 0, 0, 0, 0, 0, 0, 0, 0, ...            0   \n3    [[[29, 0, 0, 0, 0, 0, 0, 0, 0, 0, 0, 0, 0, 0, ...            0   \n4    [[[29, 0, 0, 0, 0, 0, 0, 0, 0, 0, 0, 0, 0, 0, ...            0   \n..                                                 ...          ...   \n833  [[[29, 0, 0, 0, 0, 0, 0, 0, 0, 0, 0, 0, 0, 0, ...            0   \n834  [[[29, 0, 0, 0, 0, 0, 0, 0, 0, 0, 0, 0, 0, 0, ...            0   \n835  [[[29, 0, 0, 0, 0, 0, 0, 0, 0, 0, 0, 0, 0, 0, ...            0   \n836  [[[29, 0, 0, 0, 0, 0, 0, 0, 0, 0, 0, 0, 0, 0, ...            0   \n837  [[[29, 0, 0, 0, 0, 0, 0, 0, 0, 0, 0, 0, 0, 0, ...            0   \n\n     n_max_long_range  \n0                  63  \n1                  63  \n2                   1  \n3                   1  \n4                   1  \n..                ...  \n833                 6  \n834                 3  \n835                 1  \n836                63  \n837                63  \n\n[838 rows x 12 columns]",
      "text/html": "<div>\n<style scoped>\n    .dataframe tbody tr th:only-of-type {\n        vertical-align: middle;\n    }\n\n    .dataframe tbody tr th {\n        vertical-align: top;\n    }\n\n    .dataframe thead th {\n        text-align: right;\n    }\n</style>\n<table border=\"1\" class=\"dataframe\">\n  <thead>\n    <tr style=\"text-align: right;\">\n      <th></th>\n      <th>name</th>\n      <th>ase_atoms</th>\n      <th>energy_corrected</th>\n      <th>forces</th>\n      <th>energy_corrected_per_atom</th>\n      <th>grid</th>\n      <th>local_distance_matrix</th>\n      <th>local_atomic_numbers</th>\n      <th>long_range_distance_matrix</th>\n      <th>long_range_atomic_features</th>\n      <th>n_max_local</th>\n      <th>n_max_long_range</th>\n    </tr>\n  </thead>\n  <tbody>\n    <tr>\n      <th>0</th>\n      <td>A1:FHI-aims/PBE/tight:phonon:supercell_phonon_0</td>\n      <td>(Atom('Cu', [4.3368086899420173e-19, 0.0070709...</td>\n      <td>-236.789603</td>\n      <td>[[-1.13852957740976e-06, -0.0464638907314277, ...</td>\n      <td>-3.699838</td>\n      <td>[GridCell(index: (0, 0, 0), atoms: Atom('Cu', ...</td>\n      <td>[]</td>\n      <td>[]</td>\n      <td>[[[2.5576886661519227, -1.300522737268895e-16,...</td>\n      <td>[[[29, 0, 0, 0, 0, 0, 0, 0, 0, 0, 0, 0, 0, 0, ...</td>\n      <td>0</td>\n      <td>63</td>\n    </tr>\n    <tr>\n      <th>1</th>\n      <td>A1:FHI-aims/PBE/tight:qha:phonopy_strain_1_02:...</td>\n      <td>(Atom('Cu', [0.0, 0.007070999999999999, 0.0070...</td>\n      <td>-236.667372</td>\n      <td>[[-1.7950713845026e-06, -0.0426786586259085, -...</td>\n      <td>-3.697928</td>\n      <td>[GridCell(index: (0, 0, 0), atoms: Atom('Cu', ...</td>\n      <td>[]</td>\n      <td>[]</td>\n      <td>[[[2.5743339597810535, 0.0, -0.707106781186547...</td>\n      <td>[[[29, 0, 0, 0, 0, 0, 0, 0, 0, 0, 0, 0, 0, 0, ...</td>\n      <td>0</td>\n      <td>63</td>\n    </tr>\n    <tr>\n      <th>2</th>\n      <td>fcc_100surf_X110_Y-110_Z001_2at_d1.05</td>\n      <td>(Atom('Cu', [1.2699999999999998, 1.26999999999...</td>\n      <td>-7.393033</td>\n      <td>[[1.43567879745929e-07, 1.29341091704393e-08, ...</td>\n      <td>-3.696516</td>\n      <td>[GridCell(index: (12, 12, 0), atoms: Atom('Cu'...</td>\n      <td>[]</td>\n      <td>[]</td>\n      <td>[[[2.5399998414568845, 0.5000000312092766, 0.5...</td>\n      <td>[[[29, 0, 0, 0, 0, 0, 0, 0, 0, 0, 0, 0, 0, 0, ...</td>\n      <td>0</td>\n      <td>1</td>\n    </tr>\n    <tr>\n      <th>3</th>\n      <td>A1:FHI-aims/PBE/tight:tp:trigonal:tp_4_12500</td>\n      <td>(Atom('Cu', [0.0, 0.0, 0.0], index=0), Atom('C...</td>\n      <td>-7.391491</td>\n      <td>[[0.0, 0.0, 0.0], [0.0, 0.0, 0.0]]</td>\n      <td>-3.695746</td>\n      <td>[GridCell(index: (0, 0, 0), atoms: Atom('Cu', ...</td>\n      <td>[]</td>\n      <td>[]</td>\n      <td>[[[6.419884, 0.0, -3.4587011996639086e-17, -1....</td>\n      <td>[[[29, 0, 0, 0, 0, 0, 0, 0, 0, 0, 0, 0, 0, 0, ...</td>\n      <td>0</td>\n      <td>1</td>\n    </tr>\n    <tr>\n      <th>4</th>\n      <td>fcc_110surf_X100_Y01-1_Z011_2at_d1.00</td>\n      <td>(Atom('Cu', [0.0, 0.0, 0.0], index=0), Atom('C...</td>\n      <td>-7.391475</td>\n      <td>[[-9.87788653663608e-08, -6.83294122864741e-08...</td>\n      <td>-3.695738</td>\n      <td>[GridCell(index: (0, 0, 0), atoms: Atom('Cu', ...</td>\n      <td>[]</td>\n      <td>[]</td>\n      <td>[[[2.590799824143888, -0.70710673319015, -0.50...</td>\n      <td>[[[29, 0, 0, 0, 0, 0, 0, 0, 0, 0, 0, 0, 0, 0, ...</td>\n      <td>0</td>\n      <td>1</td>\n    </tr>\n    <tr>\n      <th>...</th>\n      <td>...</td>\n      <td>...</td>\n      <td>...</td>\n      <td>...</td>\n      <td>...</td>\n      <td>...</td>\n      <td>...</td>\n      <td>...</td>\n      <td>...</td>\n      <td>...</td>\n      <td>...</td>\n      <td>...</td>\n    </tr>\n    <tr>\n      <th>833</th>\n      <td>Zr4Al3</td>\n      <td>(Atom('Cu', [1.397, 0.806558, 0.0], index=0), ...</td>\n      <td>-18.922813</td>\n      <td>[[-6.18422096975777e-08, 3.90650715661433e-08,...</td>\n      <td>-2.703259</td>\n      <td>[GridCell(index: (13, 8, 0), atoms: Atom('Cu',...</td>\n      <td>[]</td>\n      <td>[]</td>\n      <td>[[[2.794000018902112, -0.49999999661737443, -0...</td>\n      <td>[[[29, 0, 0, 0, 0, 0, 0, 0, 0, 0, 0, 0, 0, 0, ...</td>\n      <td>0</td>\n      <td>6</td>\n    </tr>\n    <tr>\n      <th>834</th>\n      <td>fcc_100surf_X110_Y-110_Z001_4at_d0.95</td>\n      <td>(Atom('Cu', [0.0, 0.0, 0.0], index=0), Atom('C...</td>\n      <td>-10.811770</td>\n      <td>[[-4.30878346990838e-07, -7.31495829958533e-08...</td>\n      <td>-2.702942</td>\n      <td>[GridCell(index: (0, 0, 0), atoms: Atom('Cu', ...</td>\n      <td>[]</td>\n      <td>[]</td>\n      <td>[[[2.2859999280218712, -0.5000000157432483, -0...</td>\n      <td>[[[29, 0, 0, 0, 0, 0, 0, 0, 0, 0, 0, 0, 0, 0, ...</td>\n      <td>0</td>\n      <td>3</td>\n    </tr>\n    <tr>\n      <th>835</th>\n      <td>ran2.7197</td>\n      <td>(Atom('Cu', [0.0, 0.0, 0.0], index=0), Atom('C...</td>\n      <td>-5.405739</td>\n      <td>[[-0.233777024216308, -0.488775610406501, 0.45...</td>\n      <td>-2.702869</td>\n      <td>[GridCell(index: (8, 0, 0), atoms: Atom('Cu', ...</td>\n      <td>[]</td>\n      <td>[]</td>\n      <td>[[[10.07632976392466, 0.08185043754252488, -0....</td>\n      <td>[[[29, 0, 0, 0, 0, 0, 0, 0, 0, 0, 0, 0, 0, 0, ...</td>\n      <td>0</td>\n      <td>1</td>\n    </tr>\n    <tr>\n      <th>836</th>\n      <td>A15.shakesmallsuper2.14</td>\n      <td>(Atom('Cu', [19.532944999999994, -0.449866, 19...</td>\n      <td>-172.952480</td>\n      <td>[[0.872967501214253, 0.798687481685555, 0.8365...</td>\n      <td>-2.702382</td>\n      <td>[GridCell(index: (195, 0, 192), atoms: Atom('C...</td>\n      <td>[]</td>\n      <td>[]</td>\n      <td>[[[24.063802685741834, 0.7104031820427551, -0....</td>\n      <td>[[[29, 0, 0, 0, 0, 0, 0, 0, 0, 0, 0, 0, 0, 0, ...</td>\n      <td>0</td>\n      <td>63</td>\n    </tr>\n    <tr>\n      <th>837</th>\n      <td>A15.shakesmallsuper2corrected.26</td>\n      <td>(Atom('Cu', [11.302489999999999, 10.996904, 10...</td>\n      <td>-172.848259</td>\n      <td>[[-0.0565593911501715, 0.0441732952826791, 0.0...</td>\n      <td>-2.700754</td>\n      <td>[GridCell(index: (112, 110, 108), atoms: Atom(...</td>\n      <td>[]</td>\n      <td>[]</td>\n      <td>[[[14.317832977907864, 0.5925275852211853, 0.5...</td>\n      <td>[[[29, 0, 0, 0, 0, 0, 0, 0, 0, 0, 0, 0, 0, 0, ...</td>\n      <td>0</td>\n      <td>63</td>\n    </tr>\n  </tbody>\n</table>\n<p>838 rows × 12 columns</p>\n</div>"
     },
     "execution_count": 4,
     "metadata": {},
     "output_type": "execute_result"
    }
   ],
   "source": [
    "create_df(\"./../Datasets/Cu_df2_1k.pkl.gzip\", grid_size=0.1, save_path=\"./../Datasets/Cu_df_preprocessed\")"
   ],
   "metadata": {
    "collapsed": false,
    "ExecuteTime": {
     "end_time": "2023-12-07T16:05:46.514054200Z",
     "start_time": "2023-12-07T16:05:07.516016700Z"
    }
   },
   "id": "1cee15ce215e526d"
  },
  {
   "cell_type": "code",
   "execution_count": 5,
   "outputs": [
    {
     "ename": "ValueError",
     "evalue": "all input arrays must have the same shape",
     "output_type": "error",
     "traceback": [
      "\u001B[1;31m---------------------------------------------------------------------------\u001B[0m",
      "\u001B[1;31mValueError\u001B[0m                                Traceback (most recent call last)",
      "Cell \u001B[1;32mIn[5], line 36\u001B[0m\n\u001B[0;32m     32\u001B[0m     dataset \u001B[38;5;241m=\u001B[39m dataset\u001B[38;5;241m.\u001B[39mbatch(batch_size)\n\u001B[0;32m     34\u001B[0m     \u001B[38;5;28;01mreturn\u001B[39;00m dataset\n\u001B[1;32m---> 36\u001B[0m \u001B[43mcreate_tf_dataset\u001B[49m\u001B[43m(\u001B[49m\u001B[38;5;124;43m\"\u001B[39;49m\u001B[38;5;124;43m./../Datasets/Cu_df_preprocessed_grid_size_0.1.pkl.gzip\u001B[39;49m\u001B[38;5;124;43m\"\u001B[39;49m\u001B[43m,\u001B[49m\u001B[43m \u001B[49m\u001B[43mbatch_size\u001B[49m\u001B[38;5;241;43m=\u001B[39;49m\u001B[38;5;241;43m32\u001B[39;49m\u001B[43m,\u001B[49m\u001B[43m \u001B[49m\u001B[43mshuffle_buffer_size\u001B[49m\u001B[38;5;241;43m=\u001B[39;49m\u001B[38;5;241;43m1000\u001B[39;49m\u001B[43m)\u001B[49m\n",
      "Cell \u001B[1;32mIn[5], line 6\u001B[0m, in \u001B[0;36mcreate_tf_dataset\u001B[1;34m(path, batch_size, shuffle_buffer_size)\u001B[0m\n\u001B[0;32m      4\u001B[0m local_distance_matrices \u001B[38;5;241m=\u001B[39m np\u001B[38;5;241m.\u001B[39mstack(np\u001B[38;5;241m.\u001B[39marray(df[Keys\u001B[38;5;241m.\u001B[39mLOCAL_DISTANCE_MATRIX_KEY]))\n\u001B[0;32m      5\u001B[0m local_atomic_numbers \u001B[38;5;241m=\u001B[39m np\u001B[38;5;241m.\u001B[39mstack(np\u001B[38;5;241m.\u001B[39marray(df[Keys\u001B[38;5;241m.\u001B[39mLOCAL_ATOMIC_NUMBERS_KEY]))\n\u001B[1;32m----> 6\u001B[0m long_range_distance_matrices \u001B[38;5;241m=\u001B[39m \u001B[43mnp\u001B[49m\u001B[38;5;241;43m.\u001B[39;49m\u001B[43mstack\u001B[49m\u001B[43m(\u001B[49m\u001B[43mnp\u001B[49m\u001B[38;5;241;43m.\u001B[39;49m\u001B[43marray\u001B[49m\u001B[43m(\u001B[49m\u001B[43mdf\u001B[49m\u001B[43m[\u001B[49m\u001B[43mKeys\u001B[49m\u001B[38;5;241;43m.\u001B[39;49m\u001B[43mLONG_RANGE_DISTANCE_MATRIX_KEY\u001B[49m\u001B[43m]\u001B[49m\u001B[43m)\u001B[49m\u001B[43m)\u001B[49m\n\u001B[0;32m      7\u001B[0m long_range_atomic_features \u001B[38;5;241m=\u001B[39m np\u001B[38;5;241m.\u001B[39mstack(np\u001B[38;5;241m.\u001B[39marray(df[Keys\u001B[38;5;241m.\u001B[39mLONG_RANGE_ATOMIC_FEATURES_KEY]))\n\u001B[0;32m      8\u001B[0m energies \u001B[38;5;241m=\u001B[39m np\u001B[38;5;241m.\u001B[39mstack(np\u001B[38;5;241m.\u001B[39marray(df[Keys\u001B[38;5;241m.\u001B[39mENERGY_KEY]))\n",
      "File \u001B[1;32mC:\\ProgramData\\Anaconda3\\envs\\ml-potential\\lib\\site-packages\\numpy\\core\\shape_base.py:449\u001B[0m, in \u001B[0;36mstack\u001B[1;34m(arrays, axis, out, dtype, casting)\u001B[0m\n\u001B[0;32m    447\u001B[0m shapes \u001B[38;5;241m=\u001B[39m {arr\u001B[38;5;241m.\u001B[39mshape \u001B[38;5;28;01mfor\u001B[39;00m arr \u001B[38;5;129;01min\u001B[39;00m arrays}\n\u001B[0;32m    448\u001B[0m \u001B[38;5;28;01mif\u001B[39;00m \u001B[38;5;28mlen\u001B[39m(shapes) \u001B[38;5;241m!=\u001B[39m \u001B[38;5;241m1\u001B[39m:\n\u001B[1;32m--> 449\u001B[0m     \u001B[38;5;28;01mraise\u001B[39;00m \u001B[38;5;167;01mValueError\u001B[39;00m(\u001B[38;5;124m'\u001B[39m\u001B[38;5;124mall input arrays must have the same shape\u001B[39m\u001B[38;5;124m'\u001B[39m)\n\u001B[0;32m    451\u001B[0m result_ndim \u001B[38;5;241m=\u001B[39m arrays[\u001B[38;5;241m0\u001B[39m]\u001B[38;5;241m.\u001B[39mndim \u001B[38;5;241m+\u001B[39m \u001B[38;5;241m1\u001B[39m\n\u001B[0;32m    452\u001B[0m axis \u001B[38;5;241m=\u001B[39m normalize_axis_index(axis, result_ndim)\n",
      "\u001B[1;31mValueError\u001B[0m: all input arrays must have the same shape"
     ]
    }
   ],
   "source": [
    "def create_tf_dataset(path, batch_size=32, shuffle_buffer_size=1000):\n",
    "    df = pd.read_pickle(path, compression=\"gzip\")\n",
    "    \n",
    "    local_distance_matrices = np.stack(np.array(df[Keys.LOCAL_DISTANCE_MATRIX_KEY]))\n",
    "    local_atomic_numbers = np.stack(np.array(df[Keys.LOCAL_ATOMIC_NUMBERS_KEY]))\n",
    "    long_range_distance_matrices = np.stack(np.array(df[Keys.LONG_RANGE_DISTANCE_MATRIX_KEY]))\n",
    "    long_range_atomic_features = np.stack(np.array(df[Keys.LONG_RANGE_ATOMIC_FEATURES_KEY]))\n",
    "    energies = np.stack(np.array(df[Keys.ENERGY_KEY]))\n",
    "    forces = np.stack(np.array(df[Keys.FORCE_KEY]))\n",
    "    \n",
    "    print(local_distance_matrices.shape)\n",
    "    print(local_atomic_numbers.shape)\n",
    "    print(long_range_distance_matrices.shape)\n",
    "    print(long_range_atomic_features.shape)\n",
    "    print(energies.shape)\n",
    "    print(forces.shape)\n",
    "    \n",
    "    # create tf dataset\n",
    "    dataset = tf.data.Dataset.from_tensor_slices(\n",
    "        (\n",
    "            local_distance_matrices,\n",
    "            local_atomic_numbers,\n",
    "            long_range_distance_matrices,\n",
    "            long_range_atomic_features,\n",
    "            energies,\n",
    "            forces\n",
    "        )\n",
    "    )\n",
    "    \n",
    "    # shuffle and batch\n",
    "    dataset = dataset.shuffle(buffer_size=shuffle_buffer_size)\n",
    "    dataset = dataset.batch(batch_size)\n",
    "    \n",
    "    return dataset\n",
    "\n",
    "create_tf_dataset(\"./../Datasets/Cu_df_preprocessed_grid_size_0.1.pkl.gzip\", batch_size=32, shuffle_buffer_size=1000)"
   ],
   "metadata": {
    "collapsed": false,
    "ExecuteTime": {
     "end_time": "2023-12-07T16:05:56.845148100Z",
     "start_time": "2023-12-07T16:05:54.576260200Z"
    }
   },
   "id": "55a3cab44cbe3484"
  },
  {
   "cell_type": "code",
   "execution_count": null,
   "outputs": [],
   "source": [],
   "metadata": {
    "collapsed": false,
    "ExecuteTime": {
     "start_time": "2023-11-22T15:04:41.153983200Z"
    }
   },
   "id": "3915a4acaaaf8852"
  },
  {
   "cell_type": "code",
   "execution_count": null,
   "outputs": [],
   "source": [],
   "metadata": {
    "collapsed": false
   },
   "id": "26bcd8365be8b8c5"
  }
 ],
 "metadata": {
  "kernelspec": {
   "display_name": "Python 3",
   "language": "python",
   "name": "python3"
  },
  "language_info": {
   "codemirror_mode": {
    "name": "ipython",
    "version": 2
   },
   "file_extension": ".py",
   "mimetype": "text/x-python",
   "name": "python",
   "nbconvert_exporter": "python",
   "pygments_lexer": "ipython2",
   "version": "2.7.6"
  }
 },
 "nbformat": 4,
 "nbformat_minor": 5
}
