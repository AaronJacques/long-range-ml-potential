{
 "cells": [
  {
   "cell_type": "code",
   "execution_count": 1,
   "id": "initial_id",
   "metadata": {
    "collapsed": true,
    "ExecuteTime": {
     "end_time": "2024-01-11T14:19:19.756745700Z",
     "start_time": "2024-01-11T14:19:14.925298900Z"
    }
   },
   "outputs": [
    {
     "name": "stdout",
     "output_type": "stream",
     "text": [
      "WARNING:tensorflow:From C:\\ProgramData\\Anaconda3\\envs\\ml-potential\\lib\\site-packages\\keras\\src\\losses.py:2976: The name tf.losses.sparse_softmax_cross_entropy is deprecated. Please use tf.compat.v1.losses.sparse_softmax_cross_entropy instead.\n"
     ]
    }
   ],
   "source": [
    "import pandas as pd\n",
    "import numpy as np\n",
    "\n",
    "from Constants import Keys, Dataset\n",
    "from Dataset import (\n",
    "    create_df,\n",
    "    create_tf_dataset,\n",
    ")\n",
    "from Model import get_model"
   ]
  },
  {
   "cell_type": "code",
   "execution_count": 2,
   "outputs": [
    {
     "data": {
      "text/plain": "                                                  name  \\\n0      A1:FHI-aims/PBE/tight:phonon:supercell_phonon_0   \n1    A1:FHI-aims/PBE/tight:qha:phonopy_strain_1_02:...   \n2                fcc_100surf_X110_Y-110_Z001_2at_d1.05   \n3         A1:FHI-aims/PBE/tight:tp:trigonal:tp_4_12500   \n4                fcc_110surf_X100_Y01-1_Z011_2at_d1.00   \n..                                                 ...   \n833                                             Zr4Al3   \n834              fcc_100surf_X110_Y-110_Z001_4at_d0.95   \n835                                          ran2.7197   \n836                            A15.shakesmallsuper2.14   \n837                   A15.shakesmallsuper2corrected.26   \n\n                                             ase_atoms  energy_corrected  \\\n0    (Atom('Cu', [4.3368086899420173e-19, 0.0070709...       -236.789603   \n1    (Atom('Cu', [0.0, 0.007070999999999999, 0.0070...       -236.667372   \n2    (Atom('Cu', [1.2699999999999998, 1.26999999999...         -7.393033   \n3    (Atom('Cu', [0.0, 0.0, 0.0], index=0), Atom('C...         -7.391491   \n4    (Atom('Cu', [0.0, 0.0, 0.0], index=0), Atom('C...         -7.391475   \n..                                                 ...               ...   \n833  (Atom('Cu', [1.397, 0.806558, 0.0], index=0), ...        -18.922813   \n834  (Atom('Cu', [0.0, 0.0, 0.0], index=0), Atom('C...        -10.811770   \n835  (Atom('Cu', [0.0, 0.0, 0.0], index=0), Atom('C...         -5.405739   \n836  (Atom('Cu', [19.532944999999994, -0.449866, 19...       -172.952480   \n837  (Atom('Cu', [11.302489999999999, 10.996904, 10...       -172.848259   \n\n                                                forces  \\\n0    [[-1.13852957740976e-06, -0.0464638907314277, ...   \n1    [[-1.7950713845026e-06, -0.0426786586259085, -...   \n2    [[1.43567879745929e-07, 1.29341091704393e-08, ...   \n3                   [[0.0, 0.0, 0.0], [0.0, 0.0, 0.0]]   \n4    [[-9.87788653663608e-08, -6.83294122864741e-08...   \n..                                                 ...   \n833  [[-6.18422096975777e-08, 3.90650715661433e-08,...   \n834  [[-4.30878346990838e-07, -7.31495829958533e-08...   \n835  [[-0.233777024216308, -0.488775610406501, 0.45...   \n836  [[0.872967501214253, 0.798687481685555, 0.8365...   \n837  [[-0.0565593911501715, 0.0441732952826791, 0.0...   \n\n     energy_corrected_per_atom  \\\n0                    -3.699838   \n1                    -3.697928   \n2                    -3.696516   \n3                    -3.695746   \n4                    -3.695738   \n..                         ...   \n833                  -2.703259   \n834                  -2.702942   \n835                  -2.702869   \n836                  -2.702382   \n837                  -2.700754   \n\n                                                  grid  \\\n0    [GridCell(index: (0, 0, 0), atoms: Atom('Cu', ...   \n1    [GridCell(index: (0, 0, 0), atoms: Atom('Cu', ...   \n2    [GridCell(index: (1, 1, 0), atoms: Atom('Cu', ...   \n3    [GridCell(index: (0, 0, 0), atoms: Atom('Cu', ...   \n4    [GridCell(index: (0, 0, 0), atoms: Atom('Cu', ...   \n..                                                 ...   \n833  [GridCell(index: (1, 0, 0), atoms: Atom('Cu', ...   \n834  [GridCell(index: (0, 0, 0), atoms: Atom('Cu', ...   \n835  [GridCell(index: (0, 0, 0), atoms: Atom('Cu', ...   \n836  [GridCell(index: (19, 0, 19), atoms: Atom('Cu'...   \n837  [GridCell(index: (11, 11, 10), atoms: Atom('Cu...   \n\n                                 local_distance_matrix  \\\n0    [[[2.5576886661519227, -1.300522737268895e-16,...   \n1    [[[2.5743339597810535, 0.0, -0.707106781186547...   \n2    [[[2.5399998414568845, 0.5000000312092766, 0.5...   \n3    [[[0.0, 0.0, 0.0, 0.0], [0.0, 0.0, 0.0, 0.0], ...   \n4    [[[2.590799824143888, -0.70710673319015, -0.50...   \n..                                                 ...   \n833  [[[0.0, 0.0, 0.0, 0.0], [0.0, 0.0, 0.0, 0.0], ...   \n834  [[[2.2859999280218712, -0.5000000157432483, -0...   \n835  [[[0.0, 0.0, 0.0, 0.0], [0.0, 0.0, 0.0, 0.0], ...   \n836  [[[0.0, 0.0, 0.0, 0.0], [0.0, 0.0, 0.0, 0.0], ...   \n837  [[[0.0, 0.0, 0.0, 0.0], [0.0, 0.0, 0.0, 0.0], ...   \n\n                                  local_atomic_numbers  \\\n0    [[[29.0, 29.0], [29.0, 29.0], [29.0, 29.0], [0...   \n1    [[[29.0, 29.0], [29.0, 29.0], [29.0, 29.0], [0...   \n2    [[[29, 29], [0, 0], [0, 0], [0, 0], [0, 0], [0...   \n3    [[[0.0, 0.0], [0.0, 0.0], [0.0, 0.0], [0.0, 0....   \n4    [[[29, 29], [0, 0], [0, 0], [0, 0], [0, 0], [0...   \n..                                                 ...   \n833  [[[0.0, 0.0], [0.0, 0.0], [0.0, 0.0], [0.0, 0....   \n834  [[[29, 29], [0, 0], [0, 0], [0, 0], [0, 0], [0...   \n835  [[[0.0, 0.0], [0.0, 0.0], [0.0, 0.0], [0.0, 0....   \n836  [[[0.0, 0.0], [0.0, 0.0], [0.0, 0.0], [0.0, 0....   \n837  [[[0.0, 0.0], [0.0, 0.0], [0.0, 0.0], [0.0, 0....   \n\n                            long_range_distance_matrix  \\\n0    [[[13.579369421666973, -0.5348199739239784, -0...   \n1    [[[5.158667823661648, 0.0, -0.7071067811865476...   \n2    [[[0.0, 0.0, 0.0, 0.0], [0.0, 0.0, 0.0, 0.0], ...   \n3    [[[6.419884, 0.0, -3.4587011996639086e-17, -1....   \n4    [[[0.0, 0.0, 0.0, 0.0], [0.0, 0.0, 0.0, 0.0], ...   \n..                                                 ...   \n833  [[[2.794000018902112, -0.49999999661737443, -0...   \n834  [[[3.232892, 0.0, 0.0, -1.0], [5.1116511068581...   \n835  [[[10.07632976392466, 0.08185043754252488, -0....   \n836  [[[24.063802685741834, 0.7104031820427551, -0....   \n837  [[[14.317832977907864, 0.5925275852211853, 0.5...   \n\n                            long_range_atomic_features  n_max_local  \\\n0    [[[29, 0, 0, 0, 0, 0, 0, 0, 0, 0, 0, 0, 0, 0, ...            3   \n1    [[[29, 0, 0, 0, 0, 0, 0, 0, 0, 0, 0, 0, 0, 0, ...            3   \n2    [[[0.0, 0.0, 0.0, 0.0, 0.0, 0.0, 0.0, 0.0, 0.0...            1   \n3    [[[29, 0, 0, 0, 0, 0, 0, 0, 0, 0, 0, 0, 0, 0, ...            0   \n4    [[[0.0, 0.0, 0.0, 0.0, 0.0, 0.0, 0.0, 0.0, 0.0...            1   \n..                                                 ...          ...   \n833  [[[29, 0, 0, 0, 0, 0, 0, 0, 0, 0, 0, 0, 0, 0, ...            0   \n834  [[[29, 0, 0, 0, 0, 0, 0, 0, 0, 0, 0, 0, 0, 0, ...            1   \n835  [[[29, 0, 0, 0, 0, 0, 0, 0, 0, 0, 0, 0, 0, 0, ...            0   \n836  [[[29, 0, 0, 0, 0, 0, 0, 0, 0, 0, 0, 0, 0, 0, ...            0   \n837  [[[29, 0, 0, 0, 0, 0, 0, 0, 0, 0, 0, 0, 0, 0, ...            0   \n\n     n_max_long_range  \n0                  63  \n1                  63  \n2                   0  \n3                   1  \n4                   0  \n..                ...  \n833                 6  \n834                 2  \n835                 1  \n836                63  \n837                63  \n\n[838 rows x 12 columns]",
      "text/html": "<div>\n<style scoped>\n    .dataframe tbody tr th:only-of-type {\n        vertical-align: middle;\n    }\n\n    .dataframe tbody tr th {\n        vertical-align: top;\n    }\n\n    .dataframe thead th {\n        text-align: right;\n    }\n</style>\n<table border=\"1\" class=\"dataframe\">\n  <thead>\n    <tr style=\"text-align: right;\">\n      <th></th>\n      <th>name</th>\n      <th>ase_atoms</th>\n      <th>energy_corrected</th>\n      <th>forces</th>\n      <th>energy_corrected_per_atom</th>\n      <th>grid</th>\n      <th>local_distance_matrix</th>\n      <th>local_atomic_numbers</th>\n      <th>long_range_distance_matrix</th>\n      <th>long_range_atomic_features</th>\n      <th>n_max_local</th>\n      <th>n_max_long_range</th>\n    </tr>\n  </thead>\n  <tbody>\n    <tr>\n      <th>0</th>\n      <td>A1:FHI-aims/PBE/tight:phonon:supercell_phonon_0</td>\n      <td>(Atom('Cu', [4.3368086899420173e-19, 0.0070709...</td>\n      <td>-236.789603</td>\n      <td>[[-1.13852957740976e-06, -0.0464638907314277, ...</td>\n      <td>-3.699838</td>\n      <td>[GridCell(index: (0, 0, 0), atoms: Atom('Cu', ...</td>\n      <td>[[[2.5576886661519227, -1.300522737268895e-16,...</td>\n      <td>[[[29.0, 29.0], [29.0, 29.0], [29.0, 29.0], [0...</td>\n      <td>[[[13.579369421666973, -0.5348199739239784, -0...</td>\n      <td>[[[29, 0, 0, 0, 0, 0, 0, 0, 0, 0, 0, 0, 0, 0, ...</td>\n      <td>3</td>\n      <td>63</td>\n    </tr>\n    <tr>\n      <th>1</th>\n      <td>A1:FHI-aims/PBE/tight:qha:phonopy_strain_1_02:...</td>\n      <td>(Atom('Cu', [0.0, 0.007070999999999999, 0.0070...</td>\n      <td>-236.667372</td>\n      <td>[[-1.7950713845026e-06, -0.0426786586259085, -...</td>\n      <td>-3.697928</td>\n      <td>[GridCell(index: (0, 0, 0), atoms: Atom('Cu', ...</td>\n      <td>[[[2.5743339597810535, 0.0, -0.707106781186547...</td>\n      <td>[[[29.0, 29.0], [29.0, 29.0], [29.0, 29.0], [0...</td>\n      <td>[[[5.158667823661648, 0.0, -0.7071067811865476...</td>\n      <td>[[[29, 0, 0, 0, 0, 0, 0, 0, 0, 0, 0, 0, 0, 0, ...</td>\n      <td>3</td>\n      <td>63</td>\n    </tr>\n    <tr>\n      <th>2</th>\n      <td>fcc_100surf_X110_Y-110_Z001_2at_d1.05</td>\n      <td>(Atom('Cu', [1.2699999999999998, 1.26999999999...</td>\n      <td>-7.393033</td>\n      <td>[[1.43567879745929e-07, 1.29341091704393e-08, ...</td>\n      <td>-3.696516</td>\n      <td>[GridCell(index: (1, 1, 0), atoms: Atom('Cu', ...</td>\n      <td>[[[2.5399998414568845, 0.5000000312092766, 0.5...</td>\n      <td>[[[29, 29], [0, 0], [0, 0], [0, 0], [0, 0], [0...</td>\n      <td>[[[0.0, 0.0, 0.0, 0.0], [0.0, 0.0, 0.0, 0.0], ...</td>\n      <td>[[[0.0, 0.0, 0.0, 0.0, 0.0, 0.0, 0.0, 0.0, 0.0...</td>\n      <td>1</td>\n      <td>0</td>\n    </tr>\n    <tr>\n      <th>3</th>\n      <td>A1:FHI-aims/PBE/tight:tp:trigonal:tp_4_12500</td>\n      <td>(Atom('Cu', [0.0, 0.0, 0.0], index=0), Atom('C...</td>\n      <td>-7.391491</td>\n      <td>[[0.0, 0.0, 0.0], [0.0, 0.0, 0.0]]</td>\n      <td>-3.695746</td>\n      <td>[GridCell(index: (0, 0, 0), atoms: Atom('Cu', ...</td>\n      <td>[[[0.0, 0.0, 0.0, 0.0], [0.0, 0.0, 0.0, 0.0], ...</td>\n      <td>[[[0.0, 0.0], [0.0, 0.0], [0.0, 0.0], [0.0, 0....</td>\n      <td>[[[6.419884, 0.0, -3.4587011996639086e-17, -1....</td>\n      <td>[[[29, 0, 0, 0, 0, 0, 0, 0, 0, 0, 0, 0, 0, 0, ...</td>\n      <td>0</td>\n      <td>1</td>\n    </tr>\n    <tr>\n      <th>4</th>\n      <td>fcc_110surf_X100_Y01-1_Z011_2at_d1.00</td>\n      <td>(Atom('Cu', [0.0, 0.0, 0.0], index=0), Atom('C...</td>\n      <td>-7.391475</td>\n      <td>[[-9.87788653663608e-08, -6.83294122864741e-08...</td>\n      <td>-3.695738</td>\n      <td>[GridCell(index: (0, 0, 0), atoms: Atom('Cu', ...</td>\n      <td>[[[2.590799824143888, -0.70710673319015, -0.50...</td>\n      <td>[[[29, 29], [0, 0], [0, 0], [0, 0], [0, 0], [0...</td>\n      <td>[[[0.0, 0.0, 0.0, 0.0], [0.0, 0.0, 0.0, 0.0], ...</td>\n      <td>[[[0.0, 0.0, 0.0, 0.0, 0.0, 0.0, 0.0, 0.0, 0.0...</td>\n      <td>1</td>\n      <td>0</td>\n    </tr>\n    <tr>\n      <th>...</th>\n      <td>...</td>\n      <td>...</td>\n      <td>...</td>\n      <td>...</td>\n      <td>...</td>\n      <td>...</td>\n      <td>...</td>\n      <td>...</td>\n      <td>...</td>\n      <td>...</td>\n      <td>...</td>\n      <td>...</td>\n    </tr>\n    <tr>\n      <th>833</th>\n      <td>Zr4Al3</td>\n      <td>(Atom('Cu', [1.397, 0.806558, 0.0], index=0), ...</td>\n      <td>-18.922813</td>\n      <td>[[-6.18422096975777e-08, 3.90650715661433e-08,...</td>\n      <td>-2.703259</td>\n      <td>[GridCell(index: (1, 0, 0), atoms: Atom('Cu', ...</td>\n      <td>[[[0.0, 0.0, 0.0, 0.0], [0.0, 0.0, 0.0, 0.0], ...</td>\n      <td>[[[0.0, 0.0], [0.0, 0.0], [0.0, 0.0], [0.0, 0....</td>\n      <td>[[[2.794000018902112, -0.49999999661737443, -0...</td>\n      <td>[[[29, 0, 0, 0, 0, 0, 0, 0, 0, 0, 0, 0, 0, 0, ...</td>\n      <td>0</td>\n      <td>6</td>\n    </tr>\n    <tr>\n      <th>834</th>\n      <td>fcc_100surf_X110_Y-110_Z001_4at_d0.95</td>\n      <td>(Atom('Cu', [0.0, 0.0, 0.0], index=0), Atom('C...</td>\n      <td>-10.811770</td>\n      <td>[[-4.30878346990838e-07, -7.31495829958533e-08...</td>\n      <td>-2.702942</td>\n      <td>[GridCell(index: (0, 0, 0), atoms: Atom('Cu', ...</td>\n      <td>[[[2.2859999280218712, -0.5000000157432483, -0...</td>\n      <td>[[[29, 29], [0, 0], [0, 0], [0, 0], [0, 0], [0...</td>\n      <td>[[[3.232892, 0.0, 0.0, -1.0], [5.1116511068581...</td>\n      <td>[[[29, 0, 0, 0, 0, 0, 0, 0, 0, 0, 0, 0, 0, 0, ...</td>\n      <td>1</td>\n      <td>2</td>\n    </tr>\n    <tr>\n      <th>835</th>\n      <td>ran2.7197</td>\n      <td>(Atom('Cu', [0.0, 0.0, 0.0], index=0), Atom('C...</td>\n      <td>-5.405739</td>\n      <td>[[-0.233777024216308, -0.488775610406501, 0.45...</td>\n      <td>-2.702869</td>\n      <td>[GridCell(index: (0, 0, 0), atoms: Atom('Cu', ...</td>\n      <td>[[[0.0, 0.0, 0.0, 0.0], [0.0, 0.0, 0.0, 0.0], ...</td>\n      <td>[[[0.0, 0.0], [0.0, 0.0], [0.0, 0.0], [0.0, 0....</td>\n      <td>[[[10.07632976392466, 0.08185043754252488, -0....</td>\n      <td>[[[29, 0, 0, 0, 0, 0, 0, 0, 0, 0, 0, 0, 0, 0, ...</td>\n      <td>0</td>\n      <td>1</td>\n    </tr>\n    <tr>\n      <th>836</th>\n      <td>A15.shakesmallsuper2.14</td>\n      <td>(Atom('Cu', [19.532944999999994, -0.449866, 19...</td>\n      <td>-172.952480</td>\n      <td>[[0.872967501214253, 0.798687481685555, 0.8365...</td>\n      <td>-2.702382</td>\n      <td>[GridCell(index: (19, 0, 19), atoms: Atom('Cu'...</td>\n      <td>[[[0.0, 0.0, 0.0, 0.0], [0.0, 0.0, 0.0, 0.0], ...</td>\n      <td>[[[0.0, 0.0], [0.0, 0.0], [0.0, 0.0], [0.0, 0....</td>\n      <td>[[[24.063802685741834, 0.7104031820427551, -0....</td>\n      <td>[[[29, 0, 0, 0, 0, 0, 0, 0, 0, 0, 0, 0, 0, 0, ...</td>\n      <td>0</td>\n      <td>63</td>\n    </tr>\n    <tr>\n      <th>837</th>\n      <td>A15.shakesmallsuper2corrected.26</td>\n      <td>(Atom('Cu', [11.302489999999999, 10.996904, 10...</td>\n      <td>-172.848259</td>\n      <td>[[-0.0565593911501715, 0.0441732952826791, 0.0...</td>\n      <td>-2.700754</td>\n      <td>[GridCell(index: (11, 11, 10), atoms: Atom('Cu...</td>\n      <td>[[[0.0, 0.0, 0.0, 0.0], [0.0, 0.0, 0.0, 0.0], ...</td>\n      <td>[[[0.0, 0.0], [0.0, 0.0], [0.0, 0.0], [0.0, 0....</td>\n      <td>[[[14.317832977907864, 0.5925275852211853, 0.5...</td>\n      <td>[[[29, 0, 0, 0, 0, 0, 0, 0, 0, 0, 0, 0, 0, 0, ...</td>\n      <td>0</td>\n      <td>63</td>\n    </tr>\n  </tbody>\n</table>\n<p>838 rows × 12 columns</p>\n</div>"
     },
     "execution_count": 2,
     "metadata": {},
     "output_type": "execute_result"
    }
   ],
   "source": [
    "create_df(\"./../Datasets/Cu_df2_1k.pkl.gzip\", grid_size=1, save_path=\"./../Datasets/Cu_df_preprocessed\")"
   ],
   "metadata": {
    "collapsed": false,
    "ExecuteTime": {
     "end_time": "2024-01-09T10:38:37.621273800Z",
     "start_time": "2024-01-09T10:37:57.973919800Z"
    }
   },
   "id": "1cee15ce215e526d"
  },
  {
   "cell_type": "code",
   "execution_count": 2,
   "outputs": [],
   "source": [
    "path = \"./../Datasets/Cu_df_preprocessed_grid_size_1.pkl.gzip\"\n",
    "df = pd.read_pickle(path, compression=\"gzip\")\n",
    "local_matrix = np.array(df[Keys.LOCAL_DISTANCE_MATRIX_KEY])\n",
    "local_atomic_numbers = np.array(df[Keys.LOCAL_ATOMIC_NUMBERS_KEY])\n",
    "long_range_matrix = np.array(df[Keys.LONG_RANGE_DISTANCE_MATRIX_KEY])\n",
    "long_range_atomic_features = np.array(df[Keys.LONG_RANGE_ATOMIC_FEATURES_KEY])\n",
    "energies = np.array(df[Keys.ENERGY_KEY])\n",
    "forces = np.array(df[Keys.FORCE_KEY])"
   ],
   "metadata": {
    "collapsed": false,
    "ExecuteTime": {
     "end_time": "2024-01-11T13:46:50.967483600Z",
     "start_time": "2024-01-11T13:46:49.069813900Z"
    }
   },
   "id": "139357ab74574cd1"
  },
  {
   "cell_type": "code",
   "execution_count": 3,
   "outputs": [
    {
     "name": "stdout",
     "output_type": "stream",
     "text": [
      "local_matrix: (64, 8, 4)\n",
      "local_atomic_numbers: (64, 8, 2)\n",
      "long_range_matrix: (64, 124, 4)\n",
      "long_range_atomic_features: (64, 124, 101)\n",
      "forces: (64, 3)\n",
      "True\n",
      "local_matrix: (64, 8, 4)\n",
      "local_atomic_numbers: (64, 8, 2)\n",
      "long_range_matrix: (64, 124, 4)\n",
      "long_range_atomic_features: (64, 124, 101)\n",
      "forces: (64, 3)\n",
      "True\n",
      "local_matrix: (2, 8, 4)\n",
      "local_atomic_numbers: (2, 8, 2)\n",
      "long_range_matrix: (2, 124, 4)\n",
      "long_range_atomic_features: (2, 124, 101)\n",
      "forces: (2, 3)\n",
      "True\n",
      "local_matrix: (2, 8, 4)\n",
      "local_atomic_numbers: (2, 8, 2)\n",
      "long_range_matrix: (2, 124, 4)\n",
      "long_range_atomic_features: (2, 124, 101)\n",
      "forces: (2, 3)\n",
      "True\n",
      "local_matrix: (2, 8, 4)\n",
      "local_atomic_numbers: (2, 8, 2)\n",
      "long_range_matrix: (2, 124, 4)\n",
      "long_range_atomic_features: (2, 124, 101)\n",
      "forces: (2, 3)\n",
      "True\n",
      "local_matrix: (2, 8, 4)\n",
      "local_atomic_numbers: (2, 8, 2)\n",
      "long_range_matrix: (2, 124, 4)\n",
      "long_range_atomic_features: (2, 124, 101)\n",
      "forces: (2, 3)\n",
      "True\n",
      "local_matrix: (6, 8, 4)\n",
      "local_atomic_numbers: (6, 8, 2)\n",
      "long_range_matrix: (6, 124, 4)\n",
      "long_range_atomic_features: (6, 124, 101)\n",
      "forces: (6, 3)\n",
      "True\n",
      "local_matrix: (6, 8, 4)\n",
      "local_atomic_numbers: (6, 8, 2)\n",
      "long_range_matrix: (6, 124, 4)\n",
      "long_range_atomic_features: (6, 124, 101)\n",
      "forces: (6, 3)\n",
      "True\n",
      "local_matrix: (4, 8, 4)\n",
      "local_atomic_numbers: (4, 8, 2)\n",
      "long_range_matrix: (4, 124, 4)\n",
      "long_range_atomic_features: (4, 124, 101)\n",
      "forces: (4, 3)\n",
      "True\n",
      "local_matrix: (2, 8, 4)\n",
      "local_atomic_numbers: (2, 8, 2)\n",
      "long_range_matrix: (2, 124, 4)\n",
      "long_range_atomic_features: (2, 124, 101)\n",
      "forces: (2, 3)\n",
      "True\n"
     ]
    }
   ],
   "source": [
    "for i in range(10):\n",
    "    print(f\"local_matrix: {local_matrix[i].shape}\")\n",
    "    print(f\"local_atomic_numbers: {local_atomic_numbers[i].shape}\")\n",
    "    print(f\"long_range_matrix: {long_range_matrix[i].shape}\")\n",
    "    print(f\"long_range_atomic_features: {long_range_atomic_features[i].shape}\")\n",
    "    # print(f\"energies: {energies[i].shape}\")\n",
    "    print(f\"forces: {forces[i].shape}\")\n",
    "    print(local_matrix[i].shape[0] == local_atomic_numbers[i].shape[0] == long_range_matrix[i].shape[0] == long_range_atomic_features[i].shape[0] == forces[i].shape[0])"
   ],
   "metadata": {
    "collapsed": false,
    "ExecuteTime": {
     "end_time": "2024-01-11T13:47:01.666325Z",
     "start_time": "2024-01-11T13:47:01.658689700Z"
    }
   },
   "id": "b6ee600d2e228872"
  },
  {
   "cell_type": "code",
   "execution_count": 4,
   "outputs": [
    {
     "name": "stdout",
     "output_type": "stream",
     "text": [
      "--------------------------------------------------\n",
      "Dataset shapes:\n",
      "(11147, 8, 4)\n",
      "(11147, 8, 2)\n",
      "(11147, 124, 4)\n",
      "(11147, 124, 101)\n",
      "(11147, 3)\n",
      "--------------------------------------------------\n"
     ]
    }
   ],
   "source": [
    "ds = create_tf_dataset(path)"
   ],
   "metadata": {
    "collapsed": false,
    "ExecuteTime": {
     "end_time": "2024-01-11T13:47:03.994786Z",
     "start_time": "2024-01-11T13:47:01.666325Z"
    }
   },
   "id": "55a3cab44cbe3484"
  },
  {
   "cell_type": "code",
   "execution_count": 1,
   "outputs": [
    {
     "name": "stdout",
     "output_type": "stream",
     "text": [
      "WARNING:tensorflow:From C:\\ProgramData\\Anaconda3\\envs\\ml-potential\\lib\\site-packages\\keras\\src\\losses.py:2976: The name tf.losses.sparse_softmax_cross_entropy is deprecated. Please use tf.compat.v1.losses.sparse_softmax_cross_entropy instead.\n",
      "WARNING:tensorflow:From C:\\ProgramData\\Anaconda3\\envs\\ml-potential\\lib\\site-packages\\keras\\src\\backend.py:1398: The name tf.executing_eagerly_outside_functions is deprecated. Please use tf.compat.v1.executing_eagerly_outside_functions instead.\n"
     ]
    }
   ],
   "source": [
    "from neural_network import get_model\n",
    "model = get_model()"
   ],
   "metadata": {
    "collapsed": false,
    "ExecuteTime": {
     "end_time": "2024-01-11T14:44:57.519824500Z",
     "start_time": "2024-01-11T14:44:52.701082500Z"
    }
   },
   "id": "3915a4acaaaf8852"
  },
  {
   "cell_type": "code",
   "execution_count": null,
   "outputs": [],
   "source": [],
   "metadata": {
    "collapsed": false
   },
   "id": "26bcd8365be8b8c5"
  }
 ],
 "metadata": {
  "kernelspec": {
   "display_name": "Python 3",
   "language": "python",
   "name": "python3"
  },
  "language_info": {
   "codemirror_mode": {
    "name": "ipython",
    "version": 2
   },
   "file_extension": ".py",
   "mimetype": "text/x-python",
   "name": "python",
   "nbconvert_exporter": "python",
   "pygments_lexer": "ipython2",
   "version": "2.7.6"
  }
 },
 "nbformat": 4,
 "nbformat_minor": 5
}
