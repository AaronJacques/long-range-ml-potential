{
 "cells": [
  {
   "cell_type": "code",
   "execution_count": 1,
   "id": "initial_id",
   "metadata": {
    "collapsed": true,
    "ExecuteTime": {
     "end_time": "2023-11-20T10:22:06.551905300Z",
     "start_time": "2023-11-20T10:22:06.175242300Z"
    }
   },
   "outputs": [],
   "source": [
    "import pandas as pd\n",
    "import numpy as np\n",
    "from tqdm import tqdm\n",
    "import ase\n",
    "from ase import Atoms, Atom\n",
    "from prepare_data import create_grid, deserialize_df, create_distance_matrices, create_expanded_distance_matrix"
   ]
  },
  {
   "cell_type": "code",
   "execution_count": 2,
   "outputs": [
    {
     "data": {
      "text/plain": "array([[ 0.      ,  0.      ,  0.      ],\n       [ 1.613117,  1.613117,  1.613117],\n       [ 0.      ,  0.      ,  3.226233],\n       [ 1.613117,  1.613117,  4.83935 ],\n       [ 0.      ,  0.      ,  6.452467],\n       [ 1.613117,  1.613117,  8.065583],\n       [ 0.      ,  0.      ,  9.6787  ],\n       [ 1.613117,  1.613117, 11.291817]])"
     },
     "execution_count": 2,
     "metadata": {},
     "output_type": "execute_result"
    }
   ],
   "source": [
    "df0 = pd.read_pickle(\"./../Datasets/Cu_df2_1k.pkl.gzip\", compression=\"gzip\")\n",
    "atoms = df0[\"ase_atoms\"]\n",
    "a = Atoms(atoms[800])\n",
    "a.positions"
   ],
   "metadata": {
    "collapsed": false,
    "ExecuteTime": {
     "end_time": "2023-11-20T10:22:06.850212100Z",
     "start_time": "2023-11-20T10:22:06.551905300Z"
    }
   },
   "id": "a940847b777c08c4"
  },
  {
   "cell_type": "code",
   "execution_count": 3,
   "outputs": [
    {
     "name": "stderr",
     "output_type": "stream",
     "text": [
      "Creating grid: 100%|██████████| 8/8 [00:00<?, ?it/s]\n",
      "Adding neighbours: 100%|██████████| 8/8 [00:00<?, ?it/s]\n"
     ]
    },
    {
     "data": {
      "text/plain": "[GridPoint(index: (0, 0, 0), atoms: Atom('Cu', [0.0, 0.0, 0.0], index=0)),\n GridPoint(index: (1, 1, 1), atoms: Atom('Cu', [1.613117, 1.613117, 1.613117], index=1)),\n GridPoint(index: (0, 0, 3), atoms: Atom('Cu', [0.0, 0.0, 3.2262330000000006], index=2)),\n GridPoint(index: (1, 1, 4), atoms: Atom('Cu', [1.613117, 1.613117, 4.8393500000000005], index=3)),\n GridPoint(index: (0, 0, 6), atoms: Atom('Cu', [0.0, 0.0, 6.452467], index=4)),\n GridPoint(index: (1, 1, 8), atoms: Atom('Cu', [1.613117, 1.613117, 8.065583], index=5)),\n GridPoint(index: (0, 0, 9), atoms: Atom('Cu', [0.0, 0.0, 9.678700000000001], index=6)),\n GridPoint(index: (1, 1, 11), atoms: Atom('Cu', [1.613117, 1.613117, 11.291817], index=7))]"
     },
     "execution_count": 3,
     "metadata": {},
     "output_type": "execute_result"
    }
   ],
   "source": [
    "df0 = deserialize_df(df0)\n",
    "grid = create_grid(df0[\"ase_atoms\"][800], 1)\n",
    "grid"
   ],
   "metadata": {
    "collapsed": false,
    "ExecuteTime": {
     "end_time": "2023-11-20T10:22:08.421250100Z",
     "start_time": "2023-11-20T10:22:08.358730700Z"
    }
   },
   "id": "b448b3e8c8c4cc83"
  },
  {
   "cell_type": "code",
   "execution_count": 4,
   "outputs": [
    {
     "name": "stderr",
     "output_type": "stream",
     "text": [
      "Creating distance matrix: 100%|██████████| 8/8 [00:00<00:00, 970.34it/s]\n",
      "Creating expanded distance matrix: 100%|██████████| 8/8 [01:22<00:00, 10.27s/it]\n"
     ]
    },
    {
     "data": {
      "text/plain": "[array([[ 2.7940006 , -0.57735027, -0.57735027, -0.57735027],\n        [ 3.226233  ,  0.        ,  0.        , -1.        ],\n        [ 5.35010293, -0.3015114 , -0.3015114 , -0.904534  ],\n        [ 6.452467  ,  0.        ,  0.        , -1.        ],\n        [ 8.38199988, -0.19245013, -0.19245013, -0.96225043],\n        [ 9.6787    ,  0.        ,  0.        , -1.        ],\n        [11.51995764, -0.14002803, -0.14002803, -0.98019605]]),\n array([[ 2.7940006 ,  0.57735027,  0.57735027,  0.57735027],\n        [ 2.79400003,  0.57735039,  0.57735039, -0.57735003],\n        [ 3.226233  ,  0.        ,  0.        , -1.        ],\n        [ 5.35010293,  0.3015114 ,  0.3015114 , -0.904534  ],\n        [ 6.452466  ,  0.        ,  0.        , -1.        ],\n        [ 8.38199988,  0.19245013,  0.19245013, -0.96225043],\n        [ 9.6787    ,  0.        ,  0.        , -1.        ]]),\n array([[ 3.226233  ,  0.        ,  0.        ,  1.        ],\n        [ 3.226234  ,  0.        ,  0.        , -1.        ],\n        [ 2.79400003, -0.57735039, -0.57735039,  0.57735003],\n        [ 2.7940006 , -0.57735027, -0.57735027, -0.57735027],\n        [ 5.35010293, -0.3015114 , -0.3015114 , -0.904534  ],\n        [ 6.452467  ,  0.        ,  0.        , -1.        ],\n        [ 8.38200085, -0.19245011, -0.19245011, -0.96225044]]),\n array([[ 5.35010293,  0.3015114 ,  0.3015114 ,  0.904534  ],\n        [ 3.226233  ,  0.        ,  0.        , -1.        ],\n        [ 3.226233  ,  0.        ,  0.        ,  1.        ],\n        [ 2.7940006 ,  0.57735027,  0.57735027,  0.57735027],\n        [ 2.7940006 ,  0.57735027,  0.57735027, -0.57735027],\n        [ 5.35010293,  0.3015114 ,  0.3015114 , -0.904534  ],\n        [ 6.452467  ,  0.        ,  0.        , -1.        ]]),\n array([[ 6.452467  ,  0.        ,  0.        ,  1.        ],\n        [ 5.35010293, -0.3015114 , -0.3015114 ,  0.904534  ],\n        [ 5.35010293, -0.3015114 , -0.3015114 , -0.904534  ],\n        [ 3.226234  ,  0.        ,  0.        ,  1.        ],\n        [ 3.226233  ,  0.        ,  0.        , -1.        ],\n        [ 2.7940006 , -0.57735027, -0.57735027,  0.57735027],\n        [ 2.79400003, -0.57735039, -0.57735039, -0.57735003]]),\n array([[ 8.38199988,  0.19245013,  0.19245013,  0.96225043],\n        [ 6.452466  ,  0.        ,  0.        ,  1.        ],\n        [ 5.35010293,  0.3015114 ,  0.3015114 ,  0.904534  ],\n        [ 3.226233  ,  0.        ,  0.        ,  1.        ],\n        [ 2.79400003,  0.57735039,  0.57735039,  0.57735003],\n        [ 2.7940006 ,  0.57735027,  0.57735027, -0.57735027],\n        [ 3.226234  ,  0.        ,  0.        , -1.        ]]),\n array([[ 9.6787    ,  0.        ,  0.        ,  1.        ],\n        [ 8.38199988, -0.19245013, -0.19245013,  0.96225043],\n        [ 6.452467  ,  0.        ,  0.        ,  1.        ],\n        [ 5.35010293, -0.3015114 , -0.3015114 ,  0.904534  ],\n        [ 3.226233  ,  0.        ,  0.        ,  1.        ],\n        [ 2.7940006 , -0.57735027, -0.57735027,  0.57735027],\n        [ 2.7940006 , -0.57735027, -0.57735027, -0.57735027]]),\n array([[11.51995764,  0.14002803,  0.14002803,  0.98019605],\n        [ 9.6787    ,  0.        ,  0.        ,  1.        ],\n        [ 8.38200085,  0.19245011,  0.19245011,  0.96225044],\n        [ 6.452467  ,  0.        ,  0.        ,  1.        ],\n        [ 5.35010293,  0.3015114 ,  0.3015114 ,  0.904534  ],\n        [ 3.226234  ,  0.        ,  0.        ,  1.        ],\n        [ 2.7940006 ,  0.57735027,  0.57735027,  0.57735027]])]"
     },
     "execution_count": 4,
     "metadata": {},
     "output_type": "execute_result"
    }
   ],
   "source": [
    "distance_matrix, atom_numbers = create_distance_matrices(grid)\n",
    "create_expanded_distance_matrix(distance_matrix)"
   ],
   "metadata": {
    "collapsed": false,
    "ExecuteTime": {
     "end_time": "2023-11-20T10:24:41.691182600Z",
     "start_time": "2023-11-20T10:22:14.892914300Z"
    }
   },
   "id": "8bcaad1ed6b19267"
  }
 ],
 "metadata": {
  "kernelspec": {
   "display_name": "Python 3",
   "language": "python",
   "name": "python3"
  },
  "language_info": {
   "codemirror_mode": {
    "name": "ipython",
    "version": 2
   },
   "file_extension": ".py",
   "mimetype": "text/x-python",
   "name": "python",
   "nbconvert_exporter": "python",
   "pygments_lexer": "ipython2",
   "version": "2.7.6"
  }
 },
 "nbformat": 4,
 "nbformat_minor": 5
}
