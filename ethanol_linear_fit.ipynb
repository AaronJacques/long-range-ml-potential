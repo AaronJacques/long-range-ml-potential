{
 "cells": [
  {
   "cell_type": "code",
   "execution_count": 1,
   "id": "initial_id",
   "metadata": {
    "collapsed": true,
    "ExecuteTime": {
     "end_time": "2023-11-07T10:07:13.754299900Z",
     "start_time": "2023-11-07T10:07:12.682107400Z"
    }
   },
   "outputs": [],
   "source": [
    "import pandas as pd\n",
    "import numpy as np\n",
    "import matplotlib.pyplot as plt\n",
    "\n",
    "from pyace import *\n",
    "from pyace.linearacefit import LinearACEFit, LinearACEDataset"
   ]
  },
  {
   "cell_type": "code",
   "execution_count": 2,
   "outputs": [
    {
     "name": "stdout",
     "output_type": "stream",
     "text": [
      "[PhysicalDevice(name='/physical_device:CPU:0', device_type='CPU'), PhysicalDevice(name='/physical_device:GPU:0', device_type='GPU')]\n"
     ]
    }
   ],
   "source": [
    "import tensorflow as tf   # TensorFlow registers PluggableDevices here.\n",
    "print(tf.config.list_physical_devices()) # GPU device is visible to TensorFlow."
   ],
   "metadata": {
    "collapsed": false,
    "ExecuteTime": {
     "end_time": "2023-11-07T10:07:16.186699300Z",
     "start_time": "2023-11-07T10:07:13.754299900Z"
    }
   },
   "id": "26e1afd5aff3897c"
  },
  {
   "cell_type": "code",
   "execution_count": 3,
   "outputs": [],
   "source": [
    "df0 = pd.read_pickle(\"./Datasets/ethanol.pckl.gzip\", compression=\"gzip\")"
   ],
   "metadata": {
    "collapsed": false,
    "ExecuteTime": {
     "end_time": "2023-11-07T10:07:16.425323300Z",
     "start_time": "2023-11-07T10:07:16.186699300Z"
    }
   },
   "id": "731f99a977c16991"
  },
  {
   "cell_type": "code",
   "execution_count": 4,
   "outputs": [
    {
     "data": {
      "text/plain": "(1000, 5)"
     },
     "execution_count": 4,
     "metadata": {},
     "output_type": "execute_result"
    }
   ],
   "source": [
    "df0.shape"
   ],
   "metadata": {
    "collapsed": false,
    "ExecuteTime": {
     "end_time": "2023-11-07T10:07:16.440942400Z",
     "start_time": "2023-11-07T10:07:16.425323300Z"
    }
   },
   "id": "a897ee625e984069"
  },
  {
   "cell_type": "code",
   "execution_count": 5,
   "outputs": [
    {
     "data": {
      "text/plain": "                                             ase_atoms       energy  \\\n0    (Atom('C', [-0.44129481, 0.21679602, 0.3068532... -4209.543834   \n1    (Atom('C', [0.41925059, -0.39155484, -0.173166... -4209.555040   \n2    (Atom('C', [0.36954819, -0.26426992, -0.127073... -4209.416772   \n3    (Atom('C', [-0.18327929, 0.12954131, -0.512697... -4209.520120   \n4    (Atom('C', [0.02811988, 0.40247618, 0.40818284... -4209.717043   \n..                                                 ...          ...   \n995  (Atom('C', [-0.32652388, -0.51658872, -0.03294... -4209.436457   \n996  (Atom('C', [-0.33627583, -0.50508262, -0.15660... -4209.498890   \n997  (Atom('C', [0.07746533, -0.35826784, 0.4507782... -4209.627098   \n998  (Atom('C', [0.18038169, -0.30347999, -0.353913... -4209.406960   \n999  (Atom('C', [0.30510098, 0.4347642, -0.42044504... -4209.655084   \n\n                                                forces  energy_corrected  \\\n0    [[1.3248442563472804, -3.6851458462042075, -0....        -44.536766   \n1    [[0.3467547761294032, 1.8307119873204736, -1.5...        -44.547972   \n2    [[0.9743223219987526, 0.806011425187941, 3.176...        -44.409705   \n3    [[-1.2485091797325352, -0.1873606509338272, 1....        -44.513053   \n4    [[1.151288102970219, -0.002741513772029247, -1...        -44.709975   \n..                                                 ...               ...   \n995  [[2.7201568578213875, 3.66578381198858, 2.4756...        -44.429389   \n996  [[-0.9712440517099267, 3.475118895210679, -0.2...        -44.491822   \n997  [[0.12325057119995139, 0.8819713337546561, -0....        -44.620031   \n998  [[-0.07392296614804496, 1.7788623335772662, 1....        -44.399892   \n999  [[0.6465833106722243, -1.4897205863499672, 2.2...        -44.648017   \n\n     energy_corrected_per_atom  \n0                    -4.948530  \n1                    -4.949775  \n2                    -4.934412  \n3                    -4.945895  \n4                    -4.967775  \n..                         ...  \n995                  -4.936599  \n996                  -4.943536  \n997                  -4.957781  \n998                  -4.933321  \n999                  -4.960891  \n\n[1000 rows x 5 columns]",
      "text/html": "<div>\n<style scoped>\n    .dataframe tbody tr th:only-of-type {\n        vertical-align: middle;\n    }\n\n    .dataframe tbody tr th {\n        vertical-align: top;\n    }\n\n    .dataframe thead th {\n        text-align: right;\n    }\n</style>\n<table border=\"1\" class=\"dataframe\">\n  <thead>\n    <tr style=\"text-align: right;\">\n      <th></th>\n      <th>ase_atoms</th>\n      <th>energy</th>\n      <th>forces</th>\n      <th>energy_corrected</th>\n      <th>energy_corrected_per_atom</th>\n    </tr>\n  </thead>\n  <tbody>\n    <tr>\n      <th>0</th>\n      <td>(Atom('C', [-0.44129481, 0.21679602, 0.3068532...</td>\n      <td>-4209.543834</td>\n      <td>[[1.3248442563472804, -3.6851458462042075, -0....</td>\n      <td>-44.536766</td>\n      <td>-4.948530</td>\n    </tr>\n    <tr>\n      <th>1</th>\n      <td>(Atom('C', [0.41925059, -0.39155484, -0.173166...</td>\n      <td>-4209.555040</td>\n      <td>[[0.3467547761294032, 1.8307119873204736, -1.5...</td>\n      <td>-44.547972</td>\n      <td>-4.949775</td>\n    </tr>\n    <tr>\n      <th>2</th>\n      <td>(Atom('C', [0.36954819, -0.26426992, -0.127073...</td>\n      <td>-4209.416772</td>\n      <td>[[0.9743223219987526, 0.806011425187941, 3.176...</td>\n      <td>-44.409705</td>\n      <td>-4.934412</td>\n    </tr>\n    <tr>\n      <th>3</th>\n      <td>(Atom('C', [-0.18327929, 0.12954131, -0.512697...</td>\n      <td>-4209.520120</td>\n      <td>[[-1.2485091797325352, -0.1873606509338272, 1....</td>\n      <td>-44.513053</td>\n      <td>-4.945895</td>\n    </tr>\n    <tr>\n      <th>4</th>\n      <td>(Atom('C', [0.02811988, 0.40247618, 0.40818284...</td>\n      <td>-4209.717043</td>\n      <td>[[1.151288102970219, -0.002741513772029247, -1...</td>\n      <td>-44.709975</td>\n      <td>-4.967775</td>\n    </tr>\n    <tr>\n      <th>...</th>\n      <td>...</td>\n      <td>...</td>\n      <td>...</td>\n      <td>...</td>\n      <td>...</td>\n    </tr>\n    <tr>\n      <th>995</th>\n      <td>(Atom('C', [-0.32652388, -0.51658872, -0.03294...</td>\n      <td>-4209.436457</td>\n      <td>[[2.7201568578213875, 3.66578381198858, 2.4756...</td>\n      <td>-44.429389</td>\n      <td>-4.936599</td>\n    </tr>\n    <tr>\n      <th>996</th>\n      <td>(Atom('C', [-0.33627583, -0.50508262, -0.15660...</td>\n      <td>-4209.498890</td>\n      <td>[[-0.9712440517099267, 3.475118895210679, -0.2...</td>\n      <td>-44.491822</td>\n      <td>-4.943536</td>\n    </tr>\n    <tr>\n      <th>997</th>\n      <td>(Atom('C', [0.07746533, -0.35826784, 0.4507782...</td>\n      <td>-4209.627098</td>\n      <td>[[0.12325057119995139, 0.8819713337546561, -0....</td>\n      <td>-44.620031</td>\n      <td>-4.957781</td>\n    </tr>\n    <tr>\n      <th>998</th>\n      <td>(Atom('C', [0.18038169, -0.30347999, -0.353913...</td>\n      <td>-4209.406960</td>\n      <td>[[-0.07392296614804496, 1.7788623335772662, 1....</td>\n      <td>-44.399892</td>\n      <td>-4.933321</td>\n    </tr>\n    <tr>\n      <th>999</th>\n      <td>(Atom('C', [0.30510098, 0.4347642, -0.42044504...</td>\n      <td>-4209.655084</td>\n      <td>[[0.6465833106722243, -1.4897205863499672, 2.2...</td>\n      <td>-44.648017</td>\n      <td>-4.960891</td>\n    </tr>\n  </tbody>\n</table>\n<p>1000 rows × 5 columns</p>\n</div>"
     },
     "execution_count": 5,
     "metadata": {},
     "output_type": "execute_result"
    }
   ],
   "source": [
    "df0"
   ],
   "metadata": {
    "collapsed": false,
    "ExecuteTime": {
     "end_time": "2023-11-07T10:07:17.422423500Z",
     "start_time": "2023-11-07T10:07:17.376853600Z"
    }
   },
   "id": "4447cd0f44f6fa8c"
  },
  {
   "cell_type": "code",
   "execution_count": 6,
   "outputs": [
    {
     "data": {
      "text/plain": "0      (Atom('C', [-0.44129481, 0.21679602, 0.3068532...\n1      (Atom('C', [0.41925059, -0.39155484, -0.173166...\n2      (Atom('C', [0.36954819, -0.26426992, -0.127073...\n3      (Atom('C', [-0.18327929, 0.12954131, -0.512697...\n4      (Atom('C', [0.02811988, 0.40247618, 0.40818284...\n                             ...                        \n995    (Atom('C', [-0.32652388, -0.51658872, -0.03294...\n996    (Atom('C', [-0.33627583, -0.50508262, -0.15660...\n997    (Atom('C', [0.07746533, -0.35826784, 0.4507782...\n998    (Atom('C', [0.18038169, -0.30347999, -0.353913...\n999    (Atom('C', [0.30510098, 0.4347642, -0.42044504...\nName: ase_atoms, Length: 1000, dtype: object"
     },
     "execution_count": 6,
     "metadata": {},
     "output_type": "execute_result"
    }
   ],
   "source": [
    "df0[\"ase_atoms\"]"
   ],
   "metadata": {
    "collapsed": false,
    "ExecuteTime": {
     "end_time": "2023-11-07T10:07:25.002881800Z",
     "start_time": "2023-11-07T10:07:24.969130900Z"
    }
   },
   "id": "e401e967d559dfd2"
  },
  {
   "cell_type": "code",
   "execution_count": 7,
   "outputs": [
    {
     "data": {
      "text/plain": "9000"
     },
     "execution_count": 7,
     "metadata": {},
     "output_type": "execute_result"
    }
   ],
   "source": [
    "df0[\"ase_atoms\"].map(len).sum()"
   ],
   "metadata": {
    "collapsed": false,
    "ExecuteTime": {
     "end_time": "2023-11-07T10:07:27.473403800Z",
     "start_time": "2023-11-07T10:07:27.453785400Z"
    }
   },
   "id": "ce2948e5171a6ed0"
  },
  {
   "cell_type": "code",
   "execution_count": 8,
   "outputs": [],
   "source": [
    "# split 95% train, 5% test\n",
    "df_train = df0.sample(frac=0.95, random_state=42)\n",
    "df_test = df0.loc[(i for i in df0.index if i not in df_train.index)]"
   ],
   "metadata": {
    "collapsed": false,
    "ExecuteTime": {
     "end_time": "2023-11-07T10:07:29.473815600Z",
     "start_time": "2023-11-07T10:07:29.458170Z"
    }
   },
   "id": "233cdeb25c5f7ed2"
  },
  {
   "cell_type": "code",
   "execution_count": 9,
   "outputs": [
    {
     "data": {
      "text/plain": "(950, 50)"
     },
     "execution_count": 9,
     "metadata": {},
     "output_type": "execute_result"
    }
   ],
   "source": [
    "len(df_train), len(df_test)"
   ],
   "metadata": {
    "collapsed": false,
    "ExecuteTime": {
     "end_time": "2023-11-07T10:07:31.091001400Z",
     "start_time": "2023-11-07T10:07:31.080998800Z"
    }
   },
   "id": "4c9ff303731e656f"
  },
  {
   "cell_type": "code",
   "execution_count": 10,
   "outputs": [],
   "source": [
    "use_basic_functions = True\n",
    "\n",
    "# Create empty bbasis configuration\n",
    "if use_basic_functions:\n",
    "  bconf = create_multispecies_basis_config(potential_config = {\n",
    "  \"deltaSplineBins\": 0.001,\n",
    "  \"elements\": ['C', 'O', 'H'],\n",
    "\n",
    "  \"embeddings\": {\n",
    "    \"ALL\": {\n",
    "      \"npot\": 'FinnisSinclairShiftedScaled',\n",
    "      \"fs_parameters\": [ 1, 1, 1, 0.5], # embedding function: 1*rho_1^1 + 1*rho_2^0.5\n",
    "      \"ndensity\": 2,\n",
    "    },\n",
    "  },\n",
    "\n",
    "  \"bonds\": {\n",
    "    \"ALL\": {\n",
    "      \"radbase\": \"ChebExpCos\",\n",
    "      \"radparameters\": [ 5.25 ],\n",
    "      \"rcut\": 4,\n",
    "      \"dcut\": 0.01,\n",
    "      \"NameOfCutoffFunction\": \"cos\",\n",
    "      # core-repulsion parameters\n",
    "      \"core-repulsion\": [ 0.0, 5.0 ],\n",
    "    }\n",
    "  },\n",
    "\n",
    "  \"functions\": {\n",
    "    \"ALL\": {\n",
    "        \"nradmax_by_orders\": [15, 3, 2, 2, 1],\n",
    "        \"lmax_by_orders\": [ 0, 2, 2, 1, 1],\n",
    "    }\n",
    "  }\n",
    "})\n",
    "else:\n",
    "  bconf = create_multispecies_basis_config(potential_config = {\n",
    "    \"deltaSplineBins\": 0.001,\n",
    "    # list of all elements\n",
    "    \"elements\": ['C', 'O', 'H'],\n",
    "  \n",
    "    # Embeddings are specified for each individual elements,\n",
    "    # all parameters could be distinct for different species\n",
    "    # possible keywords: ALL, UNARY, elements: C, O, H\n",
    "    \"embeddings\": {\n",
    "      \"ALL\": {\n",
    "        \"npot\": 'FinnisSinclairShiftedScaled',\n",
    "        \"fs_parameters\": [ 1, 1], # linear embedding function: 1*rho_1^1\n",
    "        \"ndensity\": 1,\n",
    "        \n",
    "        # core repulsion parameters\n",
    "        \"rho_core_cut\": 3000,\n",
    "        \"drho_core_cut\": 150\n",
    "      },\n",
    "    },\n",
    "  \n",
    "    # Bonds are specified for each possible pairs of elements\n",
    "    # One could use keywords: ALL\n",
    "    # possible keywords: ALL, UNARY, BINARY, elements pairs as CO, CC, HO, etc...\n",
    "    \"bonds\": {\n",
    "      \"ALL\": {\n",
    "        \"radbase\": \"ChebExpCos\",\n",
    "        \"radparameters\": [5.25],\n",
    "  \n",
    "        ## outer cutoff\n",
    "        \"rcut\": 5,\n",
    "        \"dcut\": 0.01,\n",
    "  \n",
    "        ## inner cutoff  [r_in - delta_in, r_in] - transition region from ACE to core-repulsion\n",
    "        # at r < r_in-delta_in - no ACE interaction, only core-repulsion\n",
    "        \"r_in\": 1.0,\n",
    "        \"delta_in\": 0.5,\n",
    "  \n",
    "  \n",
    "        ## core-repulsion parameters `prefactor` and `lambda` in\n",
    "        ## prefactor*exp(-lambda*r^2)/r, > 0 only if r < r_in - delta_in\n",
    "        \"core-repulsion\": [100.0, 5.0],\n",
    "      },\n",
    "      \n",
    "      ## BINARY overwrites ALL settings when they are repeated\n",
    "      \"BINARY\": {\n",
    "        \"radbase\": \"ChebPow\",\n",
    "        \"radparameters\": [6.25],\n",
    "  \n",
    "        ## cutoff may vary for different bonds\n",
    "        \"rcut\": 5.5,\n",
    "        \"dcut\": 0.01,\n",
    "  \n",
    "        ## inner cutoff, applied in a range [r_in - delta_in, r_in]\n",
    "        \"r_in\": 1.0,\n",
    "        \"delta_in\": 0.5,\n",
    "  \n",
    "        ## core-repulsion parameters `prefactor` and `lambda` in\n",
    "        ## prefactor*exp(-lambda*r^2)/r,> 0 only if r < r_in - delta_in\n",
    "        \"core-repulsion\": [10.0, 5.0],\n",
    "      }\n",
    "    },\n",
    "  \n",
    "    ## possible keywords: ALL, UNARY, BINARY, TERNARY, QUATERNARY, QUINARY,\n",
    "    ##  element combinations as (Al,Al), (Al, Ni), (Al, Ni, Zn), etc...\n",
    "    \"functions\": {\n",
    "      # \"number_of_functions_per_element\": 1000,\n",
    "      \"ALL\": {\n",
    "          \"nradmax_by_orders\": [ 8, 8, 4, 3,2],\n",
    "          \"lmax_by_orders\"   : [ 0, 4, 3, 2,1] \n",
    "      }\n",
    "    }\n",
    "  })"
   ],
   "metadata": {
    "collapsed": false,
    "ExecuteTime": {
     "end_time": "2023-11-07T10:07:37.976803700Z",
     "start_time": "2023-11-07T10:07:37.597004400Z"
    }
   },
   "id": "35dfb544b9ca0b06"
  },
  {
   "cell_type": "markdown",
   "source": [
    "# Prepare linear ACE dataset"
   ],
   "metadata": {
    "collapsed": false
   },
   "id": "d46bcba182d31d70"
  },
  {
   "cell_type": "code",
   "execution_count": 11,
   "outputs": [],
   "source": [
    "train_ds = LinearACEDataset(bconf, df_train)\n",
    "test_ds = LinearACEDataset(bconf, df_test)"
   ],
   "metadata": {
    "collapsed": false,
    "ExecuteTime": {
     "end_time": "2023-11-07T10:07:40.045210900Z",
     "start_time": "2023-11-07T10:07:39.724082400Z"
    }
   },
   "id": "b621743a4b07a44a"
  },
  {
   "cell_type": "markdown",
   "source": [
    "Construct design matrix for train and test, by default - in parallel with 4 workers/processes. \n",
    "Set verbose=False to suppress output"
   ],
   "metadata": {
    "collapsed": false
   },
   "id": "de640c573f2eb98"
  },
  {
   "cell_type": "code",
   "execution_count": 12,
   "outputs": [],
   "source": [
    "train_ds.construct_design_matrix(verbose=True, max_workers=8)\n",
    "test_ds.construct_design_matrix(verbose=True, max_workers=8)"
   ],
   "metadata": {
    "collapsed": false,
    "ExecuteTime": {
     "end_time": "2023-11-07T10:07:59.630234200Z",
     "start_time": "2023-11-07T10:07:41.949677700Z"
    }
   },
   "id": "3475bfb1e3a4121c"
  },
  {
   "cell_type": "markdown",
   "source": [
    "Create linear ACE fit class, provide train dataset"
   ],
   "metadata": {
    "collapsed": false
   },
   "id": "5524970aefc8a659"
  },
  {
   "cell_type": "code",
   "execution_count": 13,
   "outputs": [],
   "source": [
    "linear_fit = LinearACEFit(train_dataset=train_ds)"
   ],
   "metadata": {
    "collapsed": false,
    "ExecuteTime": {
     "end_time": "2023-11-07T10:07:59.977092100Z",
     "start_time": "2023-11-07T10:07:59.630234200Z"
    }
   },
   "id": "e5aada8636e9210f"
  },
  {
   "cell_type": "markdown",
   "source": [
    "Call fit method, by default it uses Ridge from sklearn"
   ],
   "metadata": {
    "collapsed": false
   },
   "id": "2c78b6b0753308af"
  },
  {
   "cell_type": "code",
   "execution_count": 14,
   "outputs": [
    {
     "data": {
      "text/plain": "Ridge(alpha=1e-05, copy_X=False, fit_intercept=False, random_state=42)",
      "text/html": "<style>#sk-container-id-1 {color: black;}#sk-container-id-1 pre{padding: 0;}#sk-container-id-1 div.sk-toggleable {background-color: white;}#sk-container-id-1 label.sk-toggleable__label {cursor: pointer;display: block;width: 100%;margin-bottom: 0;padding: 0.3em;box-sizing: border-box;text-align: center;}#sk-container-id-1 label.sk-toggleable__label-arrow:before {content: \"▸\";float: left;margin-right: 0.25em;color: #696969;}#sk-container-id-1 label.sk-toggleable__label-arrow:hover:before {color: black;}#sk-container-id-1 div.sk-estimator:hover label.sk-toggleable__label-arrow:before {color: black;}#sk-container-id-1 div.sk-toggleable__content {max-height: 0;max-width: 0;overflow: hidden;text-align: left;background-color: #f0f8ff;}#sk-container-id-1 div.sk-toggleable__content pre {margin: 0.2em;color: black;border-radius: 0.25em;background-color: #f0f8ff;}#sk-container-id-1 input.sk-toggleable__control:checked~div.sk-toggleable__content {max-height: 200px;max-width: 100%;overflow: auto;}#sk-container-id-1 input.sk-toggleable__control:checked~label.sk-toggleable__label-arrow:before {content: \"▾\";}#sk-container-id-1 div.sk-estimator input.sk-toggleable__control:checked~label.sk-toggleable__label {background-color: #d4ebff;}#sk-container-id-1 div.sk-label input.sk-toggleable__control:checked~label.sk-toggleable__label {background-color: #d4ebff;}#sk-container-id-1 input.sk-hidden--visually {border: 0;clip: rect(1px 1px 1px 1px);clip: rect(1px, 1px, 1px, 1px);height: 1px;margin: -1px;overflow: hidden;padding: 0;position: absolute;width: 1px;}#sk-container-id-1 div.sk-estimator {font-family: monospace;background-color: #f0f8ff;border: 1px dotted black;border-radius: 0.25em;box-sizing: border-box;margin-bottom: 0.5em;}#sk-container-id-1 div.sk-estimator:hover {background-color: #d4ebff;}#sk-container-id-1 div.sk-parallel-item::after {content: \"\";width: 100%;border-bottom: 1px solid gray;flex-grow: 1;}#sk-container-id-1 div.sk-label:hover label.sk-toggleable__label {background-color: #d4ebff;}#sk-container-id-1 div.sk-serial::before {content: \"\";position: absolute;border-left: 1px solid gray;box-sizing: border-box;top: 0;bottom: 0;left: 50%;z-index: 0;}#sk-container-id-1 div.sk-serial {display: flex;flex-direction: column;align-items: center;background-color: white;padding-right: 0.2em;padding-left: 0.2em;position: relative;}#sk-container-id-1 div.sk-item {position: relative;z-index: 1;}#sk-container-id-1 div.sk-parallel {display: flex;align-items: stretch;justify-content: center;background-color: white;position: relative;}#sk-container-id-1 div.sk-item::before, #sk-container-id-1 div.sk-parallel-item::before {content: \"\";position: absolute;border-left: 1px solid gray;box-sizing: border-box;top: 0;bottom: 0;left: 50%;z-index: -1;}#sk-container-id-1 div.sk-parallel-item {display: flex;flex-direction: column;z-index: 1;position: relative;background-color: white;}#sk-container-id-1 div.sk-parallel-item:first-child::after {align-self: flex-end;width: 50%;}#sk-container-id-1 div.sk-parallel-item:last-child::after {align-self: flex-start;width: 50%;}#sk-container-id-1 div.sk-parallel-item:only-child::after {width: 0;}#sk-container-id-1 div.sk-dashed-wrapped {border: 1px dashed gray;margin: 0 0.4em 0.5em 0.4em;box-sizing: border-box;padding-bottom: 0.4em;background-color: white;}#sk-container-id-1 div.sk-label label {font-family: monospace;font-weight: bold;display: inline-block;line-height: 1.2em;}#sk-container-id-1 div.sk-label-container {text-align: center;}#sk-container-id-1 div.sk-container {/* jupyter's `normalize.less` sets `[hidden] { display: none; }` but bootstrap.min.css set `[hidden] { display: none !important; }` so we also need the `!important` here to be able to override the default hidden behavior on the sphinx rendered scikit-learn.org. See: https://github.com/scikit-learn/scikit-learn/issues/21755 */display: inline-block !important;position: relative;}#sk-container-id-1 div.sk-text-repr-fallback {display: none;}</style><div id=\"sk-container-id-1\" class=\"sk-top-container\"><div class=\"sk-text-repr-fallback\"><pre>Ridge(alpha=1e-05, copy_X=False, fit_intercept=False, random_state=42)</pre><b>In a Jupyter environment, please rerun this cell to show the HTML representation or trust the notebook. <br />On GitHub, the HTML representation is unable to render, please try loading this page with nbviewer.org.</b></div><div class=\"sk-container\" hidden><div class=\"sk-item\"><div class=\"sk-estimator sk-toggleable\"><input class=\"sk-toggleable__control sk-hidden--visually\" id=\"sk-estimator-id-1\" type=\"checkbox\" checked><label for=\"sk-estimator-id-1\" class=\"sk-toggleable__label sk-toggleable__label-arrow\">Ridge</label><div class=\"sk-toggleable__content\"><pre>Ridge(alpha=1e-05, copy_X=False, fit_intercept=False, random_state=42)</pre></div></div></div></div></div>"
     },
     "execution_count": 14,
     "metadata": {},
     "output_type": "execute_result"
    }
   ],
   "source": [
    "linear_fit.fit()"
   ],
   "metadata": {
    "collapsed": false,
    "ExecuteTime": {
     "end_time": "2023-11-07T10:08:02.787674800Z",
     "start_time": "2023-11-07T10:07:59.977092100Z"
    }
   },
   "id": "c66e56bed917a85b"
  },
  {
   "cell_type": "markdown",
   "source": [
    "Compute error metrics on train and test (in eV/atom and eV/A)"
   ],
   "metadata": {
    "collapsed": false
   },
   "id": "13e5a3a00284094a"
  },
  {
   "cell_type": "code",
   "execution_count": 15,
   "outputs": [
    {
     "data": {
      "text/plain": "{'epa_mae': 4.949501871574124,\n 'epa_rmse': 4.949545207951954,\n 'f_comp_mae': 0.8584654056412443,\n 'f_comp_rmse': 1.1733577155363832}"
     },
     "execution_count": 15,
     "metadata": {},
     "output_type": "execute_result"
    }
   ],
   "source": [
    "linear_fit.compute_errors(train_ds)"
   ],
   "metadata": {
    "collapsed": false,
    "ExecuteTime": {
     "end_time": "2023-11-07T10:08:02.933265600Z",
     "start_time": "2023-11-07T10:08:02.787674800Z"
    }
   },
   "id": "7ebaef008ef9bd7"
  },
  {
   "cell_type": "code",
   "execution_count": 16,
   "outputs": [
    {
     "data": {
      "text/plain": "{'epa_mae': 4.9470586543221575,\n 'epa_rmse': 4.947103056023621,\n 'f_comp_mae': 0.8874850802775792,\n 'f_comp_rmse': 1.2105368917406725}"
     },
     "execution_count": 16,
     "metadata": {},
     "output_type": "execute_result"
    }
   ],
   "source": [
    "linear_fit.compute_errors(test_ds)"
   ],
   "metadata": {
    "collapsed": false,
    "ExecuteTime": {
     "end_time": "2023-11-07T10:08:02.948270600Z",
     "start_time": "2023-11-07T10:08:02.933265600Z"
    }
   },
   "id": "a5082a3575314939"
  },
  {
   "cell_type": "markdown",
   "source": [
    "## Trained basis export and usage\n",
    "Get fitted basis and use in PyACECalculator"
   ],
   "metadata": {
    "collapsed": false
   },
   "id": "9c0cf84095865c2"
  },
  {
   "cell_type": "code",
   "execution_count": 20,
   "outputs": [
    {
     "data": {
      "text/plain": "<pyace.linearacefit.LinearACEFit at 0x24bfcc1eb20>"
     },
     "execution_count": 20,
     "metadata": {},
     "output_type": "execute_result"
    }
   ],
   "source": [
    "linear_fit"
   ],
   "metadata": {
    "collapsed": false,
    "ExecuteTime": {
     "end_time": "2023-11-07T10:11:04.693160Z",
     "start_time": "2023-11-07T10:10:51.518855400Z"
    }
   },
   "id": "d1bb41439d810c64"
  },
  {
   "cell_type": "code",
   "execution_count": 23,
   "outputs": [
    {
     "ename": "KeyboardInterrupt",
     "evalue": "",
     "output_type": "error",
     "traceback": [
      "\u001B[1;31m---------------------------------------------------------------------------\u001B[0m",
      "\u001B[1;31mKeyboardInterrupt\u001B[0m                         Traceback (most recent call last)",
      "Cell \u001B[1;32mIn[23], line 1\u001B[0m\n\u001B[1;32m----> 1\u001B[0m basis \u001B[38;5;241m=\u001B[39m \u001B[43mlinear_fit\u001B[49m\u001B[38;5;241m.\u001B[39mget_bbasis()\n\u001B[0;32m      2\u001B[0m calc \u001B[38;5;241m=\u001B[39m PyACECalculator(basis)\n\u001B[0;32m      3\u001B[0m e_pred, f_pred \u001B[38;5;241m=\u001B[39m linear_fit\u001B[38;5;241m.\u001B[39mpredict(test_ds, reshape_forces\u001B[38;5;241m=\u001B[39m\u001B[38;5;28;01mTrue\u001B[39;00m)\n",
      "Cell \u001B[1;32mIn[23], line 1\u001B[0m\n\u001B[1;32m----> 1\u001B[0m basis \u001B[38;5;241m=\u001B[39m \u001B[43mlinear_fit\u001B[49m\u001B[38;5;241m.\u001B[39mget_bbasis()\n\u001B[0;32m      2\u001B[0m calc \u001B[38;5;241m=\u001B[39m PyACECalculator(basis)\n\u001B[0;32m      3\u001B[0m e_pred, f_pred \u001B[38;5;241m=\u001B[39m linear_fit\u001B[38;5;241m.\u001B[39mpredict(test_ds, reshape_forces\u001B[38;5;241m=\u001B[39m\u001B[38;5;28;01mTrue\u001B[39;00m)\n",
      "File \u001B[1;32m_pydevd_bundle\\pydevd_cython_win32_39_64.pyx:1179\u001B[0m, in \u001B[0;36m_pydevd_bundle.pydevd_cython_win32_39_64.SafeCallWrapper.__call__\u001B[1;34m()\u001B[0m\n",
      "File \u001B[1;32m_pydevd_bundle\\pydevd_cython_win32_39_64.pyx:620\u001B[0m, in \u001B[0;36m_pydevd_bundle.pydevd_cython_win32_39_64.PyDBFrame.trace_dispatch\u001B[1;34m()\u001B[0m\n",
      "File \u001B[1;32m_pydevd_bundle\\pydevd_cython_win32_39_64.pyx:929\u001B[0m, in \u001B[0;36m_pydevd_bundle.pydevd_cython_win32_39_64.PyDBFrame.trace_dispatch\u001B[1;34m()\u001B[0m\n",
      "File \u001B[1;32m_pydevd_bundle\\pydevd_cython_win32_39_64.pyx:920\u001B[0m, in \u001B[0;36m_pydevd_bundle.pydevd_cython_win32_39_64.PyDBFrame.trace_dispatch\u001B[1;34m()\u001B[0m\n",
      "File \u001B[1;32m_pydevd_bundle\\pydevd_cython_win32_39_64.pyx:317\u001B[0m, in \u001B[0;36m_pydevd_bundle.pydevd_cython_win32_39_64.PyDBFrame.do_wait_suspend\u001B[1;34m()\u001B[0m\n",
      "File \u001B[1;32mC:\\Program Files\\JetBrains\\PyCharm 2023.2.3\\plugins\\python\\helpers\\pydev\\pydevd.py:1160\u001B[0m, in \u001B[0;36mPyDB.do_wait_suspend\u001B[1;34m(self, thread, frame, event, arg, send_suspend_message, is_unhandled_exception)\u001B[0m\n\u001B[0;32m   1157\u001B[0m         from_this_thread\u001B[38;5;241m.\u001B[39mappend(frame_id)\n\u001B[0;32m   1159\u001B[0m \u001B[38;5;28;01mwith\u001B[39;00m \u001B[38;5;28mself\u001B[39m\u001B[38;5;241m.\u001B[39m_threads_suspended_single_notification\u001B[38;5;241m.\u001B[39mnotify_thread_suspended(thread_id, stop_reason):\n\u001B[1;32m-> 1160\u001B[0m     \u001B[38;5;28;43mself\u001B[39;49m\u001B[38;5;241;43m.\u001B[39;49m\u001B[43m_do_wait_suspend\u001B[49m\u001B[43m(\u001B[49m\u001B[43mthread\u001B[49m\u001B[43m,\u001B[49m\u001B[43m \u001B[49m\u001B[43mframe\u001B[49m\u001B[43m,\u001B[49m\u001B[43m \u001B[49m\u001B[43mevent\u001B[49m\u001B[43m,\u001B[49m\u001B[43m \u001B[49m\u001B[43marg\u001B[49m\u001B[43m,\u001B[49m\u001B[43m \u001B[49m\u001B[43msuspend_type\u001B[49m\u001B[43m,\u001B[49m\u001B[43m \u001B[49m\u001B[43mfrom_this_thread\u001B[49m\u001B[43m)\u001B[49m\n",
      "File \u001B[1;32mC:\\Program Files\\JetBrains\\PyCharm 2023.2.3\\plugins\\python\\helpers\\pydev\\pydevd.py:1175\u001B[0m, in \u001B[0;36mPyDB._do_wait_suspend\u001B[1;34m(self, thread, frame, event, arg, suspend_type, from_this_thread)\u001B[0m\n\u001B[0;32m   1172\u001B[0m             \u001B[38;5;28mself\u001B[39m\u001B[38;5;241m.\u001B[39m_call_mpl_hook()\n\u001B[0;32m   1174\u001B[0m         \u001B[38;5;28mself\u001B[39m\u001B[38;5;241m.\u001B[39mprocess_internal_commands()\n\u001B[1;32m-> 1175\u001B[0m         \u001B[43mtime\u001B[49m\u001B[38;5;241;43m.\u001B[39;49m\u001B[43msleep\u001B[49m\u001B[43m(\u001B[49m\u001B[38;5;241;43m0.01\u001B[39;49m\u001B[43m)\u001B[49m\n\u001B[0;32m   1177\u001B[0m \u001B[38;5;28mself\u001B[39m\u001B[38;5;241m.\u001B[39mcancel_async_evaluation(get_current_thread_id(thread), \u001B[38;5;28mstr\u001B[39m(\u001B[38;5;28mid\u001B[39m(frame)))\n\u001B[0;32m   1179\u001B[0m \u001B[38;5;66;03m# process any stepping instructions\u001B[39;00m\n",
      "\u001B[1;31mKeyboardInterrupt\u001B[0m: "
     ]
    }
   ],
   "source": [
    "basis = linear_fit.get_bbasis()\n",
    "calc = PyACECalculator(basis)\n",
    "e_pred, f_pred = linear_fit.predict(test_ds, reshape_forces=True)\n",
    "e_pred"
   ],
   "metadata": {
    "collapsed": false,
    "ExecuteTime": {
     "end_time": "2023-11-07T10:13:12.101504700Z",
     "start_time": "2023-11-07T10:12:02.943147Z"
    }
   },
   "id": "7de62a28d6ea00e6"
  },
  {
   "cell_type": "code",
   "execution_count": null,
   "outputs": [],
   "source": [],
   "metadata": {
    "collapsed": false
   },
   "id": "54696edb3c6ae71a"
  },
  {
   "cell_type": "code",
   "execution_count": null,
   "outputs": [],
   "source": [],
   "metadata": {
    "collapsed": false
   },
   "id": "e9f9635b78eb8619"
  },
  {
   "cell_type": "code",
   "execution_count": null,
   "outputs": [],
   "source": [],
   "metadata": {
    "collapsed": false
   },
   "id": "6180bb9f2ecc3180"
  },
  {
   "cell_type": "code",
   "execution_count": null,
   "outputs": [],
   "source": [],
   "metadata": {
    "collapsed": false
   },
   "id": "55e985c8e6a01165"
  }
 ],
 "metadata": {
  "kernelspec": {
   "display_name": "Python 3",
   "language": "python",
   "name": "python3"
  },
  "language_info": {
   "codemirror_mode": {
    "name": "ipython",
    "version": 2
   },
   "file_extension": ".py",
   "mimetype": "text/x-python",
   "name": "python",
   "nbconvert_exporter": "python",
   "pygments_lexer": "ipython2",
   "version": "2.7.6"
  }
 },
 "nbformat": 4,
 "nbformat_minor": 5
}
